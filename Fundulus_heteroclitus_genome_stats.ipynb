{
 "cells": [
  {
   "cell_type": "markdown",
   "metadata": {},
   "source": [
    "Fundulus heteroclitus reference genome stats\n",
    "============"
   ]
  },
  {
   "cell_type": "markdown",
   "metadata": {},
   "source": [
    "Lisa K. Johnson"
   ]
  },
  {
   "cell_type": "markdown",
   "metadata": {},
   "source": [
    "We have two versions of the *Fundulus heteroclitus* genome:\n",
    "* [NCBI](https://www.ncbi.nlm.nih.gov/genome/?term=txid8078[orgn])\n",
    "* [Don Gilbert (Indian University), EvidentialGene](http://arthropods.eugenes.org/EvidentialGene/killifish/)\n",
    "\n",
    "**Question: What genes are in common, which are unique?**"
   ]
  },
  {
   "cell_type": "markdown",
   "metadata": {},
   "source": [
    "Notes:\n",
    "* [GFF files for refseq and GenBank](https://whiteheadresearch.wordpress.com/protocols/)\n",
    "* [NCBI](https://www.ncbi.nlm.nih.gov/genome/743)\n",
    "* Refseq: ftp://ftp.ncbi.nlm.nih.gov/genomes/all/GCA/000/826/765/GCA_000826765.1_Fundulus_heteroclitus-3.0.2\n",
    "* GenBank: ftp://ftp.ncbi.nlm.nih.gov/genomes/Fundulus_heteroclitus/\n",
    "* I made a repository in [OSF](https://osf.io/p7h4f/) for files from the [Whitehead lab website](https://whiteheadresearch.wordpress.com/protocols/) so they can be easily downloaded from the commandline:\n",
    "[Fundulus_heteroclitus_genome_files](https://osf.io/p7h4f/)"
   ]
  },
  {
   "cell_type": "markdown",
   "metadata": {},
   "source": [
    "# Download files"
   ]
  },
  {
   "cell_type": "code",
   "execution_count": 3,
   "metadata": {},
   "outputs": [
    {
     "name": "stdout",
     "output_type": "stream",
     "text": [
      "mkdir: ../tmp_Fhet_files/: File exists\r\n"
     ]
    }
   ],
   "source": [
    "#!mkdir ../tmp_Fhet_files/"
   ]
  },
  {
   "cell_type": "code",
   "execution_count": 5,
   "metadata": {},
   "outputs": [
    {
     "name": "stdout",
     "output_type": "stream",
     "text": [
      "--2018-04-23 11:07:14--  ftp://ftp.ncbi.nlm.nih.gov/genomes/all/GCF/000/826/765/GCF_000826765.1_Fundulus_heteroclitus-3.0.2/GCF_000826765.1_Fundulus_heteroclitus-3.0.2_rna.fna.gz\n",
      "           => '../tmp_Fhet_files/GCF_000826765.1_Fundulus_heteroclitus-3.0.2_rna.fna.gz'\n",
      "Resolving ftp.ncbi.nlm.nih.gov... 165.112.9.229\n",
      "Connecting to ftp.ncbi.nlm.nih.gov|165.112.9.229|:21... connected.\n",
      "Logging in as anonymous ... Logged in!\n",
      "==> SYST ... done.    ==> PWD ... done.\n",
      "==> TYPE I ... done.  ==> CWD (1) /genomes/all/GCF/000/826/765/GCF_000826765.1_Fundulus_heteroclitus-3.0.2 ... done.\n",
      "==> SIZE GCF_000826765.1_Fundulus_heteroclitus-3.0.2_rna.fna.gz ... 30813703\n",
      "==> PASV ... done.    ==> RETR GCF_000826765.1_Fundulus_heteroclitus-3.0.2_rna.fna.gz ... done.\n",
      "Length: 30813703 (29M) (unauthoritative)\n",
      "\n",
      "GCF_000826765.1_Fun 100%[===================>]  29.39M  3.12MB/s    in 16s     \n",
      "\n",
      "2018-04-23 11:07:32 (1.82 MB/s) - '../tmp_Fhet_files/GCF_000826765.1_Fundulus_heteroclitus-3.0.2_rna.fna.gz' saved [30813703]\n",
      "\n",
      "--2018-04-23 11:07:33--  ftp://ftp.ncbi.nlm.nih.gov/genomes/all/GCF/000/826/765/GCF_000826765.1_Fundulus_heteroclitus-3.0.2/GCF_000826765.1_Fundulus_heteroclitus-3.0.2_genomic.gff.gz\n",
      "           => '../tmp_Fhet_files/GCF_000826765.1_Fundulus_heteroclitus-3.0.2_genomic.gff.gz'\n",
      "Resolving ftp.ncbi.nlm.nih.gov... 165.112.9.229\n",
      "Connecting to ftp.ncbi.nlm.nih.gov|165.112.9.229|:21... connected.\n",
      "Logging in as anonymous ... Logged in!\n",
      "==> SYST ... done.    ==> PWD ... done.\n",
      "==> TYPE I ... done.  ==> CWD (1) /genomes/all/GCF/000/826/765/GCF_000826765.1_Fundulus_heteroclitus-3.0.2 ... done.\n",
      "==> SIZE GCF_000826765.1_Fundulus_heteroclitus-3.0.2_genomic.gff.gz ... 14357190\n",
      "==> PASV ... done.    ==> RETR GCF_000826765.1_Fundulus_heteroclitus-3.0.2_genomic.gff.gz ... done.\n",
      "Length: 14357190 (14M) (unauthoritative)\n",
      "\n",
      "GCF_000826765.1_Fun 100%[===================>]  13.69M  3.06MB/s    in 5.7s    \n",
      "\n",
      "2018-04-23 11:07:39 (2.39 MB/s) - '../tmp_Fhet_files/GCF_000826765.1_Fundulus_heteroclitus-3.0.2_genomic.gff.gz' saved [14357190]\n",
      "\n",
      "--2018-04-23 11:07:41--  ftp://ftp.ncbi.nlm.nih.gov/genomes/Fundulus_heteroclitus/RNA/rna.fa.gz\n",
      "           => '../tmp_Fhet_files/NCBI.rna.fa.gz'\n",
      "Resolving ftp.ncbi.nlm.nih.gov... 165.112.9.229\n",
      "Connecting to ftp.ncbi.nlm.nih.gov|165.112.9.229|:21... connected.\n",
      "Logging in as anonymous ... Logged in!\n",
      "==> SYST ... done.    ==> PWD ... done.\n",
      "==> TYPE I ... done.  ==> CWD (1) /genomes/Fundulus_heteroclitus/RNA ... done.\n",
      "==> SIZE rna.fa.gz ... 27309454\n",
      "==> PASV ... done.    ==> RETR rna.fa.gz ... done.\n",
      "Length: 27309454 (26M) (unauthoritative)\n",
      "\n",
      "rna.fa.gz           100%[===================>]  26.04M  3.22MB/s    in 10s     \n",
      "\n",
      "2018-04-23 11:07:52 (2.49 MB/s) - '../tmp_Fhet_files/NCBI.rna.fa.gz' saved [27309454]\n",
      "\n",
      "--2018-04-23 11:07:53--  ftp://ftp.ncbi.nlm.nih.gov/genomes/Fundulus_heteroclitus/GFF/ref_Fundulus_heteroclitus-3.0.2_top_level.gff3.gz\n",
      "           => '../tmp_Fhet_files/ref_Fundulus_heteroclitus-3.0.2_top_level.gff3.gz'\n",
      "Resolving ftp.ncbi.nlm.nih.gov... 130.14.250.7\n",
      "Connecting to ftp.ncbi.nlm.nih.gov|130.14.250.7|:21... connected.\n",
      "Logging in as anonymous ... Logged in!\n",
      "==> SYST ... done.    ==> PWD ... done.\n",
      "==> TYPE I ... done.  ==> CWD (1) /genomes/Fundulus_heteroclitus/GFF ... done.\n",
      "==> SIZE ref_Fundulus_heteroclitus-3.0.2_top_level.gff3.gz ... 14356640\n",
      "==> PASV ... done.    ==> RETR ref_Fundulus_heteroclitus-3.0.2_top_level.gff3.gz ... done.\n",
      "Length: 14356640 (14M) (unauthoritative)\n",
      "\n",
      "ref_Fundulus_hetero 100%[===================>]  13.69M  3.03MB/s    in 6.0s    \n",
      "\n",
      "2018-04-23 11:08:00 (2.28 MB/s) - '../tmp_Fhet_files/ref_Fundulus_heteroclitus-3.0.2_top_level.gff3.gz' saved [14356640]\n",
      "\n",
      "--2018-04-23 11:08:02--  http://arthropods.eugenes.org/EvidentialGene/killifish/Genes/kfish2rae5/kfish2rae5g.main.pub.mrna.gz\n",
      "Resolving arthropods.eugenes.org... 129.79.224.149\n",
      "Connecting to arthropods.eugenes.org|129.79.224.149|:80... connected.\n",
      "HTTP request sent, awaiting response... 200 OK\n",
      "Length: 31603112 (30M) [text/plain]\n",
      "Saving to: '../tmp_Fhet_files/kfish2rae5g.main.pub.mrna.gz'\n",
      "\n",
      "../tmp_Fhet_files/k 100%[===================>]  30.14M  9.58MB/s    in 3.7s    \n",
      "\n",
      "2018-04-23 11:08:06 (8.20 MB/s) - '../tmp_Fhet_files/kfish2rae5g.main.pub.mrna.gz' saved [31603112/31603112]\n",
      "\n",
      "--2018-04-23 11:08:07--  http://arthropods.eugenes.org/EvidentialGene/killifish/Genes/kfish2rae5/kfish2rae5g.alt.pub.mrna.gz\n",
      "Resolving arthropods.eugenes.org... 129.79.224.149\n",
      "Connecting to arthropods.eugenes.org|129.79.224.149|:80... connected.\n",
      "HTTP request sent, awaiting response... 200 OK\n",
      "Length: 65393392 (62M) [text/plain]\n",
      "Saving to: '../tmp_Fhet_files/kfish2rae5g.alt.pub.mrna.gz'\n",
      "\n",
      "../tmp_Fhet_files/k 100%[===================>]  62.36M  10.6MB/s    in 6.6s    \n",
      "\n",
      "2018-04-23 11:08:13 (9.40 MB/s) - '../tmp_Fhet_files/kfish2rae5g.alt.pub.mrna.gz' saved [65393392/65393392]\n",
      "\n",
      "--2018-04-23 11:08:15--  https://osf.io/xwzqj/download\n",
      "Resolving osf.io... 35.190.84.173\n",
      "Connecting to osf.io|35.190.84.173|:443... connected.\n",
      "HTTP request sent, awaiting response... 302 FOUND\n",
      "Location: https://files.osf.io/v1/resources/p7h4f/providers/osfstorage/5ad7b754b33be40012abeee8?action=download&version=1&direct [following]\n",
      "--2018-04-23 11:08:16--  https://files.osf.io/v1/resources/p7h4f/providers/osfstorage/5ad7b754b33be40012abeee8?action=download&version=1&direct\n",
      "Resolving files.osf.io... 104.239.182.178\n",
      "Connecting to files.osf.io|104.239.182.178|:443... connected.\n",
      "HTTP request sent, awaiting response... 200 OK\n",
      "Length: 292178180 (279M) [application/octet-stream]\n",
      "Saving to: '../tmp_Fhet_files/kfish2rae5g.mrna.combined.fa'\n",
      "\n",
      "../tmp_Fhet_files/k 100%[===================>] 278.64M  7.54MB/s    in 36s     \n",
      "\n",
      "2018-04-23 11:09:14 (7.80 MB/s) - '../tmp_Fhet_files/kfish2rae5g.mrna.combined.fa' saved [292178180/292178180]\n",
      "\n",
      "--2018-04-23 11:09:15--  http://arthropods.eugenes.org/EvidentialGene/killifish/Genes/kfish2rae5/kfish2rae5g.main.pub.gff.gz\n",
      "Resolving arthropods.eugenes.org... 129.79.224.149\n",
      "Connecting to arthropods.eugenes.org|129.79.224.149|:80... connected.\n",
      "HTTP request sent, awaiting response... 200 OK\n",
      "Length: 11625116 (11M) [text/plain]\n",
      "Saving to: '../tmp_Fhet_files/kfish2rae5g.main.pub.gff.gz'\n",
      "\n",
      "../tmp_Fhet_files/k 100%[===================>]  11.09M  6.23MB/s    in 1.8s    \n",
      "\n",
      "2018-04-23 11:09:17 (6.23 MB/s) - '../tmp_Fhet_files/kfish2rae5g.main.pub.gff.gz' saved [11625116/11625116]\n",
      "\n",
      "--2018-04-23 11:09:17--  http://arthropods.eugenes.org/EvidentialGene/killifish/Genes/kfish2rae5/kfish2rae5g.alt.pub.gff.gz\n",
      "Resolving arthropods.eugenes.org... 129.79.224.149\n",
      "Connecting to arthropods.eugenes.org|129.79.224.149|:80... connected.\n",
      "HTTP request sent, awaiting response... 200 OK\n",
      "Length: 20432543 (19M) [text/plain]\n",
      "Saving to: '../tmp_Fhet_files/kfish2rae5g.alt.pub.gff.gz'\n",
      "\n",
      "../tmp_Fhet_files/k 100%[===================>]  19.49M  7.51MB/s    in 2.6s    \n",
      "\n",
      "2018-04-23 11:09:20 (7.51 MB/s) - '../tmp_Fhet_files/kfish2rae5g.alt.pub.gff.gz' saved [20432543/20432543]\n",
      "\n",
      "--2018-04-23 11:09:21--  https://osf.io/734fu/download\n",
      "Resolving osf.io... 35.190.84.173\n",
      "Connecting to osf.io|35.190.84.173|:443... connected.\n",
      "HTTP request sent, awaiting response... 302 FOUND\n",
      "Location: https://files.osf.io/v1/resources/p7h4f/providers/osfstorage/5ad7b6edb33be40010abe23c?action=download&version=1&direct [following]\n",
      "--2018-04-23 11:09:21--  https://files.osf.io/v1/resources/p7h4f/providers/osfstorage/5ad7b6edb33be40010abe23c?action=download&version=1&direct\n",
      "Resolving files.osf.io... 104.239.182.178\n",
      "Connecting to files.osf.io|104.239.182.178|:443... connected.\n",
      "HTTP request sent, awaiting response... 200 OK\n",
      "Length: 345573848 (330M) [application/octet-stream]\n",
      "Saving to: '../tmp_Fhet_files/heteroclitus_refseq_GBE_2017-05-12.gff'\n",
      "\n",
      "../tmp_Fhet_files/h 100%[===================>] 329.56M  6.68MB/s    in 2m 36s  \n",
      "\n",
      "2018-04-23 11:12:07 (2.11 MB/s) - '../tmp_Fhet_files/heteroclitus_refseq_GBE_2017-05-12.gff' saved [345573848/345573848]\n",
      "\n",
      "--2018-04-23 11:12:07--  https://osf.io/dxenz/download\n",
      "Resolving osf.io... 35.190.84.173\n",
      "Connecting to osf.io|35.190.84.173|:443... connected.\n",
      "HTTP request sent, awaiting response... 302 FOUND\n",
      "Location: https://files.osf.io/v1/resources/p7h4f/providers/osfstorage/5ad7b6d7b33be40013abe0c7?action=download&version=1&direct [following]\n",
      "--2018-04-23 11:12:07--  https://files.osf.io/v1/resources/p7h4f/providers/osfstorage/5ad7b6d7b33be40013abe0c7?action=download&version=1&direct\n",
      "Resolving files.osf.io... 104.239.182.178\n"
     ]
    },
    {
     "name": "stdout",
     "output_type": "stream",
     "text": [
      "Connecting to files.osf.io|104.239.182.178|:443... connected.\n",
      "HTTP request sent, awaiting response... 200 OK\n",
      "Length: 336880922 (321M) [application/octet-stream]\n",
      "Saving to: '../tmp_Fhet_files/heteroclitus_genbank_GBE_2017-05-12.gff'\n",
      "\n",
      "../tmp_Fhet_files/h 100%[===================>] 321.27M  7.64MB/s    in 59s     \n",
      "\n",
      "2018-04-23 11:13:08 (5.43 MB/s) - '../tmp_Fhet_files/heteroclitus_genbank_GBE_2017-05-12.gff' saved [336880922/336880922]\n",
      "\n"
     ]
    }
   ],
   "source": [
    "#!wget -O ../tmp_Fhet_files/GCF_000826765.1_Fundulus_heteroclitus-3.0.2_rna.fna.gz ftp://ftp.ncbi.nlm.nih.gov/genomes/all/GCF/000/826/765/GCF_000826765.1_Fundulus_heteroclitus-3.0.2/GCF_000826765.1_Fundulus_heteroclitus-3.0.2_rna.fna.gz \\\n",
    "#    && gunzip ../tmp_Fhet_files/GCF_000826765.1_Fundulus_heteroclitus-3.0.2_rna.fna.gz\n",
    "#!wget -O ../tmp_Fhet_files/GCF_000826765.1_Fundulus_heteroclitus-3.0.2_genomic.gff.gz ftp://ftp.ncbi.nlm.nih.gov/genomes/all/GCF/000/826/765/GCF_000826765.1_Fundulus_heteroclitus-3.0.2/GCF_000826765.1_Fundulus_heteroclitus-3.0.2_genomic.gff.gz \\\n",
    "#    && gunzip ../tmp_Fhet_files/GCF_000826765.1_Fundulus_heteroclitus-3.0.2_genomic.gff.gz\n",
    "#!wget -O ../tmp_Fhet_files/NCBI.rna.fa.gz ftp://ftp.ncbi.nlm.nih.gov/genomes/Fundulus_heteroclitus/RNA/rna.fa.gz \\\n",
    "#    && gunzip ../tmp_Fhet_files/NCBI.rna.fa.gz\n",
    "#!wget -O ../tmp_Fhet_files/ref_Fundulus_heteroclitus-3.0.2_top_level.gff3.gz ftp://ftp.ncbi.nlm.nih.gov/genomes/Fundulus_heteroclitus/GFF/ref_Fundulus_heteroclitus-3.0.2_top_level.gff3.gz \\\n",
    "#    && gunzip ../tmp_Fhet_files/ref_Fundulus_heteroclitus-3.0.2_top_level.gff3.gz\n",
    "#!wget -O ../tmp_Fhet_files/kfish2rae5g.main.pub.mrna.gz http://arthropods.eugenes.org/EvidentialGene/killifish/Genes/kfish2rae5/kfish2rae5g.main.pub.mrna.gz \\\n",
    "#    && gunzip ../tmp_Fhet_files/kfish2rae5g.main.pub.mrna.gz\n",
    "#!wget -O ../tmp_Fhet_files/kfish2rae5g.alt.pub.mrna.gz http://arthropods.eugenes.org/EvidentialGene/killifish/Genes/kfish2rae5/kfish2rae5g.alt.pub.mrna.gz \\\n",
    "#    && gunzip ../tmp_Fhet_files/kfish2rae5g.alt.pub.mrna.gz\n",
    "#!wget -O ../tmp_Fhet_files/kfish2rae5g.mrna.combined.fa https://osf.io/xwzqj/download\n",
    "#!wget -O ../tmp_Fhet_files/kfish2rae5g.main.pub.gff.gz http://arthropods.eugenes.org/EvidentialGene/killifish/Genes/kfish2rae5/kfish2rae5g.main.pub.gff.gz \\\n",
    "#    && gunzip ../tmp_Fhet_files/kfish2rae5g.main.pub.gff.gz\n",
    "#!wget -O ../tmp_Fhet_files/kfish2rae5g.alt.pub.gff.gz http://arthropods.eugenes.org/EvidentialGene/killifish/Genes/kfish2rae5/kfish2rae5g.alt.pub.gff.gz \\\n",
    "#    && gunzip ../tmp_Fhet_files/kfish2rae5g.alt.pub.gff.gz\n",
    "#!wget -O ../tmp_Fhet_files/heteroclitus_refseq_GBE_2017-05-12.gff https://osf.io/734fu/download\n",
    "#!wget -O ../tmp_Fhet_files/heteroclitus_genbank_GBE_2017-05-12.gff https://osf.io/dxenz/download"
   ]
  },
  {
   "cell_type": "markdown",
   "metadata": {},
   "source": [
    "# Look at the files you just downloaded:"
   ]
  },
  {
   "cell_type": "code",
   "execution_count": 105,
   "metadata": {},
   "outputs": [
    {
     "name": "stdout",
     "output_type": "stream",
     "text": [
      "total 5587320\r\n",
      "drwxr-xr-x  16 johnsolk  staff   512B Apr 24 11:43 \u001b[34m.\u001b[m\u001b[m\r\n",
      "drwxr-xr-x  32 johnsolk  staff   1.0K Apr 23 11:02 \u001b[34m..\u001b[m\u001b[m\r\n",
      "-rw-r--r--   1 johnsolk  staff   302M Apr 23 11:07 GCF_000826765.1_Fundulus_heteroclitus-3.0.2_genomic.gff\r\n",
      "-rw-r--r--   1 johnsolk  staff   130M Apr 23 11:07 GCF_000826765.1_Fundulus_heteroclitus-3.0.2_rna.fna\r\n",
      "-rw-r--r--   1 johnsolk  staff   131M Apr 23 11:07 NCBI.rna.fa\r\n",
      "-rw-r--r--@  1 johnsolk  staff   321M Apr 23 11:13 heteroclitus_genbank_GBE_2017-05-12.gff\r\n",
      "-rw-r--r--@  1 johnsolk  staff   330M Apr 23 11:12 heteroclitus_refseq_GBE_2017-05-12.gff\r\n",
      "-rw-r--r--   1 johnsolk  staff   307M Sep 13  2015 kf2sub5_fc18w.gff3\r\n",
      "-rw-r--r--@  1 johnsolk  staff   3.0M Jun  7  2016 kfish2_genequal_evgncbi.txt\r\n",
      "-rw-r--r--   1 johnsolk  staff   159M Jan  3  2014 kfish2rae5g.alt.pub.gff\r\n",
      "-rw-r--r--   1 johnsolk  staff   194M Jan  4  2014 kfish2rae5g.alt.pub.mrna\r\n",
      "-rw-r--r--   1 johnsolk  staff    60M Jan  3  2014 kfish2rae5g.main.pub.gff\r\n",
      "-rw-r--r--   1 johnsolk  staff    85M Jan  5  2014 kfish2rae5g.main.pub.mrna\r\n",
      "-rw-r--r--@  1 johnsolk  staff   279M Apr 23 11:09 kfish2rae5g.mrna.combined.fa\r\n",
      "-rw-r--r--@  1 johnsolk  staff    61M May  7  2015 kfish2rae5h_fc17_subupd4.gff3.gz\r\n",
      "-rw-r--r--   1 johnsolk  staff   302M Apr 23 11:08 ref_Fundulus_heteroclitus-3.0.2_top_level.gff3\r\n"
     ]
    }
   ],
   "source": [
    "!ls -lah ../tmp_Fhet_files/"
   ]
  },
  {
   "cell_type": "markdown",
   "metadata": {},
   "source": [
    "# Comparison Stats and Visualizations"
   ]
  },
  {
   "cell_type": "code",
   "execution_count": 6,
   "metadata": {
    "collapsed": true
   },
   "outputs": [],
   "source": [
    "import matplotlib.pyplot as plt\n",
    "from matplotlib_venn import venn2\n",
    "# requires dammit env\n",
    "# source activate dammit\n",
    "import pandas as pd\n",
    "from dammit.fileio.gff3 import GFF3Parser"
   ]
  },
  {
   "cell_type": "markdown",
   "metadata": {},
   "source": [
    "### NCBI, number of transcripts"
   ]
  },
  {
   "cell_type": "code",
   "execution_count": 7,
   "metadata": {},
   "outputs": [
    {
     "name": "stdout",
     "output_type": "stream",
     "text": [
      "41170\r\n"
     ]
    }
   ],
   "source": [
    "!grep -c \"^>\" ../tmp_Fhet_files/GCF_000826765.1_Fundulus_heteroclitus-3.0.2_rna.fna"
   ]
  },
  {
   "cell_type": "code",
   "execution_count": 8,
   "metadata": {},
   "outputs": [
    {
     "name": "stdout",
     "output_type": "stream",
     "text": [
      "41170\r\n"
     ]
    }
   ],
   "source": [
    "!grep -c \"^>\" ../tmp_Fhet_files/NCBI.rna.fa"
   ]
  },
  {
   "cell_type": "markdown",
   "metadata": {},
   "source": [
    "### Don Gilbert, number of transcripts"
   ]
  },
  {
   "cell_type": "code",
   "execution_count": 9,
   "metadata": {},
   "outputs": [
    {
     "name": "stdout",
     "output_type": "stream",
     "text": [
      "34924\r\n"
     ]
    }
   ],
   "source": [
    "!grep -c \"^>\" ../tmp_Fhet_files/kfish2rae5g.main.pub.mrna"
   ]
  },
  {
   "cell_type": "code",
   "execution_count": 10,
   "metadata": {},
   "outputs": [
    {
     "name": "stdout",
     "output_type": "stream",
     "text": [
      "75107\r\n"
     ]
    }
   ],
   "source": [
    "!grep -c \"^>\" ../tmp_Fhet_files/kfish2rae5g.alt.pub.mrna"
   ]
  },
  {
   "cell_type": "code",
   "execution_count": 11,
   "metadata": {},
   "outputs": [
    {
     "name": "stdout",
     "output_type": "stream",
     "text": [
      "110031\r\n"
     ]
    }
   ],
   "source": [
    "!grep -c \"^>\" ../tmp_Fhet_files/kfish2rae5g.mrna.combined.fa"
   ]
  },
  {
   "cell_type": "markdown",
   "metadata": {},
   "source": [
    "# Gene names"
   ]
  },
  {
   "cell_type": "code",
   "execution_count": 12,
   "metadata": {},
   "outputs": [
    {
     "name": "stderr",
     "output_type": "stream",
     "text": [
      "/Users/johnsolk/anaconda3/lib/python3.6/site-packages/dammit/fileio/gff3.py:73: ParserWarning: Both a converter and dtype were specified for column attributes - only the converter will be used\n",
      "  dtype=dict(self.columns)):\n",
      "/Users/johnsolk/anaconda3/lib/python3.6/site-packages/dammit/fileio/gff3.py:73: ParserWarning: Both a converter and dtype were specified for column attributes - only the converter will be used\n",
      "  dtype=dict(self.columns)):\n"
     ]
    }
   ],
   "source": [
    "DonGilbert_annotations_main = GFF3Parser(filename=\"../tmp_Fhet_files/kfish2rae5g.main.pub.gff\").read()"
   ]
  },
  {
   "cell_type": "code",
   "execution_count": 13,
   "metadata": {},
   "outputs": [
    {
     "name": "stdout",
     "output_type": "stream",
     "text": [
      "34925\n"
     ]
    }
   ],
   "source": [
    "print(len(pd.unique(DonGilbert_annotations_main['Parent'].dropna())))"
   ]
  },
  {
   "cell_type": "code",
   "execution_count": 14,
   "metadata": {},
   "outputs": [
    {
     "data": {
      "text/plain": [
       "Index(['Dbxref', 'ID', 'Name', 'Parent', 'Split', 'aaSize', 'cdsSize', 'end',\n",
       "       'equiv1', 'error', 'express', 'gene', 'genegroup', 'groupname',\n",
       "       'intron', 'isoform', 'mapCover', 'oid', 'oname', 'ortholog', 'paralog',\n",
       "       'phase', 'quality', 'score_x', 'score_y', 'seqid', 'source', 'start',\n",
       "       'strand', 'type'],\n",
       "      dtype='object')"
      ]
     },
     "execution_count": 14,
     "metadata": {},
     "output_type": "execute_result"
    }
   ],
   "source": [
    "DonGilbert_annotations_main.columns"
   ]
  },
  {
   "cell_type": "code",
   "execution_count": 15,
   "metadata": {},
   "outputs": [
    {
     "name": "stdout",
     "output_type": "stream",
     "text": [
      "                   gene\n",
      "0                   NaN\n",
      "1       Funhe2EKm000003\n",
      "2                   NaN\n",
      "3                   NaN\n",
      "4                   NaN\n",
      "5                   NaN\n",
      "6                   NaN\n",
      "7                   NaN\n",
      "8                   NaN\n",
      "9       Funhe2EKm000004\n",
      "10                  NaN\n",
      "11                  NaN\n",
      "12                  NaN\n",
      "13                  NaN\n",
      "14                  NaN\n",
      "15                  NaN\n",
      "16                  NaN\n",
      "17                  NaN\n",
      "18                  NaN\n",
      "19                  NaN\n",
      "20                  NaN\n",
      "21                  NaN\n",
      "22                  NaN\n",
      "23                  NaN\n",
      "24                  NaN\n",
      "25                  NaN\n",
      "26                  NaN\n",
      "27                  NaN\n",
      "28                  NaN\n",
      "29                  NaN\n",
      "...                 ...\n",
      "608658              NaN\n",
      "608659  Funhe2EKm043034\n",
      "608660              NaN\n",
      "608661              NaN\n",
      "608662  Funhe2EKm043035\n",
      "608663              NaN\n",
      "608664              NaN\n",
      "608665  Funhe2EKm043036\n",
      "608666              NaN\n",
      "608667              NaN\n",
      "608668  Funhe2EKm043037\n",
      "608669              NaN\n",
      "608670              NaN\n",
      "608671  Funhe2EKm043038\n",
      "608672              NaN\n",
      "608673              NaN\n",
      "608674  Funhe2EKm043039\n",
      "608675              NaN\n",
      "608676              NaN\n",
      "608677  Funhe2EKm043040\n",
      "608678              NaN\n",
      "608679              NaN\n",
      "608680  Funhe2EKm043041\n",
      "608681              NaN\n",
      "608682              NaN\n",
      "608683  Funhe2EKm043042\n",
      "608684              NaN\n",
      "608685              NaN\n",
      "608686  Funhe2EKm043043\n",
      "608687              NaN\n",
      "\n",
      "[608688 rows x 1 columns]\n"
     ]
    }
   ],
   "source": [
    "print(DonGilbert_annotations_main[['gene']])"
   ]
  },
  {
   "cell_type": "code",
   "execution_count": 16,
   "metadata": {
    "collapsed": true
   },
   "outputs": [],
   "source": [
    "DonGilbert_genenames_main = DonGilbert_annotations_main.dropna(subset=['ID','Name','gene']).drop_duplicates(subset='ID')[['ID','Name','gene']]"
   ]
  },
  {
   "cell_type": "code",
   "execution_count": 17,
   "metadata": {},
   "outputs": [
    {
     "name": "stdout",
     "output_type": "stream",
     "text": [
      "(34925, 3)\n"
     ]
    }
   ],
   "source": [
    "print(DonGilbert_genenames_main.shape)"
   ]
  },
  {
   "cell_type": "code",
   "execution_count": 18,
   "metadata": {},
   "outputs": [
    {
     "name": "stdout",
     "output_type": "stream",
     "text": [
      "                    ID                                               Name  \\\n",
      "1    Funhe2EKm000003t1                      Homeobox protein CDX-1 (91%P)   \n",
      "9    Funhe2EKm000004t1  Platelet-derived growth factor receptor, beta ...   \n",
      "56   Funhe2EKm000005t1  Vascular endothelial growth factor receptor kd...   \n",
      "105  Funhe2EKm000221t1       Component of oligomeric golgi complex (90%P)   \n",
      "136  Funhe2EKm000006t1                  HMG box domain containing (100%P)   \n",
      "\n",
      "                gene  \n",
      "1    Funhe2EKm000003  \n",
      "9    Funhe2EKm000004  \n",
      "56   Funhe2EKm000005  \n",
      "105  Funhe2EKm000221  \n",
      "136  Funhe2EKm000006  \n"
     ]
    }
   ],
   "source": [
    "print(DonGilbert_genenames_main.head())"
   ]
  },
  {
   "cell_type": "code",
   "execution_count": 19,
   "metadata": {},
   "outputs": [
    {
     "name": "stderr",
     "output_type": "stream",
     "text": [
      "/Users/johnsolk/anaconda3/lib/python3.6/site-packages/dammit/fileio/gff3.py:73: ParserWarning: Both a converter and dtype were specified for column attributes - only the converter will be used\n",
      "  dtype=dict(self.columns)):\n"
     ]
    }
   ],
   "source": [
    "DonGilbert_annotations_alt = GFF3Parser(filename=\"../tmp_Fhet_files/kfish2rae5g.alt.pub.gff\").read()"
   ]
  },
  {
   "cell_type": "code",
   "execution_count": 20,
   "metadata": {},
   "outputs": [
    {
     "name": "stdout",
     "output_type": "stream",
     "text": [
      "75210\n"
     ]
    }
   ],
   "source": [
    "print(len(pd.unique(DonGilbert_annotations_alt['Parent'].dropna())))"
   ]
  },
  {
   "cell_type": "code",
   "execution_count": 21,
   "metadata": {
    "collapsed": true
   },
   "outputs": [],
   "source": [
    "DonGilbert_genenames_alt = DonGilbert_annotations_alt.dropna(subset=['ID','Name','gene']).drop_duplicates(subset='ID')[['ID','Name','gene']]"
   ]
  },
  {
   "cell_type": "code",
   "execution_count": 22,
   "metadata": {},
   "outputs": [
    {
     "name": "stdout",
     "output_type": "stream",
     "text": [
      "(75228, 3)\n"
     ]
    }
   ],
   "source": [
    "print(DonGilbert_genenames_alt.shape)"
   ]
  },
  {
   "cell_type": "code",
   "execution_count": 23,
   "metadata": {},
   "outputs": [
    {
     "name": "stdout",
     "output_type": "stream",
     "text": [
      "                   ID                                               Name  \\\n",
      "1   Funhe2EKm004814t2                  60S ribosomal protein L26 (100%M)   \n",
      "9   Funhe2EKm004814t3                   60S ribosomal protein L26 (73%M)   \n",
      "17  Funhe2EKm004814t4                            Uncharacterized protein   \n",
      "29  Funhe2EKm000057t2  Down syndrome cell adhesion molecule protein D...   \n",
      "42  Funhe2EKm000057t3  Down syndrome cell adhesion molecule protein D...   \n",
      "\n",
      "               gene  \n",
      "1   Funhe2EKm004814  \n",
      "9   Funhe2EKm004814  \n",
      "17  Funhe2EKm004814  \n",
      "29  Funhe2EKm000057  \n",
      "42  Funhe2EKm000057  \n"
     ]
    }
   ],
   "source": [
    "print(DonGilbert_genenames_alt.head())"
   ]
  },
  {
   "cell_type": "code",
   "execution_count": 68,
   "metadata": {},
   "outputs": [
    {
     "name": "stderr",
     "output_type": "stream",
     "text": [
      "/Users/johnsolk/anaconda3/lib/python3.6/site-packages/dammit/fileio/gff3.py:73: ParserWarning: Both a converter and dtype were specified for column attributes - only the converter will be used\n",
      "  dtype=dict(self.columns)):\n"
     ]
    }
   ],
   "source": [
    "NCBI_annotations = GFF3Parser(filename=\"../tmp_Fhet_files/ref_Fundulus_heteroclitus-3.0.2_top_level.gff3\").read()"
   ]
  },
  {
   "cell_type": "code",
   "execution_count": 69,
   "metadata": {},
   "outputs": [
    {
     "data": {
      "text/html": [
       "<div>\n",
       "<style scoped>\n",
       "    .dataframe tbody tr th:only-of-type {\n",
       "        vertical-align: middle;\n",
       "    }\n",
       "\n",
       "    .dataframe tbody tr th {\n",
       "        vertical-align: top;\n",
       "    }\n",
       "\n",
       "    .dataframe thead th {\n",
       "        text-align: right;\n",
       "    }\n",
       "</style>\n",
       "<table border=\"1\" class=\"dataframe\">\n",
       "  <thead>\n",
       "    <tr style=\"text-align: right;\">\n",
       "      <th></th>\n",
       "      <th>Dbxref</th>\n",
       "      <th>Gap</th>\n",
       "      <th>ID</th>\n",
       "      <th>Is_circular</th>\n",
       "      <th>Name</th>\n",
       "      <th>Note</th>\n",
       "      <th>Parent</th>\n",
       "      <th>Target</th>\n",
       "      <th>anticodon</th>\n",
       "      <th>chromosome</th>\n",
       "      <th>...</th>\n",
       "      <th>splices</th>\n",
       "      <th>standard_name</th>\n",
       "      <th>start</th>\n",
       "      <th>start_range</th>\n",
       "      <th>strand</th>\n",
       "      <th>transcript_id</th>\n",
       "      <th>transl_except</th>\n",
       "      <th>transl_table</th>\n",
       "      <th>type</th>\n",
       "      <th>weighted_identity</th>\n",
       "    </tr>\n",
       "  </thead>\n",
       "  <tbody>\n",
       "    <tr>\n",
       "      <th>0</th>\n",
       "      <td>taxon:8078</td>\n",
       "      <td>NaN</td>\n",
       "      <td>id0</td>\n",
       "      <td>NaN</td>\n",
       "      <td>Unknown</td>\n",
       "      <td>NaN</td>\n",
       "      <td>NaN</td>\n",
       "      <td>NaN</td>\n",
       "      <td>NaN</td>\n",
       "      <td>Unknown</td>\n",
       "      <td>...</td>\n",
       "      <td>NaN</td>\n",
       "      <td>NaN</td>\n",
       "      <td>0</td>\n",
       "      <td>NaN</td>\n",
       "      <td>+</td>\n",
       "      <td>NaN</td>\n",
       "      <td>NaN</td>\n",
       "      <td>NaN</td>\n",
       "      <td>region</td>\n",
       "      <td>NaN</td>\n",
       "    </tr>\n",
       "    <tr>\n",
       "      <th>1</th>\n",
       "      <td>GeneID:105920463</td>\n",
       "      <td>NaN</td>\n",
       "      <td>gene0</td>\n",
       "      <td>NaN</td>\n",
       "      <td>cdx1</td>\n",
       "      <td>NaN</td>\n",
       "      <td>NaN</td>\n",
       "      <td>NaN</td>\n",
       "      <td>NaN</td>\n",
       "      <td>NaN</td>\n",
       "      <td>...</td>\n",
       "      <td>NaN</td>\n",
       "      <td>NaN</td>\n",
       "      <td>5029</td>\n",
       "      <td>NaN</td>\n",
       "      <td>-</td>\n",
       "      <td>NaN</td>\n",
       "      <td>NaN</td>\n",
       "      <td>NaN</td>\n",
       "      <td>gene</td>\n",
       "      <td>NaN</td>\n",
       "    </tr>\n",
       "    <tr>\n",
       "      <th>2</th>\n",
       "      <td>GeneID:105920463,Genbank:XM_012856390.2</td>\n",
       "      <td>NaN</td>\n",
       "      <td>rna0</td>\n",
       "      <td>NaN</td>\n",
       "      <td>XM_012856390.2</td>\n",
       "      <td>NaN</td>\n",
       "      <td>gene0</td>\n",
       "      <td>NaN</td>\n",
       "      <td>NaN</td>\n",
       "      <td>NaN</td>\n",
       "      <td>...</td>\n",
       "      <td>NaN</td>\n",
       "      <td>NaN</td>\n",
       "      <td>5029</td>\n",
       "      <td>NaN</td>\n",
       "      <td>-</td>\n",
       "      <td>XM_012856390.2</td>\n",
       "      <td>NaN</td>\n",
       "      <td>NaN</td>\n",
       "      <td>mRNA</td>\n",
       "      <td>NaN</td>\n",
       "    </tr>\n",
       "    <tr>\n",
       "      <th>3</th>\n",
       "      <td>GeneID:105920463,Genbank:XM_012856390.2</td>\n",
       "      <td>NaN</td>\n",
       "      <td>id1</td>\n",
       "      <td>NaN</td>\n",
       "      <td>NaN</td>\n",
       "      <td>NaN</td>\n",
       "      <td>rna0</td>\n",
       "      <td>NaN</td>\n",
       "      <td>NaN</td>\n",
       "      <td>NaN</td>\n",
       "      <td>...</td>\n",
       "      <td>NaN</td>\n",
       "      <td>NaN</td>\n",
       "      <td>10044</td>\n",
       "      <td>NaN</td>\n",
       "      <td>-</td>\n",
       "      <td>XM_012856390.2</td>\n",
       "      <td>NaN</td>\n",
       "      <td>NaN</td>\n",
       "      <td>exon</td>\n",
       "      <td>NaN</td>\n",
       "    </tr>\n",
       "    <tr>\n",
       "      <th>4</th>\n",
       "      <td>GeneID:105920463,Genbank:XM_012856390.2</td>\n",
       "      <td>NaN</td>\n",
       "      <td>id2</td>\n",
       "      <td>NaN</td>\n",
       "      <td>NaN</td>\n",
       "      <td>NaN</td>\n",
       "      <td>rna0</td>\n",
       "      <td>NaN</td>\n",
       "      <td>NaN</td>\n",
       "      <td>NaN</td>\n",
       "      <td>...</td>\n",
       "      <td>NaN</td>\n",
       "      <td>NaN</td>\n",
       "      <td>8334</td>\n",
       "      <td>NaN</td>\n",
       "      <td>-</td>\n",
       "      <td>XM_012856390.2</td>\n",
       "      <td>NaN</td>\n",
       "      <td>NaN</td>\n",
       "      <td>exon</td>\n",
       "      <td>NaN</td>\n",
       "    </tr>\n",
       "  </tbody>\n",
       "</table>\n",
       "<p>5 rows × 61 columns</p>\n",
       "</div>"
      ],
      "text/plain": [
       "                                    Dbxref  Gap     ID Is_circular  \\\n",
       "0                               taxon:8078  NaN    id0         NaN   \n",
       "1                         GeneID:105920463  NaN  gene0         NaN   \n",
       "2  GeneID:105920463,Genbank:XM_012856390.2  NaN   rna0         NaN   \n",
       "3  GeneID:105920463,Genbank:XM_012856390.2  NaN    id1         NaN   \n",
       "4  GeneID:105920463,Genbank:XM_012856390.2  NaN    id2         NaN   \n",
       "\n",
       "             Name Note Parent Target anticodon chromosome        ...         \\\n",
       "0         Unknown  NaN    NaN    NaN       NaN    Unknown        ...          \n",
       "1            cdx1  NaN    NaN    NaN       NaN        NaN        ...          \n",
       "2  XM_012856390.2  NaN  gene0    NaN       NaN        NaN        ...          \n",
       "3             NaN  NaN   rna0    NaN       NaN        NaN        ...          \n",
       "4             NaN  NaN   rna0    NaN       NaN        NaN        ...          \n",
       "\n",
       "  splices standard_name  start start_range  strand   transcript_id  \\\n",
       "0     NaN           NaN      0         NaN       +             NaN   \n",
       "1     NaN           NaN   5029         NaN       -             NaN   \n",
       "2     NaN           NaN   5029         NaN       -  XM_012856390.2   \n",
       "3     NaN           NaN  10044         NaN       -  XM_012856390.2   \n",
       "4     NaN           NaN   8334         NaN       -  XM_012856390.2   \n",
       "\n",
       "  transl_except transl_table    type weighted_identity  \n",
       "0           NaN          NaN  region               NaN  \n",
       "1           NaN          NaN    gene               NaN  \n",
       "2           NaN          NaN    mRNA               NaN  \n",
       "3           NaN          NaN    exon               NaN  \n",
       "4           NaN          NaN    exon               NaN  \n",
       "\n",
       "[5 rows x 61 columns]"
      ]
     },
     "execution_count": 69,
     "metadata": {},
     "output_type": "execute_result"
    }
   ],
   "source": [
    "NCBI_annotations.head()"
   ]
  },
  {
   "cell_type": "code",
   "execution_count": 70,
   "metadata": {},
   "outputs": [
    {
     "data": {
      "text/plain": [
       "Index(['Dbxref', 'Gap', 'ID', 'Is_circular', 'Name', 'Note', 'Parent',\n",
       "       'Target', 'anticodon', 'chromosome', 'codons', 'collected-by',\n",
       "       'consensus_splices', 'description', 'end', 'end_range', 'exception',\n",
       "       'exon_identity', 'for_remapping', 'gap_count', 'gbkey', 'gene',\n",
       "       'gene_biotype', 'gene_synonym', 'genome', 'identity', 'idty',\n",
       "       'inference', 'isolate', 'lat-lon', 'matches', 'model_evidence',\n",
       "       'mol_type', 'num_ident', 'num_mismatch', 'partial', 'pct_coverage',\n",
       "       'pct_coverage_hiqual', 'pct_identity_gap', 'pct_identity_ungap',\n",
       "       'phase', 'pop-variant', 'product', 'product_coverage', 'protein_id',\n",
       "       'pseudo', 'rank', 'score', 'seqid', 'sex', 'source', 'splices',\n",
       "       'standard_name', 'start', 'start_range', 'strand', 'transcript_id',\n",
       "       'transl_except', 'transl_table', 'type', 'weighted_identity'],\n",
       "      dtype='object')"
      ]
     },
     "execution_count": 70,
     "metadata": {},
     "output_type": "execute_result"
    }
   ],
   "source": [
    "NCBI_annotations.columns"
   ]
  },
  {
   "cell_type": "code",
   "execution_count": 27,
   "metadata": {
    "collapsed": true
   },
   "outputs": [],
   "source": [
    "# Andrew mentioned these are total transcripts\n",
    "# Look at number of unique proteins\n",
    "# transcript ID = \"XM_\"\n",
    "# gene ID = \"NW_\"\n",
    "# protein ID = \"XP_\""
   ]
  },
  {
   "cell_type": "code",
   "execution_count": 106,
   "metadata": {},
   "outputs": [
    {
     "name": "stdout",
     "output_type": "stream",
     "text": [
      "Number of unique scaffold ID : 10180\n",
      "Number of unique transcripts ('XM_') : 41170\n",
      "Number of unique protein ID ('XP_') : 38234\n"
     ]
    }
   ],
   "source": [
    "print(\"Number of unique scaffold ID :\",len(pd.unique(NCBI_annotations['seqid'].dropna())))\n",
    "print(\"Number of unique transcripts ('XM_') :\",len(pd.unique(NCBI_annotations['transcript_id'].dropna())))\n",
    "print(\"Number of unique protein ID ('XP_') :\",len(pd.unique(NCBI_annotations['protein_id'].dropna())))"
   ]
  },
  {
   "cell_type": "code",
   "execution_count": 72,
   "metadata": {
    "collapsed": true
   },
   "outputs": [],
   "source": [
    "# protein_id\n",
    "NCBI_genenames = NCBI_annotations.dropna(subset=['product']).drop_duplicates(subset='transcript_id')[['transcript_id','product','seqid','protein_id']]"
   ]
  },
  {
   "cell_type": "code",
   "execution_count": 73,
   "metadata": {
    "collapsed": true
   },
   "outputs": [],
   "source": [
    "NCBI_genenames = NCBI_annotations.dropna(subset=['transcript_id','product','Dbxref']).drop_duplicates(subset='transcript_id')[['transcript_id','product','Dbxref']]"
   ]
  },
  {
   "cell_type": "code",
   "execution_count": 74,
   "metadata": {},
   "outputs": [
    {
     "name": "stdout",
     "output_type": "stream",
     "text": [
      "(41170, 3)\n"
     ]
    }
   ],
   "source": [
    "print(NCBI_genenames.shape)"
   ]
  },
  {
   "cell_type": "code",
   "execution_count": 75,
   "metadata": {},
   "outputs": [
    {
     "name": "stdout",
     "output_type": "stream",
     "text": [
      "       transcript_id                                            product  \\\n",
      "2     XM_012856390.2                             caudal type homeobox 1   \n",
      "10    XM_021321288.1       platelet derived growth factor receptor beta   \n",
      "54    XM_012849362.2  colony stimulating factor 1 receptor%2C transc...   \n",
      "98    XM_012849437.2  colony stimulating factor 1 receptor%2C transc...   \n",
      "143   XM_021323826.1      HMG-box containing 3%2C transcript variant X1   \n",
      "185   XM_021324189.1      HMG-box containing 3%2C transcript variant X2   \n",
      "228   XM_021307801.1   SLC35A4 upstream open reading frame protein-like   \n",
      "236   XM_012849668.2                 solute carrier family 35 member A4   \n",
      "240   XM_021324703.1                           kinesin-like protein K39   \n",
      "265   XM_012849893.2                                      CD74 molecule   \n",
      "285   XM_012850008.2             N-deacetylase and N-sulfotransferase 1   \n",
      "316   XM_012850118.2  RNA binding motif protein 22%2C transcript var...   \n",
      "339   XM_021308893.1  RNA binding motif protein 22%2C transcript var...   \n",
      "362   XM_012850305.2                myozenin 3%2C transcript variant X2   \n",
      "374   XM_012850458.2                myozenin 3%2C transcript variant X3   \n",
      "386   XM_012850234.2                myozenin 3%2C transcript variant X1   \n",
      "398   XM_012850585.2             ADP-ribosylation factor-like protein 3   \n",
      "412   XR_002428738.1                       uncharacterized LOC105921390   \n",
      "417   XR_001165608.2                       uncharacterized LOC105921965   \n",
      "423   XM_021309317.1  regulator of G protein signaling 14%2C transcr...   \n",
      "454   XM_021309272.1  regulator of G protein signaling 14%2C transcr...   \n",
      "485   XM_021309198.1  regulator of G protein signaling 14%2C transcr...   \n",
      "516   XM_021309240.1  regulator of G protein signaling 14%2C transcr...   \n",
      "548   XM_012851138.2  sodium-dependent phosphate transport protein 2...   \n",
      "573   XM_021309138.1  sodium-dependent phosphate transport protein 2...   \n",
      "599   XM_012858822.2                 alpha-2Db adrenergic receptor-like   \n",
      "603   XM_021309527.1  SUMO interacting motifs containing 1%2C transc...   \n",
      "625   XM_021309486.1  SUMO interacting motifs containing 1%2C transc...   \n",
      "647   XM_021309414.1  SUMO interacting motifs containing 1%2C transc...   \n",
      "668   XM_021309553.1  SUMO interacting motifs containing 1%2C transc...   \n",
      "689   XM_021309447.1  SUMO interacting motifs containing 1%2C transc...   \n",
      "711   XM_021309584.1  SUMO interacting motifs containing 1%2C transc...   \n",
      "732   XM_012851365.2           CCR4-NOT transcription complex subunit 6   \n",
      "747   XM_021309689.1  A disintegrin and metalloproteinase with throm...   \n",
      "794   XM_021309723.1  A disintegrin and metalloproteinase with throm...   \n",
      "839   XM_012851479.2  A disintegrin and metalloproteinase with throm...   \n",
      "884   XM_021309764.1  A disintegrin and metalloproteinase with throm...   \n",
      "912   XM_021309984.1  uncharacterized LOC105923509%2C transcript var...   \n",
      "918   XM_021309859.1  uncharacterized LOC105923509%2C transcript var...   \n",
      "924   XM_021309901.1  uncharacterized LOC105923509%2C transcript var...   \n",
      "930   XM_021310018.1  uncharacterized LOC105923509%2C transcript var...   \n",
      "934   XM_012859785.2  uncharacterized LOC105923509%2C transcript var...   \n",
      "939   XM_012860645.2                      C-X-C motif chemokine 10-like   \n",
      "949   XM_012852999.2                  receptor for activated C kinase 1   \n",
      "968   XM_012851593.2                    putative monooxygenase p33MONOX   \n",
      "986   XM_012851702.2  glutamine--fructose-6-phosphate aminotransfera...   \n",
      "1026  XM_012851821.2                 mitogen-activated protein kinase 9   \n",
      "1051  XM_021310900.1                       uncharacterized LOC105925482   \n",
      "1057  XM_012852283.2  RasGEF domain family member 1C%2C transcript v...   \n",
      "1085  XM_021310791.1  RasGEF domain family member 1C%2C transcript v...   \n",
      "\n",
      "                                       Dbxref  \n",
      "2     GeneID:105920463,Genbank:XM_012856390.2  \n",
      "10    GeneID:105915213,Genbank:XM_021321288.1  \n",
      "54    GeneID:105915271,Genbank:XM_012849362.2  \n",
      "98    GeneID:105915271,Genbank:XM_012849437.2  \n",
      "143   GeneID:105915419,Genbank:XM_021323826.1  \n",
      "185   GeneID:105915419,Genbank:XM_021324189.1  \n",
      "228   GeneID:110366472,Genbank:XM_021307801.1  \n",
      "236   GeneID:105915503,Genbank:XM_012849668.2  \n",
      "240   GeneID:105924194,Genbank:XM_021324703.1  \n",
      "265   GeneID:105915669,Genbank:XM_012849893.2  \n",
      "285   GeneID:105915758,Genbank:XM_012850008.2  \n",
      "316   GeneID:105915841,Genbank:XM_012850118.2  \n",
      "339   GeneID:105915841,Genbank:XM_021308893.1  \n",
      "362   GeneID:105915920,Genbank:XM_012850305.2  \n",
      "374   GeneID:105915920,Genbank:XM_012850458.2  \n",
      "386   GeneID:105915920,Genbank:XM_012850234.2  \n",
      "398   GeneID:105916180,Genbank:XM_012850585.2  \n",
      "412   GeneID:105921390,Genbank:XR_002428738.1  \n",
      "417   GeneID:105921965,Genbank:XR_001165608.2  \n",
      "423   GeneID:105916262,Genbank:XM_021309317.1  \n",
      "454   GeneID:105916262,Genbank:XM_021309272.1  \n",
      "485   GeneID:105916262,Genbank:XM_021309198.1  \n",
      "516   GeneID:105916262,Genbank:XM_021309240.1  \n",
      "548   GeneID:105916554,Genbank:XM_012851138.2  \n",
      "573   GeneID:105916554,Genbank:XM_021309138.1  \n",
      "599   GeneID:105922598,Genbank:XM_012858822.2  \n",
      "603   GeneID:105916641,Genbank:XM_021309527.1  \n",
      "625   GeneID:105916641,Genbank:XM_021309486.1  \n",
      "647   GeneID:105916641,Genbank:XM_021309414.1  \n",
      "668   GeneID:105916641,Genbank:XM_021309553.1  \n",
      "689   GeneID:105916641,Genbank:XM_021309447.1  \n",
      "711   GeneID:105916641,Genbank:XM_021309584.1  \n",
      "732   GeneID:105916727,Genbank:XM_012851365.2  \n",
      "747   GeneID:105916818,Genbank:XM_021309689.1  \n",
      "794   GeneID:105916818,Genbank:XM_021309723.1  \n",
      "839   GeneID:105916818,Genbank:XM_012851479.2  \n",
      "884   GeneID:105916818,Genbank:XM_021309764.1  \n",
      "912   GeneID:105923509,Genbank:XM_021309984.1  \n",
      "918   GeneID:105923509,Genbank:XM_021309859.1  \n",
      "924   GeneID:105923509,Genbank:XM_021309901.1  \n",
      "930   GeneID:105923509,Genbank:XM_021310018.1  \n",
      "934   GeneID:105923509,Genbank:XM_012859785.2  \n",
      "939   GeneID:105924534,Genbank:XM_012860645.2  \n",
      "949   GeneID:105917995,Genbank:XM_012852999.2  \n",
      "968   GeneID:105916910,Genbank:XM_012851593.2  \n",
      "986   GeneID:105916999,Genbank:XM_012851702.2  \n",
      "1026  GeneID:105917085,Genbank:XM_012851821.2  \n",
      "1051  GeneID:105925482,Genbank:XM_021310900.1  \n",
      "1057  GeneID:105917441,Genbank:XM_012852283.2  \n",
      "1085  GeneID:105917441,Genbank:XM_021310791.1  \n"
     ]
    }
   ],
   "source": [
    "print(NCBI_genenames.head(50))"
   ]
  },
  {
   "cell_type": "code",
   "execution_count": 76,
   "metadata": {},
   "outputs": [
    {
     "name": "stderr",
     "output_type": "stream",
     "text": [
      "/Users/johnsolk/anaconda3/lib/python3.6/site-packages/dammit/fileio/gff3.py:73: ParserWarning: Both a converter and dtype were specified for column attributes - only the converter will be used\n",
      "  dtype=dict(self.columns)):\n"
     ]
    }
   ],
   "source": [
    "WhiteheadLab_conversions = GFF3Parser(filename=\"../tmp_Fhet_files/heteroclitus_genbank_GBE_2017-05-12.gff\").read()"
   ]
  },
  {
   "cell_type": "code",
   "execution_count": 77,
   "metadata": {},
   "outputs": [
    {
     "name": "stdout",
     "output_type": "stream",
     "text": [
      "(2185530, 64)\n"
     ]
    }
   ],
   "source": [
    "print(WhiteheadLab_conversions.shape)"
   ]
  },
  {
   "cell_type": "code",
   "execution_count": 78,
   "metadata": {},
   "outputs": [
    {
     "name": "stdout",
     "output_type": "stream",
     "text": [
      "Index(['', 'Dbxref', 'ID', 'Name', 'Parent', 'Selcstop', 'Split', 'Target',\n",
      "       'aalen', 'bestaa', 'cdsfix', 'cdsoff', 'cxlen', 'end', 'equiv1',\n",
      "       'error', 'est', 'express', 'gapfill', 'gapfix', 'gapfixan', 'gapnofix',\n",
      "       'gaps', 'gene', 'genegroup', 'ggap', 'insrc', 'intr', 'intron',\n",
      "       'isoform', 'ix', 'locustag', 'lold', 'mapCover', 'mgap', 'must',\n",
      "       'namepct', 'nameref', 'nexon', 'oid', 'ortholog', 'osrc', 'paralog',\n",
      "       'phase', 'phosphate carrier), member 25', 'pod', 'problem', 'protein',\n",
      "       'quality', 'rseq', 'scold1', 'score', 'seqid', 'source', 'splice',\n",
      "       'splitdupid', 'start', 'strand', 'swapmain', 'tblan', 'terepeat',\n",
      "       'transl_except', 'trg', 'type'],\n",
      "      dtype='object')\n"
     ]
    }
   ],
   "source": [
    "print(WhiteheadLab_conversions.columns)"
   ]
  },
  {
   "cell_type": "code",
   "execution_count": 79,
   "metadata": {},
   "outputs": [
    {
     "data": {
      "text/html": [
       "<div>\n",
       "<style scoped>\n",
       "    .dataframe tbody tr th:only-of-type {\n",
       "        vertical-align: middle;\n",
       "    }\n",
       "\n",
       "    .dataframe tbody tr th {\n",
       "        vertical-align: top;\n",
       "    }\n",
       "\n",
       "    .dataframe thead th {\n",
       "        text-align: right;\n",
       "    }\n",
       "</style>\n",
       "<table border=\"1\" class=\"dataframe\">\n",
       "  <thead>\n",
       "    <tr style=\"text-align: right;\">\n",
       "      <th></th>\n",
       "      <th></th>\n",
       "      <th>Dbxref</th>\n",
       "      <th>ID</th>\n",
       "      <th>Name</th>\n",
       "      <th>Parent</th>\n",
       "      <th>Selcstop</th>\n",
       "      <th>Split</th>\n",
       "      <th>Target</th>\n",
       "      <th>aalen</th>\n",
       "      <th>bestaa</th>\n",
       "      <th>...</th>\n",
       "      <th>splice</th>\n",
       "      <th>splitdupid</th>\n",
       "      <th>start</th>\n",
       "      <th>strand</th>\n",
       "      <th>swapmain</th>\n",
       "      <th>tblan</th>\n",
       "      <th>terepeat</th>\n",
       "      <th>transl_except</th>\n",
       "      <th>trg</th>\n",
       "      <th>type</th>\n",
       "    </tr>\n",
       "  </thead>\n",
       "  <tbody>\n",
       "    <tr>\n",
       "      <th>0</th>\n",
       "      <td>NaN</td>\n",
       "      <td>NaN</td>\n",
       "      <td>Funhe2EKm000003</td>\n",
       "      <td>NaN</td>\n",
       "      <td>NaN</td>\n",
       "      <td>NaN</td>\n",
       "      <td>NaN</td>\n",
       "      <td>NaN</td>\n",
       "      <td>NaN</td>\n",
       "      <td>NaN</td>\n",
       "      <td>...</td>\n",
       "      <td>NaN</td>\n",
       "      <td>NaN</td>\n",
       "      <td>5066</td>\n",
       "      <td>-</td>\n",
       "      <td>NaN</td>\n",
       "      <td>NaN</td>\n",
       "      <td>NaN</td>\n",
       "      <td>NaN</td>\n",
       "      <td>NaN</td>\n",
       "      <td>gene</td>\n",
       "    </tr>\n",
       "    <tr>\n",
       "      <th>1</th>\n",
       "      <td>NaN</td>\n",
       "      <td>CDD:200956,TrEMBL:UniRef50_Q90423,TrEMBL:HXB1B...</td>\n",
       "      <td>Funhe2EKm000003t1</td>\n",
       "      <td>Homeobox protein CDX-1</td>\n",
       "      <td>NaN</td>\n",
       "      <td>NaN</td>\n",
       "      <td>NaN</td>\n",
       "      <td>Funhe2EKm000003t1 1 679</td>\n",
       "      <td>214,94%,complete</td>\n",
       "      <td>NaN</td>\n",
       "      <td>...</td>\n",
       "      <td>NaN</td>\n",
       "      <td>NaN</td>\n",
       "      <td>5066</td>\n",
       "      <td>-</td>\n",
       "      <td>NaN</td>\n",
       "      <td>trid:gmap3n5h:GCES01000180</td>\n",
       "      <td>NaN</td>\n",
       "      <td>NaN</td>\n",
       "      <td>NaN</td>\n",
       "      <td>mRNA</td>\n",
       "    </tr>\n",
       "    <tr>\n",
       "      <th>2</th>\n",
       "      <td>NaN</td>\n",
       "      <td>NaN</td>\n",
       "      <td>NaN</td>\n",
       "      <td>NaN</td>\n",
       "      <td>Funhe2EKm000003t1</td>\n",
       "      <td>NaN</td>\n",
       "      <td>NaN</td>\n",
       "      <td>NaN</td>\n",
       "      <td>NaN</td>\n",
       "      <td>NaN</td>\n",
       "      <td>...</td>\n",
       "      <td>NaN</td>\n",
       "      <td>NaN</td>\n",
       "      <td>5066</td>\n",
       "      <td>-</td>\n",
       "      <td>NaN</td>\n",
       "      <td>NaN</td>\n",
       "      <td>NaN</td>\n",
       "      <td>NaN</td>\n",
       "      <td>Funhe2EKm000003t1 472 679</td>\n",
       "      <td>exon</td>\n",
       "    </tr>\n",
       "    <tr>\n",
       "      <th>3</th>\n",
       "      <td>NaN</td>\n",
       "      <td>NaN</td>\n",
       "      <td>NaN</td>\n",
       "      <td>NaN</td>\n",
       "      <td>Funhe2EKm000003t1</td>\n",
       "      <td>NaN</td>\n",
       "      <td>NaN</td>\n",
       "      <td>NaN</td>\n",
       "      <td>NaN</td>\n",
       "      <td>NaN</td>\n",
       "      <td>...</td>\n",
       "      <td>NaN</td>\n",
       "      <td>NaN</td>\n",
       "      <td>5082</td>\n",
       "      <td>-</td>\n",
       "      <td>NaN</td>\n",
       "      <td>NaN</td>\n",
       "      <td>NaN</td>\n",
       "      <td>NaN</td>\n",
       "      <td>NaN</td>\n",
       "      <td>CDS</td>\n",
       "    </tr>\n",
       "    <tr>\n",
       "      <th>4</th>\n",
       "      <td>NaN</td>\n",
       "      <td>NaN</td>\n",
       "      <td>NaN</td>\n",
       "      <td>NaN</td>\n",
       "      <td>Funhe2EKm000003t1</td>\n",
       "      <td>NaN</td>\n",
       "      <td>NaN</td>\n",
       "      <td>NaN</td>\n",
       "      <td>NaN</td>\n",
       "      <td>NaN</td>\n",
       "      <td>...</td>\n",
       "      <td>NaN</td>\n",
       "      <td>NaN</td>\n",
       "      <td>8334</td>\n",
       "      <td>-</td>\n",
       "      <td>NaN</td>\n",
       "      <td>NaN</td>\n",
       "      <td>NaN</td>\n",
       "      <td>NaN</td>\n",
       "      <td>Funhe2EKm000003t1 323 471</td>\n",
       "      <td>exon</td>\n",
       "    </tr>\n",
       "  </tbody>\n",
       "</table>\n",
       "<p>5 rows × 64 columns</p>\n",
       "</div>"
      ],
      "text/plain": [
       "                                                   Dbxref                 ID  \\\n",
       "0  NaN                                                NaN    Funhe2EKm000003   \n",
       "1  NaN  CDD:200956,TrEMBL:UniRef50_Q90423,TrEMBL:HXB1B...  Funhe2EKm000003t1   \n",
       "2  NaN                                                NaN                NaN   \n",
       "3  NaN                                                NaN                NaN   \n",
       "4  NaN                                                NaN                NaN   \n",
       "\n",
       "                     Name             Parent Selcstop Split  \\\n",
       "0                     NaN                NaN      NaN   NaN   \n",
       "1  Homeobox protein CDX-1                NaN      NaN   NaN   \n",
       "2                     NaN  Funhe2EKm000003t1      NaN   NaN   \n",
       "3                     NaN  Funhe2EKm000003t1      NaN   NaN   \n",
       "4                     NaN  Funhe2EKm000003t1      NaN   NaN   \n",
       "\n",
       "                    Target             aalen bestaa  ...  splice splitdupid  \\\n",
       "0                      NaN               NaN    NaN  ...     NaN        NaN   \n",
       "1  Funhe2EKm000003t1 1 679  214,94%,complete    NaN  ...     NaN        NaN   \n",
       "2                      NaN               NaN    NaN  ...     NaN        NaN   \n",
       "3                      NaN               NaN    NaN  ...     NaN        NaN   \n",
       "4                      NaN               NaN    NaN  ...     NaN        NaN   \n",
       "\n",
       "  start  strand swapmain                       tblan terepeat transl_except  \\\n",
       "0  5066       -      NaN                         NaN      NaN           NaN   \n",
       "1  5066       -      NaN  trid:gmap3n5h:GCES01000180      NaN           NaN   \n",
       "2  5066       -      NaN                         NaN      NaN           NaN   \n",
       "3  5082       -      NaN                         NaN      NaN           NaN   \n",
       "4  8334       -      NaN                         NaN      NaN           NaN   \n",
       "\n",
       "                         trg  type  \n",
       "0                        NaN  gene  \n",
       "1                        NaN  mRNA  \n",
       "2  Funhe2EKm000003t1 472 679  exon  \n",
       "3                        NaN   CDS  \n",
       "4  Funhe2EKm000003t1 323 471  exon  \n",
       "\n",
       "[5 rows x 64 columns]"
      ]
     },
     "execution_count": 79,
     "metadata": {},
     "output_type": "execute_result"
    }
   ],
   "source": [
    "WhiteheadLab_conversions.head()"
   ]
  },
  {
   "cell_type": "code",
   "execution_count": 80,
   "metadata": {
    "collapsed": true
   },
   "outputs": [],
   "source": [
    "Whiteheadlab_genenames = WhiteheadLab_conversions.dropna(subset=['ID','Name','seqid']).drop_duplicates(subset='seqid')[['ID','Name','seqid']]"
   ]
  },
  {
   "cell_type": "code",
   "execution_count": 81,
   "metadata": {},
   "outputs": [
    {
     "name": "stdout",
     "output_type": "stream",
     "text": [
      "                      ID                            Name       seqid\n",
      "1      Funhe2EKm000003t1          Homeobox protein CDX-1  KN805525.1\n",
      "14839  Funhe2EKm000224t1        Growth arrest-specific 8  KN805526.1\n",
      "25206  Funhe2EKm000412t1  Piccolo (Aczonin)-like protein  KN805527.1\n",
      "33370  Funhe2EKm000507t1  RAS guanyl-releasing protein 1  KN805528.1\n",
      "40335  Funhe2EKm000628t1         Uncharacterized protein  KN805529.1\n"
     ]
    }
   ],
   "source": [
    "print(Whiteheadlab_genenames.head())"
   ]
  },
  {
   "cell_type": "code",
   "execution_count": 82,
   "metadata": {},
   "outputs": [
    {
     "name": "stdout",
     "output_type": "stream",
     "text": [
      "(4496, 3)\n"
     ]
    }
   ],
   "source": [
    "print(Whiteheadlab_genenames.shape)"
   ]
  },
  {
   "cell_type": "code",
   "execution_count": 84,
   "metadata": {},
   "outputs": [
    {
     "name": "stdout",
     "output_type": "stream",
     "text": [
      "(4496, 3)\n",
      "(41170, 3)\n"
     ]
    }
   ],
   "source": [
    "# what Funhe2EKm are we missing from this conversion file?\n",
    "# How to connect NCBI and Don Gilbert?\n",
    "# Connect gene names?\n",
    "print(Whiteheadlab_genenames.shape)\n",
    "print(NCBI_genenames.shape)\n",
    "#connected_NCBI_DGilbert = pd.merge(Whiteheadlab_genenames,NCBI_genenames,how='inner',left_on='seqid',right_on='seqid')"
   ]
  },
  {
   "cell_type": "code",
   "execution_count": 85,
   "metadata": {},
   "outputs": [
    {
     "name": "stdout",
     "output_type": "stream",
     "text": [
      "(7232216, 6)\n"
     ]
    }
   ],
   "source": [
    "print(connected_NCBI_DGilbert.shape)"
   ]
  },
  {
   "cell_type": "code",
   "execution_count": 86,
   "metadata": {
    "collapsed": true
   },
   "outputs": [],
   "source": [
    "convert_table = pd.read_table(\"http://arthropods.eugenes.org/EvidentialGene/killifish/submitset/genome_annotation/kfish2_genequal_evgncbi.txt\")"
   ]
  },
  {
   "cell_type": "code",
   "execution_count": 88,
   "metadata": {},
   "outputs": [
    {
     "name": "stdout",
     "output_type": "stream",
     "text": [
      "      Funhe_GeneID      NCBI_TSA       NCBI_Nucl  NCBI_GeneID  pEqual  \\\n",
      "0  Funhe2EKm000003  GCES01000180  XM_012856390.1    105920463   93.80   \n",
      "1  Funhe2EKm000004  GCES01150243  XM_012853081.1    105915213   95.64   \n",
      "2  Funhe2EKm000005  GCES01154538  XM_012849437.1    105915271   99.98   \n",
      "3  Funhe2EKm000006  GCES01000182  XM_012849553.1    105915419   99.96   \n",
      "4  Funhe2EKm000007  GCES01150244  XM_012849668.1    105915503  100.58   \n",
      "\n",
      "        Funhe_TranID             Funhe_OID  \n",
      "0  Funhe2EKm000003t1  Funhe2Exx11m027882t1  \n",
      "1  Funhe2EKm000004t1  Funhe2Exx11m002607t1  \n",
      "2  Funhe2EKm000005t3  Funhe2Exx11m003308t2  \n",
      "3  Funhe2EKm000006t1  Funhe2Exx11m001896t4  \n",
      "4  Funhe2EKm000007t1  Funhe2Exx11m019598t1  \n"
     ]
    }
   ],
   "source": [
    "print(convert_table.head())"
   ]
  },
  {
   "cell_type": "code",
   "execution_count": 90,
   "metadata": {},
   "outputs": [],
   "source": [
    "Whiteheadlab_genenames = convert_table.drop_duplicates(subset='Funhe_GeneID')"
   ]
  },
  {
   "cell_type": "code",
   "execution_count": 91,
   "metadata": {},
   "outputs": [
    {
     "name": "stdout",
     "output_type": "stream",
     "text": [
      "(34924, 7)\n"
     ]
    }
   ],
   "source": [
    "print(Whiteheadlab_genenames.shape)"
   ]
  },
  {
   "cell_type": "code",
   "execution_count": 92,
   "metadata": {},
   "outputs": [
    {
     "name": "stderr",
     "output_type": "stream",
     "text": [
      "/Users/johnsolk/anaconda3/lib/python3.6/site-packages/dammit/fileio/gff3.py:73: ParserWarning: Both a converter and dtype were specified for column attributes - only the converter will be used\n",
      "  dtype=dict(self.columns)):\n"
     ]
    }
   ],
   "source": [
    "Don_submit = GFF3Parser(filename=\"../tmp_Fhet_files/kf2sub5_fc18w.gff3\").read()"
   ]
  },
  {
   "cell_type": "code",
   "execution_count": 93,
   "metadata": {},
   "outputs": [
    {
     "name": "stdout",
     "output_type": "stream",
     "text": [
      "                                                   Dbxref                 ID  \\\n",
      "0  NaN                                                NaN    Funhe2EKm000003   \n",
      "1  NaN  CDD:200956,TrEMBL:UniRef50_Q90423,TrEMBL:HXB1B...  Funhe2EKm000003t1   \n",
      "2  NaN                                                NaN                NaN   \n",
      "3  NaN                                                NaN                NaN   \n",
      "4  NaN                                                NaN                NaN   \n",
      "\n",
      "                     Name             Parent Selcstop Split  \\\n",
      "0                     NaN                NaN      NaN   NaN   \n",
      "1  Homeobox protein CDX-1                NaN      NaN   NaN   \n",
      "2                     NaN  Funhe2EKm000003t1      NaN   NaN   \n",
      "3                     NaN  Funhe2EKm000003t1      NaN   NaN   \n",
      "4                     NaN  Funhe2EKm000003t1      NaN   NaN   \n",
      "\n",
      "                    Target             aalen bestaa  ...    \\\n",
      "0                      NaN               NaN    NaN  ...     \n",
      "1  Funhe2EKm000003t1 1 679  214,94%,complete    NaN  ...     \n",
      "2                      NaN               NaN    NaN  ...     \n",
      "3                      NaN               NaN    NaN  ...     \n",
      "4                      NaN               NaN    NaN  ...     \n",
      "\n",
      "                        tblan terepeat transl_except  \\\n",
      "0                         NaN      NaN           NaN   \n",
      "1  trid:gmap3n5h:GCES01000180      NaN           NaN   \n",
      "2                         NaN      NaN           NaN   \n",
      "3                         NaN      NaN           NaN   \n",
      "4                         NaN      NaN           NaN   \n",
      "\n",
      "                         trg  type  unspl unsplaafix unsplit unsplt unsplx  \n",
      "0                        NaN  gene    NaN        NaN     NaN    NaN    NaN  \n",
      "1                        NaN  mRNA    NaN        NaN     NaN    NaN    NaN  \n",
      "2  Funhe2EKm000003t1 472 679  exon    NaN        NaN     NaN    NaN    NaN  \n",
      "3                        NaN   CDS    NaN        NaN     NaN    NaN    NaN  \n",
      "4  Funhe2EKm000003t1 323 471  exon    NaN        NaN     NaN    NaN    NaN  \n",
      "\n",
      "[5 rows x 81 columns]\n",
      "(2096736, 81)\n"
     ]
    }
   ],
   "source": [
    "print(Don_submit.head())\n",
    "print(Don_submit.shape)"
   ]
  },
  {
   "cell_type": "code",
   "execution_count": 94,
   "metadata": {},
   "outputs": [
    {
     "name": "stdout",
     "output_type": "stream",
     "text": [
      "Index(['', 'Dbxref', 'ID', 'Name', 'Parent', 'Selcstop', 'Split', 'Target',\n",
      "       'aalen', 'bestaa', 'cdsSize', 'cdsfix', 'cdsoff', 'cfix', 'cxlen',\n",
      "       'end', 'equiv1', 'error', 'est', 'express', 'gapfill', 'gapfix',\n",
      "       'gapfixan', 'gapnofix', 'gaps', 'gene', 'genegroup', 'ggap', 'inexon',\n",
      "       'insrc', 'intr', 'intron', 'isoform', 'ix', 'locustag', 'lold',\n",
      "       'mapCover', 'mgap', 'must', 'namepct', 'nameref', 'nexon', 'ocds',\n",
      "       'oid', 'oldaw', 'oldcdo', 'oname', 'ortholog', 'osrc', 'paralog',\n",
      "       'phase', 'phosphate carrier), member 25', 'pod', 'problem', 'protein',\n",
      "       'quality', 'rseq', 'scold1', 'score', 'score_x', 'score_y', 'scoresum',\n",
      "       'seqid', 'source', 'splice', 'splitdupid', 'start', 'strand', 'swapan',\n",
      "       'swapmain', 'swapold', 'tblan', 'terepeat', 'transl_except', 'trg',\n",
      "       'type', 'unspl', 'unsplaafix', 'unsplit', 'unsplt', 'unsplx'],\n",
      "      dtype='object')\n"
     ]
    }
   ],
   "source": [
    "print(Don_submit.columns)"
   ]
  },
  {
   "cell_type": "code",
   "execution_count": 98,
   "metadata": {},
   "outputs": [
    {
     "name": "stdout",
     "output_type": "stream",
     "text": [
      "(4501, 81)\n"
     ]
    }
   ],
   "source": [
    "Don_submit_genemodels = Don_submit.drop_duplicates(subset='seqid')\n",
    "print(Don_submit_genemodels.shape)"
   ]
  },
  {
   "cell_type": "code",
   "execution_count": 99,
   "metadata": {},
   "outputs": [
    {
     "name": "stdout",
     "output_type": "stream",
     "text": [
      "           Dbxref               ID Name Parent Selcstop Split Target aalen  \\\n",
      "0      NaN    NaN  Funhe2EKm000003  NaN    NaN      NaN   NaN    NaN   NaN   \n",
      "14504  NaN    NaN  Funhe2EKm000224  NaN    NaN      NaN   NaN    NaN   NaN   \n",
      "24636  NaN    NaN  Funhe2EKm000412  NaN    NaN      NaN   NaN    NaN   NaN   \n",
      "32481  NaN    NaN  Funhe2EKm000507  NaN    NaN      NaN   NaN    NaN   NaN   \n",
      "39329  NaN    NaN  Funhe2EKm000628  NaN    NaN      NaN   NaN    NaN   NaN   \n",
      "\n",
      "      bestaa  ...   tblan terepeat transl_except  trg  type  unspl unsplaafix  \\\n",
      "0        NaN  ...     NaN      NaN           NaN  NaN  gene    NaN        NaN   \n",
      "14504    NaN  ...     NaN      NaN           NaN  NaN  gene    NaN        NaN   \n",
      "24636    NaN  ...     NaN      NaN           NaN  NaN  gene    NaN        NaN   \n",
      "32481    NaN  ...     NaN      NaN           NaN  NaN  gene    NaN        NaN   \n",
      "39329    NaN  ...     NaN      NaN           NaN  NaN  gene    NaN        NaN   \n",
      "\n",
      "      unsplit unsplt unsplx  \n",
      "0         NaN    NaN    NaN  \n",
      "14504     NaN    NaN    NaN  \n",
      "24636     NaN    NaN    NaN  \n",
      "32481     NaN    NaN    NaN  \n",
      "39329     NaN    NaN    NaN  \n",
      "\n",
      "[5 rows x 81 columns]\n"
     ]
    }
   ],
   "source": [
    "print(Don_submit_genemodels.head())"
   ]
  },
  {
   "cell_type": "code",
   "execution_count": 100,
   "metadata": {
    "collapsed": true
   },
   "outputs": [],
   "source": [
    "Don_genemodels = Don_submit.dropna(subset=['ID','Name','seqid']).drop_duplicates(subset='seqid')[['ID','Name','seqid']]"
   ]
  },
  {
   "cell_type": "code",
   "execution_count": 101,
   "metadata": {},
   "outputs": [
    {
     "name": "stdout",
     "output_type": "stream",
     "text": [
      "(4501, 3)\n"
     ]
    }
   ],
   "source": [
    "print(Don_genemodels.shape)"
   ]
  },
  {
   "cell_type": "code",
   "execution_count": 103,
   "metadata": {},
   "outputs": [
    {
     "name": "stdout",
     "output_type": "stream",
     "text": [
      "                       ID                                               Name  \\\n",
      "1       Funhe2EKm000003t1                             Homeobox protein CDX-1   \n",
      "14505   Funhe2EKm000224t1                           Growth arrest-specific 8   \n",
      "24637   Funhe2EKm000412t1                     Piccolo (Aczonin)-like protein   \n",
      "32482   Funhe2EKm000507t1                     RAS guanyl-releasing protein 1   \n",
      "39330   Funhe2EKm000628t1                            Uncharacterized protein   \n",
      "40130   Funhe2EKm000645t1                                Prefoldin subunit 4   \n",
      "41652   Funhe2EKm006174t1                            Uncharacterized protein   \n",
      "42345   Funhe2EKm000697t1                                  Tumor protein p73   \n",
      "43059   Funhe2EKm000712t1                            Uncharacterized protein   \n",
      "44545   Funhe2EKm000743t1                           Leucine zipper protein 2   \n",
      "45200   Funhe2EKm000759t1                            Uncharacterized protein   \n",
      "46290   Funhe2EKm017136t1              Four and a half LIM domains protein 2   \n",
      "47313   Funhe2EKm000796t1                           Zinc finger protein 385D   \n",
      "49700   Funhe2EKm002783t1  Parathyroid hormone/parathyroid hormone-relate...   \n",
      "51759   Funhe2EKm000847t1        Potassium-transporting ATPase alpha chain 2   \n",
      "52966   Funhe2EKm000872t1                    Dynein heavy chain 17, axonemal   \n",
      "54454   Funhe2EKm000892t1                        Diacylglycerol kinase theta   \n",
      "57608   Funhe2EKm000925t1  Potassium voltage-gated channel subfamily A me...   \n",
      "59749   Funhe2EKm000960t1                     Hydroperoxide isomerase ALOXE3   \n",
      "62665   Funhe2EKm000997t1  Serine-rich coiled-coil domain-containing prot...   \n",
      "63826   Funhe2EKm001018t1                            Uncharacterized protein   \n",
      "65453   Funhe2EKm001051t1               Tetratricopeptide repeat protein 39A   \n",
      "66721   Funhe2EKm001074t1                            Galanin receptor type 2   \n",
      "67719   Funhe2EKm001098t1                                   Kelch protein 10   \n",
      "70458   Funhe2EKm001126t1                    Melatonin receptor 1B, putative   \n",
      "73377   Funhe2EKm001148t1                                   Steryl-sulfatase   \n",
      "75596   Funhe2EKm001178t1                     Nuclear receptor coactivator 7   \n",
      "77535   Funhe2EKm001213t1                            Uncharacterized protein   \n",
      "78740   Funhe2EKm019508t1             C-type lectin domain family 4 member A   \n",
      "81424   Funhe2EKm001264t1  Serine/threonine-protein phosphatase 6 regulat...   \n",
      "82745   Funhe2EKm001290t1            Lectin C-type domain containing protein   \n",
      "85050   Funhe2EKm001324t1  Ankyrin repeat and BTB/POZ domain-containing p...   \n",
      "86366   Funhe2EKm001346t1                         Ras-related protein Rab-26   \n",
      "88634   Funhe2EKm001387t1                     MHC class IA antigen, putative   \n",
      "89187   Funhe2EKm001403t1                      Asialoglycoprotein receptor 1   \n",
      "91171   Funhe2EKm001448t1                        F-box/LRR-repeat protein 20   \n",
      "94119   Funhe2EKm001483t1                            Uncharacterized protein   \n",
      "100858  Funhe2EKm001573t1                            Uncharacterized protein   \n",
      "102241  Funhe2EKm001605t1                                    Protocadherin 1   \n",
      "102295  Funhe2EKm040236t1      Volume-regulated anion channel subunit LRRC8C   \n",
      "103116  Funhe2EKm001622t1                 E3 ubiquitin-protein ligase MARCH6   \n",
      "106717  Funhe2EKm001653t1              N-acetyltransferase camello, putative   \n",
      "107954  Funhe2EKm001673t1             Leucine-rich repeat-containing protein   \n",
      "110817  Funhe2EKm001708t1                                          Plexin-B2   \n",
      "111494  Funhe2EKm001725t1      Double C2 domain-containing beta-like protein   \n",
      "112467  Funhe2EKm004199t1    Interleukin-1 receptor accessory 1-like protein   \n",
      "113763  Funhe2EKm001762t1                            Uncharacterized protein   \n",
      "114175  Funhe2EKm001798t1                            Uncharacterized protein   \n",
      "116704  Funhe2EKm001833t1                                             EPRSN1   \n",
      "117686  Funhe2EKm001848t1  Alpha-1,3-mannosyl-glycoprotein 4-beta-N-acety...   \n",
      "\n",
      "             seqid  \n",
      "1       KN805525.1  \n",
      "14505   KN805526.1  \n",
      "24637   KN805527.1  \n",
      "32482   KN805528.1  \n",
      "39330   KN805529.1  \n",
      "40130   KN805530.1  \n",
      "41652   KN805531.1  \n",
      "42345   KN805532.1  \n",
      "43059   KN805533.1  \n",
      "44545   KN805534.1  \n",
      "45200   KN805535.1  \n",
      "46290   KN805536.1  \n",
      "47313   KN805537.1  \n",
      "49700   KN805538.1  \n",
      "51759   KN805539.1  \n",
      "52966   KN805540.1  \n",
      "54454   KN805541.1  \n",
      "57608   KN805542.1  \n",
      "59749   KN805543.1  \n",
      "62665   KN805544.1  \n",
      "63826   KN805545.1  \n",
      "65453   KN805546.1  \n",
      "66721   KN805547.1  \n",
      "67719   KN805548.1  \n",
      "70458   KN805549.1  \n",
      "73377   KN805550.1  \n",
      "75596   KN805551.1  \n",
      "77535   KN805552.1  \n",
      "78740   KN805553.1  \n",
      "81424   KN805554.1  \n",
      "82745   KN805555.1  \n",
      "85050   KN805556.1  \n",
      "86366   KN805557.1  \n",
      "88634   KN805558.1  \n",
      "89187   KN805559.1  \n",
      "91171   KN805560.1  \n",
      "94119   KN805561.1  \n",
      "100858  KN805562.1  \n",
      "102241  KN805563.1  \n",
      "102295  KN805564.1  \n",
      "103116  KN805565.1  \n",
      "106717  KN805566.1  \n",
      "107954  KN805567.1  \n",
      "110817  KN805568.1  \n",
      "111494  KN805569.1  \n",
      "112467  KN805570.1  \n",
      "113763  KN805571.1  \n",
      "114175  KN805572.1  \n",
      "116704  KN805573.1  \n",
      "117686  KN805574.1  \n"
     ]
    }
   ],
   "source": [
    "print(Don_genemodels.head(50))"
   ]
  },
  {
   "cell_type": "code",
   "execution_count": null,
   "metadata": {
    "collapsed": true
   },
   "outputs": [],
   "source": []
  }
 ],
 "metadata": {
  "kernelspec": {
   "display_name": "Python 3",
   "language": "python",
   "name": "python3"
  },
  "language_info": {
   "codemirror_mode": {
    "name": "ipython",
    "version": 3
   },
   "file_extension": ".py",
   "mimetype": "text/x-python",
   "name": "python",
   "nbconvert_exporter": "python",
   "pygments_lexer": "ipython3",
   "version": "3.6.3"
  }
 },
 "nbformat": 4,
 "nbformat_minor": 2
}
