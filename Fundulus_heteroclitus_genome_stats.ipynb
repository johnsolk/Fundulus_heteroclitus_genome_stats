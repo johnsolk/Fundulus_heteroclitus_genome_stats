{
 "cells": [
  {
   "cell_type": "markdown",
   "metadata": {},
   "source": [
    "Fundulus heteroclitus reference genome stats\n",
    "============"
   ]
  },
  {
   "cell_type": "markdown",
   "metadata": {},
   "source": [
    "Lisa K. Johnson\n",
    "April 18, 2018"
   ]
  },
  {
   "cell_type": "markdown",
   "metadata": {},
   "source": [
    "This is an interactive Jupyter notebook. To execute a line of code, `Shift+Enter`. (Press and hold the `Shift` key then press the `Enter` or `Return` key.)"
   ]
  },
  {
   "cell_type": "markdown",
   "metadata": {},
   "source": [
    "There are a lot of Fundulus heteroclitus genome files. This goal of this notebook is to clear up some of that confusion. We have two versions of the *Fundulus heteroclitus* genome:\n",
    "* [NCBI](https://www.ncbi.nlm.nih.gov/genome/?term=txid8078[orgn])\n",
    "* [Don Gilbert (Indian University), EvidentialGene](http://arthropods.eugenes.org/EvidentialGene/killifish/)\n",
    "\n",
    "This is a collection of stats for each of the genomes. \n",
    "\n",
    "**Question: What genes are in common, which are unique? Which genome should we be using?**"
   ]
  },
  {
   "cell_type": "markdown",
   "metadata": {},
   "source": [
    "Links:\n",
    "    \n",
    "* [GFF files for refseq and GenBank](https://whiteheadresearch.wordpress.com/protocols/)\n",
    "* [NCBI](https://www.ncbi.nlm.nih.gov/genome/743)\n",
    "* Refseq: ftp://ftp.ncbi.nlm.nih.gov/genomes/all/GCA/000/826/765/GCA_000826765.1_Fundulus_heteroclitus-3.0.2\n",
    "* GenBank: ftp://ftp.ncbi.nlm.nih.gov/genomes/Fundulus_heteroclitus/\n",
    "\n",
    "\n",
    "I made a repository in the [OSF](https://osf.io/) for files from the [Whitehead lab website](https://whiteheadresearch.wordpress.com/protocols/) so they can be easily downloaded from the commandline:\n",
    "\n",
    "* [OSF project: Fundulus_heteroclitus_genome_files](https://osf.io/p7h4f/)"
   ]
  },
  {
   "cell_type": "markdown",
   "metadata": {},
   "source": [
    "# Download files"
   ]
  },
  {
   "cell_type": "markdown",
   "metadata": {},
   "source": [
    "Each one of these files takes some time to download. Once you have downloaded them, you do not have to download them again."
   ]
  },
  {
   "cell_type": "markdown",
   "metadata": {},
   "source": [
    "### NCBI"
   ]
  },
  {
   "cell_type": "code",
   "execution_count": 218,
   "metadata": {},
   "outputs": [
    {
     "name": "stdout",
     "output_type": "stream",
     "text": [
      "--2018-04-18 17:25:07--  ftp://ftp.ncbi.nlm.nih.gov/genomes/all/GCF/000/826/765/GCF_000826765.1_Fundulus_heteroclitus-3.0.2/GCF_000826765.1_Fundulus_heteroclitus-3.0.2_rna.fna.gz\n",
      "           => 'GCF_000826765.1_Fundulus_heteroclitus-3.0.2_rna.fna.gz'\n",
      "Resolving ftp.ncbi.nlm.nih.gov... 165.112.9.230\n",
      "Connecting to ftp.ncbi.nlm.nih.gov|165.112.9.230|:21... connected.\n",
      "Logging in as anonymous ... Logged in!\n",
      "==> SYST ... done.    ==> PWD ... done.\n",
      "==> TYPE I ... done.  ==> CWD (1) /genomes/all/GCF/000/826/765/GCF_000826765.1_Fundulus_heteroclitus-3.0.2 ... done.\n",
      "==> SIZE GCF_000826765.1_Fundulus_heteroclitus-3.0.2_rna.fna.gz ... 30813703\n",
      "==> PASV ... done.    ==> RETR GCF_000826765.1_Fundulus_heteroclitus-3.0.2_rna.fna.gz ... done.\n",
      "Length: 30813703 (29M) (unauthoritative)\n",
      "\n",
      "GCF_000826765.1_Fun 100%[===================>]  29.39M  8.76MB/s    in 4.0s    \n",
      "\n",
      "2018-04-18 17:25:13 (7.28 MB/s) - 'GCF_000826765.1_Fundulus_heteroclitus-3.0.2_rna.fna.gz' saved [30813703]\n",
      "\n",
      "--2018-04-18 17:25:14--  ftp://ftp.ncbi.nlm.nih.gov/genomes/all/GCF/000/826/765/GCF_000826765.1_Fundulus_heteroclitus-3.0.2/GCF_000826765.1_Fundulus_heteroclitus-3.0.2_genomic.gff.gz\n",
      "           => 'GCF_000826765.1_Fundulus_heteroclitus-3.0.2_genomic.gff.gz'\n",
      "Resolving ftp.ncbi.nlm.nih.gov... 165.112.9.230\n",
      "Connecting to ftp.ncbi.nlm.nih.gov|165.112.9.230|:21... connected.\n",
      "Logging in as anonymous ... Logged in!\n",
      "==> SYST ... done.    ==> PWD ... done.\n",
      "==> TYPE I ... done.  ==> CWD (1) /genomes/all/GCF/000/826/765/GCF_000826765.1_Fundulus_heteroclitus-3.0.2 ... done.\n",
      "==> SIZE GCF_000826765.1_Fundulus_heteroclitus-3.0.2_genomic.gff.gz ... 14357190\n",
      "==> PASV ... done.    ==> RETR GCF_000826765.1_Fundulus_heteroclitus-3.0.2_genomic.gff.gz ... done.\n",
      "Length: 14357190 (14M) (unauthoritative)\n",
      "\n",
      "GCF_000826765.1_Fun 100%[===================>]  13.69M  3.79MB/s    in 7.3s    \n",
      "\n",
      "2018-04-18 17:25:22 (1.89 MB/s) - 'GCF_000826765.1_Fundulus_heteroclitus-3.0.2_genomic.gff.gz' saved [14357190]\n",
      "\n",
      "--2018-04-18 17:25:24--  ftp://ftp.ncbi.nlm.nih.gov/genomes/Fundulus_heteroclitus/RNA/rna.fa.gz\n",
      "           => 'rna.fa.gz'\n",
      "Resolving ftp.ncbi.nlm.nih.gov... 130.14.250.7\n",
      "Connecting to ftp.ncbi.nlm.nih.gov|130.14.250.7|:21... connected.\n",
      "Logging in as anonymous ... Logged in!\n",
      "==> SYST ... done.    ==> PWD ... done.\n",
      "==> TYPE I ... done.  ==> CWD (1) /genomes/Fundulus_heteroclitus/RNA ... done.\n",
      "==> SIZE rna.fa.gz ... 27309454\n",
      "==> PASV ... done.    ==> RETR rna.fa.gz ... done.\n",
      "Length: 27309454 (26M) (unauthoritative)\n",
      "\n",
      "rna.fa.gz           100%[===================>]  26.04M  8.06MB/s    in 3.2s    \n",
      "\n",
      "2018-04-18 17:25:28 (8.06 MB/s) - 'rna.fa.gz' saved [27309454]\n",
      "\n",
      "--2018-04-18 17:25:29--  ftp://ftp.ncbi.nlm.nih.gov/genomes/Fundulus_heteroclitus/GFF/ref_Fundulus_heteroclitus-3.0.2_top_level.gff3.gz\n",
      "           => 'ref_Fundulus_heteroclitus-3.0.2_top_level.gff3.gz'\n",
      "Resolving ftp.ncbi.nlm.nih.gov... 130.14.250.7\n",
      "Connecting to ftp.ncbi.nlm.nih.gov|130.14.250.7|:21... connected.\n",
      "Logging in as anonymous ... Logged in!\n",
      "==> SYST ... done.    ==> PWD ... done.\n",
      "==> TYPE I ... done.  ==> CWD (1) /genomes/Fundulus_heteroclitus/GFF ... done.\n",
      "==> SIZE ref_Fundulus_heteroclitus-3.0.2_top_level.gff3.gz ... 14356640\n",
      "==> PASV ... done.    ==> RETR ref_Fundulus_heteroclitus-3.0.2_top_level.gff3.gz ... done.\n",
      "Length: 14356640 (14M) (unauthoritative)\n",
      "\n",
      "ref_Fundulus_hetero 100%[===================>]  13.69M  6.72MB/s    in 2.0s    \n",
      "\n",
      "2018-04-18 17:25:32 (6.72 MB/s) - 'ref_Fundulus_heteroclitus-3.0.2_top_level.gff3.gz' saved [14356640]\n",
      "\n",
      "--2018-04-18 17:25:34--  http://arthropods.eugenes.org/EvidentialGene/killifish/Genes/kfish2rae5/kfish2rae5g.main.pub.mrna.gz\n",
      "Resolving arthropods.eugenes.org... 129.79.224.149\n",
      "Connecting to arthropods.eugenes.org|129.79.224.149|:80... connected.\n",
      "HTTP request sent, awaiting response... 200 OK\n",
      "Length: 31603112 (30M) [text/plain]\n",
      "Saving to: 'kfish2rae5g.main.pub.mrna.gz'\n",
      "\n",
      "kfish2rae5g.main.pu 100%[===================>]  30.14M  8.24MB/s    in 4.3s    \n",
      "\n",
      "2018-04-18 17:25:38 (7.00 MB/s) - 'kfish2rae5g.main.pub.mrna.gz' saved [31603112/31603112]\n",
      "\n",
      "--2018-04-18 17:25:39--  http://arthropods.eugenes.org/EvidentialGene/killifish/Genes/kfish2rae5/kfish2rae5g.alt.pub.mrna.gz\n",
      "Resolving arthropods.eugenes.org... 129.79.224.149\n",
      "Connecting to arthropods.eugenes.org|129.79.224.149|:80... connected.\n",
      "HTTP request sent, awaiting response... 200 OK\n",
      "Length: 65393392 (62M) [text/plain]\n",
      "Saving to: 'kfish2rae5g.alt.pub.mrna.gz'\n",
      "\n",
      "kfish2rae5g.alt.pub 100%[===================>]  62.36M  15.1MB/s    in 4.9s    \n",
      "\n",
      "2018-04-18 17:25:44 (12.7 MB/s) - 'kfish2rae5g.alt.pub.mrna.gz' saved [65393392/65393392]\n",
      "\n",
      "--2018-04-18 17:25:46--  https://osf.io/xwzqj/download\n",
      "Resolving osf.io... 35.190.84.173\n",
      "Connecting to osf.io|35.190.84.173|:443... connected.\n",
      "HTTP request sent, awaiting response... 302 FOUND\n",
      "Location: https://files.osf.io/v1/resources/p7h4f/providers/osfstorage/5ad7b754b33be40012abeee8?action=download&version=1&direct [following]\n",
      "--2018-04-18 17:25:47--  https://files.osf.io/v1/resources/p7h4f/providers/osfstorage/5ad7b754b33be40012abeee8?action=download&version=1&direct\n",
      "Resolving files.osf.io... 104.239.182.178\n",
      "Connecting to files.osf.io|104.239.182.178|:443... connected.\n",
      "HTTP request sent, awaiting response... 200 OK\n",
      "Length: 292178180 (279M) [application/octet-stream]\n",
      "Saving to: 'kfish2rae5g.mrna.combined.fa'\n",
      "\n",
      "kfish2rae5g.mrna.co 100%[===================>] 278.64M  12.7MB/s    in 42s     \n",
      "\n",
      "2018-04-18 17:26:30 (6.67 MB/s) - 'kfish2rae5g.mrna.combined.fa' saved [292178180/292178180]\n",
      "\n",
      "--2018-04-18 17:26:30--  http://arthropods.eugenes.org/EvidentialGene/killifish/Genes/kfish2rae5/kfish2rae5g.main.pub.gff.gz\n",
      "Resolving arthropods.eugenes.org... 129.79.224.149\n",
      "Connecting to arthropods.eugenes.org|129.79.224.149|:80... connected.\n",
      "HTTP request sent, awaiting response... 200 OK\n",
      "Length: 11625116 (11M) [text/plain]\n",
      "Saving to: 'kfish2rae5g.main.pub.gff.gz'\n",
      "\n",
      "kfish2rae5g.main.pu 100%[===================>]  11.09M  7.30MB/s    in 1.5s    \n",
      "\n",
      "2018-04-18 17:26:31 (7.30 MB/s) - 'kfish2rae5g.main.pub.gff.gz' saved [11625116/11625116]\n",
      "\n",
      "--2018-04-18 17:26:32--  http://arthropods.eugenes.org/EvidentialGene/killifish/Genes/kfish2rae5/kfish2rae5g.alt.pub.gff.gz\n",
      "Resolving arthropods.eugenes.org... 129.79.224.149\n",
      "Connecting to arthropods.eugenes.org|129.79.224.149|:80... connected.\n",
      "HTTP request sent, awaiting response... 200 OK\n",
      "Length: 20432543 (19M) [text/plain]\n",
      "Saving to: 'kfish2rae5g.alt.pub.gff.gz'\n",
      "\n",
      "kfish2rae5g.alt.pub 100%[===================>]  19.49M  9.23MB/s    in 2.1s    \n",
      "\n",
      "2018-04-18 17:26:34 (9.23 MB/s) - 'kfish2rae5g.alt.pub.gff.gz' saved [20432543/20432543]\n",
      "\n",
      "--2018-04-18 17:26:35--  https://osf.io/734fu/download\n",
      "Resolving osf.io... 35.190.84.173\n",
      "Connecting to osf.io|35.190.84.173|:443... connected.\n",
      "HTTP request sent, awaiting response... 302 FOUND\n",
      "Location: https://files.osf.io/v1/resources/p7h4f/providers/osfstorage/5ad7b6edb33be40010abe23c?action=download&version=1&direct [following]\n",
      "--2018-04-18 17:26:36--  https://files.osf.io/v1/resources/p7h4f/providers/osfstorage/5ad7b6edb33be40010abe23c?action=download&version=1&direct\n",
      "Resolving files.osf.io... 104.239.182.178\n",
      "Connecting to files.osf.io|104.239.182.178|:443... connected.\n",
      "HTTP request sent, awaiting response... 200 OK\n",
      "Length: 345573848 (330M) [application/octet-stream]\n",
      "Saving to: 'heteroclitus_refseq_GBE_2017-05-12.gff'\n",
      "\n",
      "heteroclitus_refseq 100%[===================>] 329.56M  13.1MB/s    in 36s     \n",
      "\n",
      "2018-04-18 17:27:16 (9.10 MB/s) - 'heteroclitus_refseq_GBE_2017-05-12.gff' saved [345573848/345573848]\n",
      "\n",
      "--2018-04-18 17:27:16--  https://osf.io/dxenz/download\n",
      "Resolving osf.io... 35.190.84.173\n",
      "Connecting to osf.io|35.190.84.173|:443... connected.\n",
      "HTTP request sent, awaiting response... 302 FOUND\n",
      "Location: https://files.osf.io/v1/resources/p7h4f/providers/osfstorage/5ad7b6d7b33be40013abe0c7?action=download&version=1&direct [following]\n",
      "--2018-04-18 17:27:16--  https://files.osf.io/v1/resources/p7h4f/providers/osfstorage/5ad7b6d7b33be40013abe0c7?action=download&version=1&direct\n",
      "Resolving files.osf.io... 104.239.182.178\n",
      "Connecting to files.osf.io|104.239.182.178|:443... connected.\n",
      "HTTP request sent, awaiting response... 200 OK\n",
      "Length: 336880922 (321M) [application/octet-stream]\n",
      "Saving to: 'heteroclitus_genbank_GBE_2017-05-12.gff'\n",
      "\n"
     ]
    },
    {
     "name": "stdout",
     "output_type": "stream",
     "text": [
      "heteroclitus_genban 100%[===================>] 321.27M  13.0MB/s    in 27s     \n",
      "\n",
      "2018-04-18 17:27:44 (11.9 MB/s) - 'heteroclitus_genbank_GBE_2017-05-12.gff' saved [336880922/336880922]\n",
      "\n"
     ]
    }
   ],
   "source": [
    "!wget ftp://ftp.ncbi.nlm.nih.gov/genomes/all/GCF/000/826/765/GCF_000826765.1_Fundulus_heteroclitus-3.0.2/GCF_000826765.1_Fundulus_heteroclitus-3.0.2_rna.fna.gz \\\n",
    "    && gunzip GCF_000826765.1_Fundulus_heteroclitus-3.0.2_rna.fna.gz\n",
    "!wget ftp://ftp.ncbi.nlm.nih.gov/genomes/all/GCF/000/826/765/GCF_000826765.1_Fundulus_heteroclitus-3.0.2/GCF_000826765.1_Fundulus_heteroclitus-3.0.2_genomic.gff.gz \\\n",
    "    && gunzip GCF_000826765.1_Fundulus_heteroclitus-3.0.2_genomic.gff.gz\n",
    "!wget ftp://ftp.ncbi.nlm.nih.gov/genomes/Fundulus_heteroclitus/RNA/rna.fa.gz \\\n",
    "    && gunzip rna.fa.gz\n",
    "!wget ftp://ftp.ncbi.nlm.nih.gov/genomes/Fundulus_heteroclitus/GFF/ref_Fundulus_heteroclitus-3.0.2_top_level.gff3.gz \\\n",
    "    && gunzip ref_Fundulus_heteroclitus-3.0.2_top_level.gff3.gz\n",
    "!wget http://arthropods.eugenes.org/EvidentialGene/killifish/Genes/kfish2rae5/kfish2rae5g.main.pub.mrna.gz \\\n",
    "    && gunzip kfish2rae5g.main.pub.mrna.gz\n",
    "!wget http://arthropods.eugenes.org/EvidentialGene/killifish/Genes/kfish2rae5/kfish2rae5g.alt.pub.mrna.gz \\\n",
    "    && gunzip kfish2rae5g.alt.pub.mrna.gz\n",
    "!wget -O kfish2rae5g.mrna.combined.fa https://osf.io/xwzqj/download\n",
    "!wget http://arthropods.eugenes.org/EvidentialGene/killifish/Genes/kfish2rae5/kfish2rae5g.main.pub.gff.gz \\\n",
    "    && gunzip kfish2rae5g.main.pub.gff.gz\n",
    "!wget http://arthropods.eugenes.org/EvidentialGene/killifish/Genes/kfish2rae5/kfish2rae5g.alt.pub.gff.gz \\\n",
    "    && gunzip kfish2rae5g.alt.pub.gff.gz\n",
    "!wget -O heteroclitus_refseq_GBE_2017-05-12.gff https://osf.io/734fu/download\n",
    "!wget -O heteroclitus_genbank_GBE_2017-05-12.gff https://osf.io/dxenz/download"
   ]
  },
  {
   "cell_type": "markdown",
   "metadata": {},
   "source": [
    "# Look at the files you just downloaded:"
   ]
  },
  {
   "cell_type": "code",
   "execution_count": 221,
   "metadata": {},
   "outputs": [
    {
     "name": "stdout",
     "output_type": "stream",
     "text": [
      "total 4829984\r\n",
      "drwxr-xr-x  19 johnsolk  staff   608B Apr 18 17:28 \u001b[34m.\u001b[m\u001b[m\r\n",
      "drwxr-xr-x  30 johnsolk  staff   960B Apr 18 14:44 \u001b[34m..\u001b[m\u001b[m\r\n",
      "drwxr-xr-x  13 johnsolk  staff   416B Apr 18 14:44 \u001b[34m.git\u001b[m\u001b[m\r\n",
      "-rw-r--r--   1 johnsolk  staff    34B Apr 18 14:44 .gitignore\r\n",
      "drwxr-xr-x   3 johnsolk  staff    96B Apr 18 14:46 \u001b[34m.ipynb_checkpoints\u001b[m\u001b[m\r\n",
      "-rw-r--r--   1 johnsolk  staff    26K Apr 18 17:26 Fundulus_heteroclitus_genome_stats.ipynb\r\n",
      "-rw-r--r--   1 johnsolk  staff   302M Apr 18 17:25 GCF_000826765.1_Fundulus_heteroclitus-3.0.2_genomic.gff\r\n",
      "-rw-r--r--   1 johnsolk  staff   130M Apr 18 17:25 GCF_000826765.1_Fundulus_heteroclitus-3.0.2_rna.fna\r\n",
      "-rw-r--r--   1 johnsolk  staff   1.0K Apr 18 14:44 README.md\r\n",
      "-rw-r--r--@  1 johnsolk  staff   321M Apr 18 17:27 heteroclitus_genbank_GBE_2017-05-12.gff\r\n",
      "-rw-r--r--@  1 johnsolk  staff   330M Apr 18 17:27 heteroclitus_refseq_GBE_2017-05-12.gff\r\n",
      "-rw-r--r--   1 johnsolk  staff   159M Jan  3  2014 kfish2rae5g.alt.pub.gff\r\n",
      "-rw-r--r--   1 johnsolk  staff   194M Jan  4  2014 kfish2rae5g.alt.pub.mrna\r\n",
      "-rw-r--r--   1 johnsolk  staff    60M Jan  3  2014 kfish2rae5g.main.pub.gff\r\n",
      "-rw-r--r--   1 johnsolk  staff    85M Jan  5  2014 kfish2rae5g.main.pub.mrna\r\n",
      "-rw-r--r--@  1 johnsolk  staff   279M Apr 18 17:26 kfish2rae5g.mrna.combined.fa\r\n",
      "-rw-r--r--   1 johnsolk  staff   302M Apr 18 17:25 ref_Fundulus_heteroclitus-3.0.2_top_level.gff3\r\n",
      "-rw-r--r--   1 johnsolk  staff    34B Apr 18 14:44 requirements.txt\r\n",
      "-rw-r--r--   1 johnsolk  staff   131M Apr 18 17:25 rna.fa\r\n"
     ]
    }
   ],
   "source": [
    "!ls -lah"
   ]
  },
  {
   "cell_type": "markdown",
   "metadata": {},
   "source": [
    "# Comparison Stats and Visualizations"
   ]
  },
  {
   "cell_type": "code",
   "execution_count": 147,
   "metadata": {
    "collapsed": true
   },
   "outputs": [],
   "source": [
    "import matplotlib.pyplot as plt\n",
    "from matplotlib_venn import venn2\n",
    "# requires dammit env\n",
    "# source activate dammit\n",
    "import pandas as pd\n",
    "from dammit.fileio.gff3 import GFF3Parser"
   ]
  },
  {
   "cell_type": "markdown",
   "metadata": {},
   "source": [
    "### NCBI, number of transcripts"
   ]
  },
  {
   "cell_type": "code",
   "execution_count": 148,
   "metadata": {},
   "outputs": [
    {
     "name": "stdout",
     "output_type": "stream",
     "text": [
      "41170\r\n"
     ]
    }
   ],
   "source": [
    "!grep -c \"^>\" GCF_000826765.1_Fundulus_heteroclitus-3.0.2_rna.fna"
   ]
  },
  {
   "cell_type": "code",
   "execution_count": 149,
   "metadata": {},
   "outputs": [
    {
     "name": "stdout",
     "output_type": "stream",
     "text": [
      "41170\r\n"
     ]
    }
   ],
   "source": [
    "!grep -c \"^>\" rna.fa"
   ]
  },
  {
   "cell_type": "markdown",
   "metadata": {},
   "source": [
    "### Don Gilbert, number of transcripts"
   ]
  },
  {
   "cell_type": "code",
   "execution_count": 150,
   "metadata": {},
   "outputs": [
    {
     "name": "stdout",
     "output_type": "stream",
     "text": [
      "34924\r\n"
     ]
    }
   ],
   "source": [
    "!grep -c \"^>\" kfish2rae5g.main.pub.mrna"
   ]
  },
  {
   "cell_type": "code",
   "execution_count": 151,
   "metadata": {},
   "outputs": [
    {
     "name": "stdout",
     "output_type": "stream",
     "text": [
      "75107\r\n"
     ]
    }
   ],
   "source": [
    "!grep -c \"^>\" kfish2rae5g.alt.pub.mrna"
   ]
  },
  {
   "cell_type": "code",
   "execution_count": 152,
   "metadata": {},
   "outputs": [
    {
     "name": "stdout",
     "output_type": "stream",
     "text": [
      "110031\r\n"
     ]
    }
   ],
   "source": [
    "!grep -c \"^>\" kfish2rae5g.mrna.combined.fa"
   ]
  },
  {
   "cell_type": "markdown",
   "metadata": {},
   "source": [
    "# Gene names"
   ]
  },
  {
   "cell_type": "code",
   "execution_count": 208,
   "metadata": {},
   "outputs": [
    {
     "name": "stderr",
     "output_type": "stream",
     "text": [
      "/Users/johnsolk/anaconda3/lib/python3.6/site-packages/dammit/fileio/gff3.py:73: ParserWarning: Both a converter and dtype were specified for column attributes - only the converter will be used\n",
      "  dtype=dict(self.columns)):\n"
     ]
    }
   ],
   "source": [
    "DonGilbert_annotations_main = GFF3Parser(filename=\"kfish2rae5g.main.pub.gff\").read()"
   ]
  },
  {
   "cell_type": "code",
   "execution_count": 209,
   "metadata": {},
   "outputs": [
    {
     "name": "stdout",
     "output_type": "stream",
     "text": [
      "34925\n"
     ]
    }
   ],
   "source": [
    "print(len(pd.unique(DonGilbert_annotations['Parent'].dropna())))"
   ]
  },
  {
   "cell_type": "code",
   "execution_count": 210,
   "metadata": {},
   "outputs": [],
   "source": [
    "DonGilbert_genenames_main = DonGilbert_annotations.dropna(subset=['ID','Name']).drop_duplicates(subset='ID')[['ID','Name']]"
   ]
  },
  {
   "cell_type": "code",
   "execution_count": 211,
   "metadata": {},
   "outputs": [
    {
     "name": "stdout",
     "output_type": "stream",
     "text": [
      "(34925, 2)\n"
     ]
    }
   ],
   "source": [
    "print(DonGilbert_genenames_main.shape)"
   ]
  },
  {
   "cell_type": "code",
   "execution_count": 212,
   "metadata": {},
   "outputs": [
    {
     "name": "stdout",
     "output_type": "stream",
     "text": [
      "                    ID                                               Name\n",
      "1    Funhe2EKm000003t1                      Homeobox protein CDX-1 (91%P)\n",
      "9    Funhe2EKm000004t1  Platelet-derived growth factor receptor, beta ...\n",
      "56   Funhe2EKm000005t1  Vascular endothelial growth factor receptor kd...\n",
      "105  Funhe2EKm000221t1       Component of oligomeric golgi complex (90%P)\n",
      "136  Funhe2EKm000006t1                  HMG box domain containing (100%P)\n"
     ]
    }
   ],
   "source": [
    "print(DonGilbert_genenames_main.head())"
   ]
  },
  {
   "cell_type": "code",
   "execution_count": 213,
   "metadata": {},
   "outputs": [
    {
     "name": "stderr",
     "output_type": "stream",
     "text": [
      "/Users/johnsolk/anaconda3/lib/python3.6/site-packages/dammit/fileio/gff3.py:73: ParserWarning: Both a converter and dtype were specified for column attributes - only the converter will be used\n",
      "  dtype=dict(self.columns)):\n"
     ]
    }
   ],
   "source": [
    "DonGilbert_annotations_alt = GFF3Parser(filename=\"kfish2rae5g.alt.pub.gff\").read()"
   ]
  },
  {
   "cell_type": "code",
   "execution_count": 214,
   "metadata": {},
   "outputs": [
    {
     "name": "stdout",
     "output_type": "stream",
     "text": [
      "75210\n"
     ]
    }
   ],
   "source": [
    "print(len(pd.unique(DonGilbert_annotations_alt['Parent'].dropna())))"
   ]
  },
  {
   "cell_type": "code",
   "execution_count": 215,
   "metadata": {
    "collapsed": true
   },
   "outputs": [],
   "source": [
    "DonGilbert_genenames_alt = DonGilbert_annotations_alt.dropna(subset=['ID','Name']).drop_duplicates(subset='ID')[['ID','Name']]"
   ]
  },
  {
   "cell_type": "code",
   "execution_count": 216,
   "metadata": {},
   "outputs": [
    {
     "name": "stdout",
     "output_type": "stream",
     "text": [
      "(75228, 2)\n"
     ]
    }
   ],
   "source": [
    "print(DonGilbert_genenames_alt.shape)"
   ]
  },
  {
   "cell_type": "code",
   "execution_count": 217,
   "metadata": {},
   "outputs": [
    {
     "name": "stdout",
     "output_type": "stream",
     "text": [
      "                   ID                                               Name\n",
      "1   Funhe2EKm004814t2                  60S ribosomal protein L26 (100%M)\n",
      "9   Funhe2EKm004814t3                   60S ribosomal protein L26 (73%M)\n",
      "17  Funhe2EKm004814t4                            Uncharacterized protein\n",
      "29  Funhe2EKm000057t2  Down syndrome cell adhesion molecule protein D...\n",
      "42  Funhe2EKm000057t3  Down syndrome cell adhesion molecule protein D...\n"
     ]
    }
   ],
   "source": [
    "print(DonGilbert_genenames_alt.head())"
   ]
  },
  {
   "cell_type": "code",
   "execution_count": 170,
   "metadata": {},
   "outputs": [
    {
     "name": "stderr",
     "output_type": "stream",
     "text": [
      "/Users/johnsolk/anaconda3/lib/python3.6/site-packages/dammit/fileio/gff3.py:73: ParserWarning: Both a converter and dtype were specified for column attributes - only the converter will be used\n",
      "  dtype=dict(self.columns)):\n"
     ]
    }
   ],
   "source": [
    "NCBI_annotations = GFF3Parser(filename=\"GCF_000826765.1_Fundulus_heteroclitus-3.0.2_genomic.gff\").read()"
   ]
  },
  {
   "cell_type": "code",
   "execution_count": null,
   "metadata": {},
   "outputs": [],
   "source": [
    "print(len(pd.unique(NCBI_annotations['transcript_id'].dropna())))"
   ]
  },
  {
   "cell_type": "code",
   "execution_count": 191,
   "metadata": {
    "collapsed": true
   },
   "outputs": [],
   "source": [
    "NCBI_genenames = NCBI_RefSeq_annotations.dropna(subset=['transcript_id','product','seqid']).drop_duplicates(subset='transcript_id')[['transcript_id','product','seqid']]"
   ]
  },
  {
   "cell_type": "code",
   "execution_count": 187,
   "metadata": {},
   "outputs": [
    {
     "name": "stdout",
     "output_type": "stream",
     "text": [
      "(41170, 3)\n"
     ]
    }
   ],
   "source": [
    "print(NCBI_genenames.shape)"
   ]
  },
  {
   "cell_type": "code",
   "execution_count": 188,
   "metadata": {},
   "outputs": [
    {
     "name": "stdout",
     "output_type": "stream",
     "text": [
      "      transcript_id                                            product  \\\n",
      "2    XM_012856390.2                             caudal type homeobox 1   \n",
      "10   XM_021321288.1       platelet derived growth factor receptor beta   \n",
      "54   XM_012849362.2  colony stimulating factor 1 receptor%2C transc...   \n",
      "98   XM_012849437.2  colony stimulating factor 1 receptor%2C transc...   \n",
      "143  XM_021323826.1      HMG-box containing 3%2C transcript variant X1   \n",
      "\n",
      "              seqid  \n",
      "2    NW_012224401.1  \n",
      "10   NW_012224401.1  \n",
      "54   NW_012224401.1  \n",
      "98   NW_012224401.1  \n",
      "143  NW_012224401.1  \n"
     ]
    }
   ],
   "source": [
    "print(NCBI_genenames.head())"
   ]
  },
  {
   "cell_type": "code",
   "execution_count": 194,
   "metadata": {},
   "outputs": [
    {
     "name": "stderr",
     "output_type": "stream",
     "text": [
      "/Users/johnsolk/anaconda3/lib/python3.6/site-packages/dammit/fileio/gff3.py:73: ParserWarning: Both a converter and dtype were specified for column attributes - only the converter will be used\n",
      "  dtype=dict(self.columns)):\n"
     ]
    }
   ],
   "source": [
    "WhiteheadLab_conversions = GFF3Parser(filename=\"heteroclitus_RefSeq_GBE_2017-05-12.gff\").read()"
   ]
  },
  {
   "cell_type": "code",
   "execution_count": 195,
   "metadata": {},
   "outputs": [],
   "source": [
    "Whiteheadlab_genenames = WhiteheadLab_conversions.dropna(subset=['ID','Name','seqid']).drop_duplicates(subset='ID')[['ID','Name','seqid']]"
   ]
  },
  {
   "cell_type": "code",
   "execution_count": 196,
   "metadata": {},
   "outputs": [
    {
     "name": "stdout",
     "output_type": "stream",
     "text": [
      "                    ID              Name           seqid\n",
      "1    Funhe2EKm000003t1          Homeobox  NW_012224401.1\n",
      "9    Funhe2EKm000004t1  Platelet-derived  NW_012224401.1\n",
      "55   Funhe2EKm000004t2  Platelet-derived  NW_012224401.1\n",
      "97   Funhe2EKm000004t3  Platelet-derived  NW_012224401.1\n",
      "136  Funhe2EKm000004t4  Platelet-derived  NW_012224401.1\n"
     ]
    }
   ],
   "source": [
    "print(Whiteheadlab_genenames.head())"
   ]
  },
  {
   "cell_type": "code",
   "execution_count": 200,
   "metadata": {},
   "outputs": [
    {
     "name": "stdout",
     "output_type": "stream",
     "text": [
      "(98067, 3)\n"
     ]
    }
   ],
   "source": [
    "print(Whiteheadlab_genenames.shape)"
   ]
  },
  {
   "cell_type": "code",
   "execution_count": null,
   "metadata": {
    "collapsed": true
   },
   "outputs": [],
   "source": []
  }
 ],
 "metadata": {
  "kernelspec": {
   "display_name": "Python 3",
   "language": "python",
   "name": "python3"
  },
  "language_info": {
   "codemirror_mode": {
    "name": "ipython",
    "version": 3
   },
   "file_extension": ".py",
   "mimetype": "text/x-python",
   "name": "python",
   "nbconvert_exporter": "python",
   "pygments_lexer": "ipython3",
   "version": "3.6.3"
  }
 },
 "nbformat": 4,
 "nbformat_minor": 2
}
