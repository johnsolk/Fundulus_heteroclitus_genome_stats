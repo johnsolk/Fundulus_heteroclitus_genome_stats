{
 "cells": [
  {
   "cell_type": "markdown",
   "metadata": {},
   "source": [
    "Fundulus heteroclitus reference genome stats\n",
    "============"
   ]
  },
  {
   "cell_type": "markdown",
   "metadata": {},
   "source": [
    "Lisa K. Johnson"
   ]
  },
  {
   "cell_type": "markdown",
   "metadata": {},
   "source": [
    "We have two versions of the *Fundulus heteroclitus* genome:\n",
    "* [NCBI](https://www.ncbi.nlm.nih.gov/genome/?term=txid8078[orgn])\n",
    "* [Don Gilbert (Indian University), EvidentialGene](http://arthropods.eugenes.org/EvidentialGene/killifish/)\n",
    "\n",
    "**Question: What genes are in common, which are unique?**"
   ]
  },
  {
   "cell_type": "markdown",
   "metadata": {},
   "source": [
    "Notes:\n",
    "* [GFF files for refseq and GenBank](https://whiteheadresearch.wordpress.com/protocols/)\n",
    "* [NCBI](https://www.ncbi.nlm.nih.gov/genome/743)\n",
    "* Refseq: ftp://ftp.ncbi.nlm.nih.gov/genomes/all/GCA/000/826/765/GCA_000826765.1_Fundulus_heteroclitus-3.0.2\n",
    "* GenBank: ftp://ftp.ncbi.nlm.nih.gov/genomes/Fundulus_heteroclitus/\n",
    "* I made a repository in [OSF](https://osf.io/) for files from the [Whitehead lab website](https://whiteheadresearch.wordpress.com/protocols/) so they can be easily downloaded from the commandline:\n",
    "[Fundulus_heteroclitus_genome_files](https://osf.io/p7h4f/)"
   ]
  },
  {
   "cell_type": "markdown",
   "metadata": {},
   "source": [
    "# Download files"
   ]
  },
  {
   "cell_type": "code",
   "execution_count": 3,
   "metadata": {},
   "outputs": [
    {
     "name": "stdout",
     "output_type": "stream",
     "text": [
      "mkdir: ../tmp_Fhet_files/: File exists\r\n"
     ]
    }
   ],
   "source": [
    "!mkdir ../tmp_Fhet_files/"
   ]
  },
  {
   "cell_type": "code",
   "execution_count": 5,
   "metadata": {},
   "outputs": [
    {
     "name": "stdout",
     "output_type": "stream",
     "text": [
      "--2018-04-23 11:07:14--  ftp://ftp.ncbi.nlm.nih.gov/genomes/all/GCF/000/826/765/GCF_000826765.1_Fundulus_heteroclitus-3.0.2/GCF_000826765.1_Fundulus_heteroclitus-3.0.2_rna.fna.gz\n",
      "           => '../tmp_Fhet_files/GCF_000826765.1_Fundulus_heteroclitus-3.0.2_rna.fna.gz'\n",
      "Resolving ftp.ncbi.nlm.nih.gov... 165.112.9.229\n",
      "Connecting to ftp.ncbi.nlm.nih.gov|165.112.9.229|:21... connected.\n",
      "Logging in as anonymous ... Logged in!\n",
      "==> SYST ... done.    ==> PWD ... done.\n",
      "==> TYPE I ... done.  ==> CWD (1) /genomes/all/GCF/000/826/765/GCF_000826765.1_Fundulus_heteroclitus-3.0.2 ... done.\n",
      "==> SIZE GCF_000826765.1_Fundulus_heteroclitus-3.0.2_rna.fna.gz ... 30813703\n",
      "==> PASV ... done.    ==> RETR GCF_000826765.1_Fundulus_heteroclitus-3.0.2_rna.fna.gz ... done.\n",
      "Length: 30813703 (29M) (unauthoritative)\n",
      "\n",
      "GCF_000826765.1_Fun 100%[===================>]  29.39M  3.12MB/s    in 16s     \n",
      "\n",
      "2018-04-23 11:07:32 (1.82 MB/s) - '../tmp_Fhet_files/GCF_000826765.1_Fundulus_heteroclitus-3.0.2_rna.fna.gz' saved [30813703]\n",
      "\n",
      "--2018-04-23 11:07:33--  ftp://ftp.ncbi.nlm.nih.gov/genomes/all/GCF/000/826/765/GCF_000826765.1_Fundulus_heteroclitus-3.0.2/GCF_000826765.1_Fundulus_heteroclitus-3.0.2_genomic.gff.gz\n",
      "           => '../tmp_Fhet_files/GCF_000826765.1_Fundulus_heteroclitus-3.0.2_genomic.gff.gz'\n",
      "Resolving ftp.ncbi.nlm.nih.gov... 165.112.9.229\n",
      "Connecting to ftp.ncbi.nlm.nih.gov|165.112.9.229|:21... connected.\n",
      "Logging in as anonymous ... Logged in!\n",
      "==> SYST ... done.    ==> PWD ... done.\n",
      "==> TYPE I ... done.  ==> CWD (1) /genomes/all/GCF/000/826/765/GCF_000826765.1_Fundulus_heteroclitus-3.0.2 ... done.\n",
      "==> SIZE GCF_000826765.1_Fundulus_heteroclitus-3.0.2_genomic.gff.gz ... 14357190\n",
      "==> PASV ... done.    ==> RETR GCF_000826765.1_Fundulus_heteroclitus-3.0.2_genomic.gff.gz ... done.\n",
      "Length: 14357190 (14M) (unauthoritative)\n",
      "\n",
      "GCF_000826765.1_Fun 100%[===================>]  13.69M  3.06MB/s    in 5.7s    \n",
      "\n",
      "2018-04-23 11:07:39 (2.39 MB/s) - '../tmp_Fhet_files/GCF_000826765.1_Fundulus_heteroclitus-3.0.2_genomic.gff.gz' saved [14357190]\n",
      "\n",
      "--2018-04-23 11:07:41--  ftp://ftp.ncbi.nlm.nih.gov/genomes/Fundulus_heteroclitus/RNA/rna.fa.gz\n",
      "           => '../tmp_Fhet_files/NCBI.rna.fa.gz'\n",
      "Resolving ftp.ncbi.nlm.nih.gov... 165.112.9.229\n",
      "Connecting to ftp.ncbi.nlm.nih.gov|165.112.9.229|:21... connected.\n",
      "Logging in as anonymous ... Logged in!\n",
      "==> SYST ... done.    ==> PWD ... done.\n",
      "==> TYPE I ... done.  ==> CWD (1) /genomes/Fundulus_heteroclitus/RNA ... done.\n",
      "==> SIZE rna.fa.gz ... 27309454\n",
      "==> PASV ... done.    ==> RETR rna.fa.gz ... done.\n",
      "Length: 27309454 (26M) (unauthoritative)\n",
      "\n",
      "rna.fa.gz           100%[===================>]  26.04M  3.22MB/s    in 10s     \n",
      "\n",
      "2018-04-23 11:07:52 (2.49 MB/s) - '../tmp_Fhet_files/NCBI.rna.fa.gz' saved [27309454]\n",
      "\n",
      "--2018-04-23 11:07:53--  ftp://ftp.ncbi.nlm.nih.gov/genomes/Fundulus_heteroclitus/GFF/ref_Fundulus_heteroclitus-3.0.2_top_level.gff3.gz\n",
      "           => '../tmp_Fhet_files/ref_Fundulus_heteroclitus-3.0.2_top_level.gff3.gz'\n",
      "Resolving ftp.ncbi.nlm.nih.gov... 130.14.250.7\n",
      "Connecting to ftp.ncbi.nlm.nih.gov|130.14.250.7|:21... connected.\n",
      "Logging in as anonymous ... Logged in!\n",
      "==> SYST ... done.    ==> PWD ... done.\n",
      "==> TYPE I ... done.  ==> CWD (1) /genomes/Fundulus_heteroclitus/GFF ... done.\n",
      "==> SIZE ref_Fundulus_heteroclitus-3.0.2_top_level.gff3.gz ... 14356640\n",
      "==> PASV ... done.    ==> RETR ref_Fundulus_heteroclitus-3.0.2_top_level.gff3.gz ... done.\n",
      "Length: 14356640 (14M) (unauthoritative)\n",
      "\n",
      "ref_Fundulus_hetero 100%[===================>]  13.69M  3.03MB/s    in 6.0s    \n",
      "\n",
      "2018-04-23 11:08:00 (2.28 MB/s) - '../tmp_Fhet_files/ref_Fundulus_heteroclitus-3.0.2_top_level.gff3.gz' saved [14356640]\n",
      "\n",
      "--2018-04-23 11:08:02--  http://arthropods.eugenes.org/EvidentialGene/killifish/Genes/kfish2rae5/kfish2rae5g.main.pub.mrna.gz\n",
      "Resolving arthropods.eugenes.org... 129.79.224.149\n",
      "Connecting to arthropods.eugenes.org|129.79.224.149|:80... connected.\n",
      "HTTP request sent, awaiting response... 200 OK\n",
      "Length: 31603112 (30M) [text/plain]\n",
      "Saving to: '../tmp_Fhet_files/kfish2rae5g.main.pub.mrna.gz'\n",
      "\n",
      "../tmp_Fhet_files/k 100%[===================>]  30.14M  9.58MB/s    in 3.7s    \n",
      "\n",
      "2018-04-23 11:08:06 (8.20 MB/s) - '../tmp_Fhet_files/kfish2rae5g.main.pub.mrna.gz' saved [31603112/31603112]\n",
      "\n",
      "--2018-04-23 11:08:07--  http://arthropods.eugenes.org/EvidentialGene/killifish/Genes/kfish2rae5/kfish2rae5g.alt.pub.mrna.gz\n",
      "Resolving arthropods.eugenes.org... 129.79.224.149\n",
      "Connecting to arthropods.eugenes.org|129.79.224.149|:80... connected.\n",
      "HTTP request sent, awaiting response... 200 OK\n",
      "Length: 65393392 (62M) [text/plain]\n",
      "Saving to: '../tmp_Fhet_files/kfish2rae5g.alt.pub.mrna.gz'\n",
      "\n",
      "../tmp_Fhet_files/k 100%[===================>]  62.36M  10.6MB/s    in 6.6s    \n",
      "\n",
      "2018-04-23 11:08:13 (9.40 MB/s) - '../tmp_Fhet_files/kfish2rae5g.alt.pub.mrna.gz' saved [65393392/65393392]\n",
      "\n",
      "--2018-04-23 11:08:15--  https://osf.io/xwzqj/download\n",
      "Resolving osf.io... 35.190.84.173\n",
      "Connecting to osf.io|35.190.84.173|:443... connected.\n",
      "HTTP request sent, awaiting response... 302 FOUND\n",
      "Location: https://files.osf.io/v1/resources/p7h4f/providers/osfstorage/5ad7b754b33be40012abeee8?action=download&version=1&direct [following]\n",
      "--2018-04-23 11:08:16--  https://files.osf.io/v1/resources/p7h4f/providers/osfstorage/5ad7b754b33be40012abeee8?action=download&version=1&direct\n",
      "Resolving files.osf.io... 104.239.182.178\n",
      "Connecting to files.osf.io|104.239.182.178|:443... connected.\n",
      "HTTP request sent, awaiting response... 200 OK\n",
      "Length: 292178180 (279M) [application/octet-stream]\n",
      "Saving to: '../tmp_Fhet_files/kfish2rae5g.mrna.combined.fa'\n",
      "\n",
      "../tmp_Fhet_files/k 100%[===================>] 278.64M  7.54MB/s    in 36s     \n",
      "\n",
      "2018-04-23 11:09:14 (7.80 MB/s) - '../tmp_Fhet_files/kfish2rae5g.mrna.combined.fa' saved [292178180/292178180]\n",
      "\n",
      "--2018-04-23 11:09:15--  http://arthropods.eugenes.org/EvidentialGene/killifish/Genes/kfish2rae5/kfish2rae5g.main.pub.gff.gz\n",
      "Resolving arthropods.eugenes.org... 129.79.224.149\n",
      "Connecting to arthropods.eugenes.org|129.79.224.149|:80... connected.\n",
      "HTTP request sent, awaiting response... 200 OK\n",
      "Length: 11625116 (11M) [text/plain]\n",
      "Saving to: '../tmp_Fhet_files/kfish2rae5g.main.pub.gff.gz'\n",
      "\n",
      "../tmp_Fhet_files/k 100%[===================>]  11.09M  6.23MB/s    in 1.8s    \n",
      "\n",
      "2018-04-23 11:09:17 (6.23 MB/s) - '../tmp_Fhet_files/kfish2rae5g.main.pub.gff.gz' saved [11625116/11625116]\n",
      "\n",
      "--2018-04-23 11:09:17--  http://arthropods.eugenes.org/EvidentialGene/killifish/Genes/kfish2rae5/kfish2rae5g.alt.pub.gff.gz\n",
      "Resolving arthropods.eugenes.org... 129.79.224.149\n",
      "Connecting to arthropods.eugenes.org|129.79.224.149|:80... connected.\n",
      "HTTP request sent, awaiting response... 200 OK\n",
      "Length: 20432543 (19M) [text/plain]\n",
      "Saving to: '../tmp_Fhet_files/kfish2rae5g.alt.pub.gff.gz'\n",
      "\n",
      "../tmp_Fhet_files/k 100%[===================>]  19.49M  7.51MB/s    in 2.6s    \n",
      "\n",
      "2018-04-23 11:09:20 (7.51 MB/s) - '../tmp_Fhet_files/kfish2rae5g.alt.pub.gff.gz' saved [20432543/20432543]\n",
      "\n",
      "--2018-04-23 11:09:21--  https://osf.io/734fu/download\n",
      "Resolving osf.io... 35.190.84.173\n",
      "Connecting to osf.io|35.190.84.173|:443... connected.\n",
      "HTTP request sent, awaiting response... 302 FOUND\n",
      "Location: https://files.osf.io/v1/resources/p7h4f/providers/osfstorage/5ad7b6edb33be40010abe23c?action=download&version=1&direct [following]\n",
      "--2018-04-23 11:09:21--  https://files.osf.io/v1/resources/p7h4f/providers/osfstorage/5ad7b6edb33be40010abe23c?action=download&version=1&direct\n",
      "Resolving files.osf.io... 104.239.182.178\n",
      "Connecting to files.osf.io|104.239.182.178|:443... connected.\n",
      "HTTP request sent, awaiting response... 200 OK\n",
      "Length: 345573848 (330M) [application/octet-stream]\n",
      "Saving to: '../tmp_Fhet_files/heteroclitus_refseq_GBE_2017-05-12.gff'\n",
      "\n",
      "../tmp_Fhet_files/h 100%[===================>] 329.56M  6.68MB/s    in 2m 36s  \n",
      "\n",
      "2018-04-23 11:12:07 (2.11 MB/s) - '../tmp_Fhet_files/heteroclitus_refseq_GBE_2017-05-12.gff' saved [345573848/345573848]\n",
      "\n",
      "--2018-04-23 11:12:07--  https://osf.io/dxenz/download\n",
      "Resolving osf.io... 35.190.84.173\n",
      "Connecting to osf.io|35.190.84.173|:443... connected.\n",
      "HTTP request sent, awaiting response... 302 FOUND\n",
      "Location: https://files.osf.io/v1/resources/p7h4f/providers/osfstorage/5ad7b6d7b33be40013abe0c7?action=download&version=1&direct [following]\n",
      "--2018-04-23 11:12:07--  https://files.osf.io/v1/resources/p7h4f/providers/osfstorage/5ad7b6d7b33be40013abe0c7?action=download&version=1&direct\n",
      "Resolving files.osf.io... 104.239.182.178\n"
     ]
    },
    {
     "name": "stdout",
     "output_type": "stream",
     "text": [
      "Connecting to files.osf.io|104.239.182.178|:443... connected.\n",
      "HTTP request sent, awaiting response... 200 OK\n",
      "Length: 336880922 (321M) [application/octet-stream]\n",
      "Saving to: '../tmp_Fhet_files/heteroclitus_genbank_GBE_2017-05-12.gff'\n",
      "\n",
      "../tmp_Fhet_files/h 100%[===================>] 321.27M  7.64MB/s    in 59s     \n",
      "\n",
      "2018-04-23 11:13:08 (5.43 MB/s) - '../tmp_Fhet_files/heteroclitus_genbank_GBE_2017-05-12.gff' saved [336880922/336880922]\n",
      "\n"
     ]
    }
   ],
   "source": [
    "!wget -O ../tmp_Fhet_files/GCF_000826765.1_Fundulus_heteroclitus-3.0.2_rna.fna.gz ftp://ftp.ncbi.nlm.nih.gov/genomes/all/GCF/000/826/765/GCF_000826765.1_Fundulus_heteroclitus-3.0.2/GCF_000826765.1_Fundulus_heteroclitus-3.0.2_rna.fna.gz \\\n",
    "    && gunzip ../tmp_Fhet_files/GCF_000826765.1_Fundulus_heteroclitus-3.0.2_rna.fna.gz\n",
    "!wget -O ../tmp_Fhet_files/GCF_000826765.1_Fundulus_heteroclitus-3.0.2_genomic.gff.gz ftp://ftp.ncbi.nlm.nih.gov/genomes/all/GCF/000/826/765/GCF_000826765.1_Fundulus_heteroclitus-3.0.2/GCF_000826765.1_Fundulus_heteroclitus-3.0.2_genomic.gff.gz \\\n",
    "    && gunzip ../tmp_Fhet_files/GCF_000826765.1_Fundulus_heteroclitus-3.0.2_genomic.gff.gz\n",
    "!wget -O ../tmp_Fhet_files/NCBI.rna.fa.gz ftp://ftp.ncbi.nlm.nih.gov/genomes/Fundulus_heteroclitus/RNA/rna.fa.gz \\\n",
    "    && gunzip ../tmp_Fhet_files/NCBI.rna.fa.gz\n",
    "!wget -O ../tmp_Fhet_files/ref_Fundulus_heteroclitus-3.0.2_top_level.gff3.gz ftp://ftp.ncbi.nlm.nih.gov/genomes/Fundulus_heteroclitus/GFF/ref_Fundulus_heteroclitus-3.0.2_top_level.gff3.gz \\\n",
    "    && gunzip ../tmp_Fhet_files/ref_Fundulus_heteroclitus-3.0.2_top_level.gff3.gz\n",
    "!wget -O ../tmp_Fhet_files/kfish2rae5g.main.pub.mrna.gz http://arthropods.eugenes.org/EvidentialGene/killifish/Genes/kfish2rae5/kfish2rae5g.main.pub.mrna.gz \\\n",
    "    && gunzip ../tmp_Fhet_files/kfish2rae5g.main.pub.mrna.gz\n",
    "!wget -O ../tmp_Fhet_files/kfish2rae5g.alt.pub.mrna.gz http://arthropods.eugenes.org/EvidentialGene/killifish/Genes/kfish2rae5/kfish2rae5g.alt.pub.mrna.gz \\\n",
    "    && gunzip ../tmp_Fhet_files/kfish2rae5g.alt.pub.mrna.gz\n",
    "!wget -O ../tmp_Fhet_files/kfish2rae5g.mrna.combined.fa https://osf.io/xwzqj/download\n",
    "!wget -O ../tmp_Fhet_files/kfish2rae5g.main.pub.gff.gz http://arthropods.eugenes.org/EvidentialGene/killifish/Genes/kfish2rae5/kfish2rae5g.main.pub.gff.gz \\\n",
    "    && gunzip ../tmp_Fhet_files/kfish2rae5g.main.pub.gff.gz\n",
    "!wget -O ../tmp_Fhet_files/kfish2rae5g.alt.pub.gff.gz http://arthropods.eugenes.org/EvidentialGene/killifish/Genes/kfish2rae5/kfish2rae5g.alt.pub.gff.gz \\\n",
    "    && gunzip ../tmp_Fhet_files/kfish2rae5g.alt.pub.gff.gz\n",
    "!wget -O ../tmp_Fhet_files/heteroclitus_refseq_GBE_2017-05-12.gff https://osf.io/734fu/download\n",
    "!wget -O ../tmp_Fhet_files/heteroclitus_genbank_GBE_2017-05-12.gff https://osf.io/dxenz/download"
   ]
  },
  {
   "cell_type": "markdown",
   "metadata": {},
   "source": [
    "# Look at the files you just downloaded:"
   ]
  },
  {
   "cell_type": "code",
   "execution_count": 6,
   "metadata": {},
   "outputs": [
    {
     "name": "stdout",
     "output_type": "stream",
     "text": [
      "total 4820376\r\n",
      "drwxr-xr-x  13 johnsolk  staff   416B Apr 23 11:12 \u001b[34m.\u001b[m\u001b[m\r\n",
      "drwxr-xr-x  32 johnsolk  staff   1.0K Apr 23 11:02 \u001b[34m..\u001b[m\u001b[m\r\n",
      "-rw-r--r--   1 johnsolk  staff   302M Apr 23 11:07 GCF_000826765.1_Fundulus_heteroclitus-3.0.2_genomic.gff\r\n",
      "-rw-r--r--   1 johnsolk  staff   130M Apr 23 11:07 GCF_000826765.1_Fundulus_heteroclitus-3.0.2_rna.fna\r\n",
      "-rw-r--r--   1 johnsolk  staff   131M Apr 23 11:07 NCBI.rna.fa\r\n",
      "-rw-r--r--@  1 johnsolk  staff   321M Apr 23 11:13 heteroclitus_genbank_GBE_2017-05-12.gff\r\n",
      "-rw-r--r--@  1 johnsolk  staff   330M Apr 23 11:12 heteroclitus_refseq_GBE_2017-05-12.gff\r\n",
      "-rw-r--r--   1 johnsolk  staff   159M Jan  3  2014 kfish2rae5g.alt.pub.gff\r\n",
      "-rw-r--r--   1 johnsolk  staff   194M Jan  4  2014 kfish2rae5g.alt.pub.mrna\r\n",
      "-rw-r--r--   1 johnsolk  staff    60M Jan  3  2014 kfish2rae5g.main.pub.gff\r\n",
      "-rw-r--r--   1 johnsolk  staff    85M Jan  5  2014 kfish2rae5g.main.pub.mrna\r\n",
      "-rw-r--r--@  1 johnsolk  staff   279M Apr 23 11:09 kfish2rae5g.mrna.combined.fa\r\n",
      "-rw-r--r--   1 johnsolk  staff   302M Apr 23 11:08 ref_Fundulus_heteroclitus-3.0.2_top_level.gff3\r\n"
     ]
    }
   ],
   "source": [
    "!ls -lah ../tmp_Fhet_files/"
   ]
  },
  {
   "cell_type": "markdown",
   "metadata": {},
   "source": [
    "# Comparison Stats and Visualizations"
   ]
  },
  {
   "cell_type": "code",
   "execution_count": 7,
   "metadata": {
    "collapsed": true
   },
   "outputs": [],
   "source": [
    "import matplotlib.pyplot as plt\n",
    "from matplotlib_venn import venn2\n",
    "# requires dammit env\n",
    "# source activate dammit\n",
    "import pandas as pd\n",
    "from dammit.fileio.gff3 import GFF3Parser"
   ]
  },
  {
   "cell_type": "markdown",
   "metadata": {},
   "source": [
    "### NCBI, number of transcripts"
   ]
  },
  {
   "cell_type": "code",
   "execution_count": 9,
   "metadata": {},
   "outputs": [
    {
     "name": "stdout",
     "output_type": "stream",
     "text": [
      "41170\r\n"
     ]
    }
   ],
   "source": [
    "!grep -c \"^>\" ../tmp_Fhet_files/GCF_000826765.1_Fundulus_heteroclitus-3.0.2_rna.fna"
   ]
  },
  {
   "cell_type": "code",
   "execution_count": 11,
   "metadata": {},
   "outputs": [
    {
     "name": "stdout",
     "output_type": "stream",
     "text": [
      "41170\r\n"
     ]
    }
   ],
   "source": [
    "!grep -c \"^>\" ../tmp_Fhet_files/NCBI.rna.fa"
   ]
  },
  {
   "cell_type": "markdown",
   "metadata": {},
   "source": [
    "### Don Gilbert, number of transcripts"
   ]
  },
  {
   "cell_type": "code",
   "execution_count": 14,
   "metadata": {},
   "outputs": [
    {
     "name": "stdout",
     "output_type": "stream",
     "text": [
      "34924\r\n"
     ]
    }
   ],
   "source": [
    "!grep -c \"^>\" ../tmp_Fhet_files/kfish2rae5g.main.pub.mrna"
   ]
  },
  {
   "cell_type": "code",
   "execution_count": 15,
   "metadata": {},
   "outputs": [
    {
     "name": "stdout",
     "output_type": "stream",
     "text": [
      "75107\r\n"
     ]
    }
   ],
   "source": [
    "!grep -c \"^>\" ../tmp_Fhet_files/kfish2rae5g.alt.pub.mrna"
   ]
  },
  {
   "cell_type": "code",
   "execution_count": 16,
   "metadata": {},
   "outputs": [
    {
     "name": "stdout",
     "output_type": "stream",
     "text": [
      "110031\r\n"
     ]
    }
   ],
   "source": [
    "!grep -c \"^>\" ../tmp_Fhet_files/kfish2rae5g.mrna.combined.fa"
   ]
  },
  {
   "cell_type": "markdown",
   "metadata": {},
   "source": [
    "# Gene names"
   ]
  },
  {
   "cell_type": "code",
   "execution_count": 17,
   "metadata": {},
   "outputs": [
    {
     "name": "stderr",
     "output_type": "stream",
     "text": [
      "/Users/johnsolk/anaconda3/lib/python3.6/site-packages/dammit/fileio/gff3.py:73: ParserWarning: Both a converter and dtype were specified for column attributes - only the converter will be used\n",
      "  dtype=dict(self.columns)):\n",
      "/Users/johnsolk/anaconda3/lib/python3.6/site-packages/dammit/fileio/gff3.py:73: ParserWarning: Both a converter and dtype were specified for column attributes - only the converter will be used\n",
      "  dtype=dict(self.columns)):\n"
     ]
    }
   ],
   "source": [
    "DonGilbert_annotations_main = GFF3Parser(filename=\"../tmp_Fhet_files/kfish2rae5g.main.pub.gff\").read()"
   ]
  },
  {
   "cell_type": "code",
   "execution_count": 19,
   "metadata": {},
   "outputs": [
    {
     "name": "stdout",
     "output_type": "stream",
     "text": [
      "34925\n"
     ]
    }
   ],
   "source": [
    "print(len(pd.unique(DonGilbert_annotations_main['Parent'].dropna())))"
   ]
  },
  {
   "cell_type": "code",
   "execution_count": 21,
   "metadata": {},
   "outputs": [],
   "source": [
    "DonGilbert_genenames_main = DonGilbert_annotations_main.dropna(subset=['ID','Name']).drop_duplicates(subset='ID')[['ID','Name']]"
   ]
  },
  {
   "cell_type": "code",
   "execution_count": 22,
   "metadata": {},
   "outputs": [
    {
     "name": "stdout",
     "output_type": "stream",
     "text": [
      "(34925, 2)\n"
     ]
    }
   ],
   "source": [
    "print(DonGilbert_genenames_main.shape)"
   ]
  },
  {
   "cell_type": "code",
   "execution_count": 23,
   "metadata": {},
   "outputs": [
    {
     "name": "stdout",
     "output_type": "stream",
     "text": [
      "                    ID                                               Name\n",
      "1    Funhe2EKm000003t1                      Homeobox protein CDX-1 (91%P)\n",
      "9    Funhe2EKm000004t1  Platelet-derived growth factor receptor, beta ...\n",
      "56   Funhe2EKm000005t1  Vascular endothelial growth factor receptor kd...\n",
      "105  Funhe2EKm000221t1       Component of oligomeric golgi complex (90%P)\n",
      "136  Funhe2EKm000006t1                  HMG box domain containing (100%P)\n"
     ]
    }
   ],
   "source": [
    "print(DonGilbert_genenames_main.head())"
   ]
  },
  {
   "cell_type": "code",
   "execution_count": 25,
   "metadata": {},
   "outputs": [
    {
     "name": "stderr",
     "output_type": "stream",
     "text": [
      "/Users/johnsolk/anaconda3/lib/python3.6/site-packages/dammit/fileio/gff3.py:73: ParserWarning: Both a converter and dtype were specified for column attributes - only the converter will be used\n",
      "  dtype=dict(self.columns)):\n"
     ]
    }
   ],
   "source": [
    "DonGilbert_annotations_alt = GFF3Parser(filename=\"../tmp_Fhet_files/kfish2rae5g.alt.pub.gff\").read()"
   ]
  },
  {
   "cell_type": "code",
   "execution_count": 26,
   "metadata": {},
   "outputs": [
    {
     "name": "stdout",
     "output_type": "stream",
     "text": [
      "75210\n"
     ]
    }
   ],
   "source": [
    "print(len(pd.unique(DonGilbert_annotations_alt['Parent'].dropna())))"
   ]
  },
  {
   "cell_type": "code",
   "execution_count": 27,
   "metadata": {
    "collapsed": true
   },
   "outputs": [],
   "source": [
    "DonGilbert_genenames_alt = DonGilbert_annotations_alt.dropna(subset=['ID','Name']).drop_duplicates(subset='ID')[['ID','Name']]"
   ]
  },
  {
   "cell_type": "code",
   "execution_count": 28,
   "metadata": {},
   "outputs": [
    {
     "name": "stdout",
     "output_type": "stream",
     "text": [
      "(75228, 2)\n"
     ]
    }
   ],
   "source": [
    "print(DonGilbert_genenames_alt.shape)"
   ]
  },
  {
   "cell_type": "code",
   "execution_count": 29,
   "metadata": {},
   "outputs": [
    {
     "name": "stdout",
     "output_type": "stream",
     "text": [
      "                   ID                                               Name\n",
      "1   Funhe2EKm004814t2                  60S ribosomal protein L26 (100%M)\n",
      "9   Funhe2EKm004814t3                   60S ribosomal protein L26 (73%M)\n",
      "17  Funhe2EKm004814t4                            Uncharacterized protein\n",
      "29  Funhe2EKm000057t2  Down syndrome cell adhesion molecule protein D...\n",
      "42  Funhe2EKm000057t3  Down syndrome cell adhesion molecule protein D...\n"
     ]
    }
   ],
   "source": [
    "print(DonGilbert_genenames_alt.head())"
   ]
  },
  {
   "cell_type": "code",
   "execution_count": 31,
   "metadata": {},
   "outputs": [
    {
     "name": "stderr",
     "output_type": "stream",
     "text": [
      "/Users/johnsolk/anaconda3/lib/python3.6/site-packages/dammit/fileio/gff3.py:73: ParserWarning: Both a converter and dtype were specified for column attributes - only the converter will be used\n",
      "  dtype=dict(self.columns)):\n"
     ]
    }
   ],
   "source": [
    "NCBI_annotations = GFF3Parser(filename=\"../tmp_Fhet_files/GCF_000826765.1_Fundulus_heteroclitus-3.0.2_genomic.gff\").read()"
   ]
  },
  {
   "cell_type": "code",
   "execution_count": 79,
   "metadata": {},
   "outputs": [
    {
     "data": {
      "text/html": [
       "<div>\n",
       "<style scoped>\n",
       "    .dataframe tbody tr th:only-of-type {\n",
       "        vertical-align: middle;\n",
       "    }\n",
       "\n",
       "    .dataframe tbody tr th {\n",
       "        vertical-align: top;\n",
       "    }\n",
       "\n",
       "    .dataframe thead th {\n",
       "        text-align: right;\n",
       "    }\n",
       "</style>\n",
       "<table border=\"1\" class=\"dataframe\">\n",
       "  <thead>\n",
       "    <tr style=\"text-align: right;\">\n",
       "      <th></th>\n",
       "      <th>Dbxref</th>\n",
       "      <th>Gap</th>\n",
       "      <th>ID</th>\n",
       "      <th>Is_circular</th>\n",
       "      <th>Name</th>\n",
       "      <th>Note</th>\n",
       "      <th>Parent</th>\n",
       "      <th>Target</th>\n",
       "      <th>anticodon</th>\n",
       "      <th>chromosome</th>\n",
       "      <th>...</th>\n",
       "      <th>splices</th>\n",
       "      <th>standard_name</th>\n",
       "      <th>start</th>\n",
       "      <th>start_range</th>\n",
       "      <th>strand</th>\n",
       "      <th>transcript_id</th>\n",
       "      <th>transl_except</th>\n",
       "      <th>transl_table</th>\n",
       "      <th>type</th>\n",
       "      <th>weighted_identity</th>\n",
       "    </tr>\n",
       "  </thead>\n",
       "  <tbody>\n",
       "    <tr>\n",
       "      <th>0</th>\n",
       "      <td>taxon:8078</td>\n",
       "      <td>NaN</td>\n",
       "      <td>id0</td>\n",
       "      <td>NaN</td>\n",
       "      <td>Unknown</td>\n",
       "      <td>NaN</td>\n",
       "      <td>NaN</td>\n",
       "      <td>NaN</td>\n",
       "      <td>NaN</td>\n",
       "      <td>Unknown</td>\n",
       "      <td>...</td>\n",
       "      <td>NaN</td>\n",
       "      <td>NaN</td>\n",
       "      <td>0</td>\n",
       "      <td>NaN</td>\n",
       "      <td>+</td>\n",
       "      <td>NaN</td>\n",
       "      <td>NaN</td>\n",
       "      <td>NaN</td>\n",
       "      <td>region</td>\n",
       "      <td>NaN</td>\n",
       "    </tr>\n",
       "    <tr>\n",
       "      <th>1</th>\n",
       "      <td>GeneID:105920463</td>\n",
       "      <td>NaN</td>\n",
       "      <td>gene0</td>\n",
       "      <td>NaN</td>\n",
       "      <td>cdx1</td>\n",
       "      <td>NaN</td>\n",
       "      <td>NaN</td>\n",
       "      <td>NaN</td>\n",
       "      <td>NaN</td>\n",
       "      <td>NaN</td>\n",
       "      <td>...</td>\n",
       "      <td>NaN</td>\n",
       "      <td>NaN</td>\n",
       "      <td>5029</td>\n",
       "      <td>NaN</td>\n",
       "      <td>-</td>\n",
       "      <td>NaN</td>\n",
       "      <td>NaN</td>\n",
       "      <td>NaN</td>\n",
       "      <td>gene</td>\n",
       "      <td>NaN</td>\n",
       "    </tr>\n",
       "    <tr>\n",
       "      <th>2</th>\n",
       "      <td>GeneID:105920463,Genbank:XM_012856390.2</td>\n",
       "      <td>NaN</td>\n",
       "      <td>rna0</td>\n",
       "      <td>NaN</td>\n",
       "      <td>XM_012856390.2</td>\n",
       "      <td>NaN</td>\n",
       "      <td>gene0</td>\n",
       "      <td>NaN</td>\n",
       "      <td>NaN</td>\n",
       "      <td>NaN</td>\n",
       "      <td>...</td>\n",
       "      <td>NaN</td>\n",
       "      <td>NaN</td>\n",
       "      <td>5029</td>\n",
       "      <td>NaN</td>\n",
       "      <td>-</td>\n",
       "      <td>XM_012856390.2</td>\n",
       "      <td>NaN</td>\n",
       "      <td>NaN</td>\n",
       "      <td>mRNA</td>\n",
       "      <td>NaN</td>\n",
       "    </tr>\n",
       "    <tr>\n",
       "      <th>3</th>\n",
       "      <td>GeneID:105920463,Genbank:XM_012856390.2</td>\n",
       "      <td>NaN</td>\n",
       "      <td>id1</td>\n",
       "      <td>NaN</td>\n",
       "      <td>NaN</td>\n",
       "      <td>NaN</td>\n",
       "      <td>rna0</td>\n",
       "      <td>NaN</td>\n",
       "      <td>NaN</td>\n",
       "      <td>NaN</td>\n",
       "      <td>...</td>\n",
       "      <td>NaN</td>\n",
       "      <td>NaN</td>\n",
       "      <td>10044</td>\n",
       "      <td>NaN</td>\n",
       "      <td>-</td>\n",
       "      <td>XM_012856390.2</td>\n",
       "      <td>NaN</td>\n",
       "      <td>NaN</td>\n",
       "      <td>exon</td>\n",
       "      <td>NaN</td>\n",
       "    </tr>\n",
       "    <tr>\n",
       "      <th>4</th>\n",
       "      <td>GeneID:105920463,Genbank:XM_012856390.2</td>\n",
       "      <td>NaN</td>\n",
       "      <td>id2</td>\n",
       "      <td>NaN</td>\n",
       "      <td>NaN</td>\n",
       "      <td>NaN</td>\n",
       "      <td>rna0</td>\n",
       "      <td>NaN</td>\n",
       "      <td>NaN</td>\n",
       "      <td>NaN</td>\n",
       "      <td>...</td>\n",
       "      <td>NaN</td>\n",
       "      <td>NaN</td>\n",
       "      <td>8334</td>\n",
       "      <td>NaN</td>\n",
       "      <td>-</td>\n",
       "      <td>XM_012856390.2</td>\n",
       "      <td>NaN</td>\n",
       "      <td>NaN</td>\n",
       "      <td>exon</td>\n",
       "      <td>NaN</td>\n",
       "    </tr>\n",
       "  </tbody>\n",
       "</table>\n",
       "<p>5 rows × 61 columns</p>\n",
       "</div>"
      ],
      "text/plain": [
       "                                    Dbxref  Gap     ID Is_circular  \\\n",
       "0                               taxon:8078  NaN    id0         NaN   \n",
       "1                         GeneID:105920463  NaN  gene0         NaN   \n",
       "2  GeneID:105920463,Genbank:XM_012856390.2  NaN   rna0         NaN   \n",
       "3  GeneID:105920463,Genbank:XM_012856390.2  NaN    id1         NaN   \n",
       "4  GeneID:105920463,Genbank:XM_012856390.2  NaN    id2         NaN   \n",
       "\n",
       "             Name Note Parent Target anticodon chromosome        ...         \\\n",
       "0         Unknown  NaN    NaN    NaN       NaN    Unknown        ...          \n",
       "1            cdx1  NaN    NaN    NaN       NaN        NaN        ...          \n",
       "2  XM_012856390.2  NaN  gene0    NaN       NaN        NaN        ...          \n",
       "3             NaN  NaN   rna0    NaN       NaN        NaN        ...          \n",
       "4             NaN  NaN   rna0    NaN       NaN        NaN        ...          \n",
       "\n",
       "  splices standard_name  start start_range  strand   transcript_id  \\\n",
       "0     NaN           NaN      0         NaN       +             NaN   \n",
       "1     NaN           NaN   5029         NaN       -             NaN   \n",
       "2     NaN           NaN   5029         NaN       -  XM_012856390.2   \n",
       "3     NaN           NaN  10044         NaN       -  XM_012856390.2   \n",
       "4     NaN           NaN   8334         NaN       -  XM_012856390.2   \n",
       "\n",
       "  transl_except transl_table    type weighted_identity  \n",
       "0           NaN          NaN  region               NaN  \n",
       "1           NaN          NaN    gene               NaN  \n",
       "2           NaN          NaN    mRNA               NaN  \n",
       "3           NaN          NaN    exon               NaN  \n",
       "4           NaN          NaN    exon               NaN  \n",
       "\n",
       "[5 rows x 61 columns]"
      ]
     },
     "execution_count": 79,
     "metadata": {},
     "output_type": "execute_result"
    }
   ],
   "source": [
    "NCBI_annotations.head()"
   ]
  },
  {
   "cell_type": "code",
   "execution_count": 44,
   "metadata": {},
   "outputs": [
    {
     "data": {
      "text/plain": [
       "Index(['Dbxref', 'Gap', 'ID', 'Is_circular', 'Name', 'Note', 'Parent',\n",
       "       'Target', 'anticodon', 'chromosome', 'codons', 'collected-by',\n",
       "       'consensus_splices', 'description', 'end', 'end_range', 'exception',\n",
       "       'exon_identity', 'for_remapping', 'gap_count', 'gbkey', 'gene',\n",
       "       'gene_biotype', 'gene_synonym', 'genome', 'identity', 'idty',\n",
       "       'inference', 'isolate', 'lat-lon', 'matches', 'model_evidence',\n",
       "       'mol_type', 'num_ident', 'num_mismatch', 'partial', 'pct_coverage',\n",
       "       'pct_coverage_hiqual', 'pct_identity_gap', 'pct_identity_ungap',\n",
       "       'phase', 'pop-variant', 'product', 'product_coverage', 'protein_id',\n",
       "       'pseudo', 'rank', 'score', 'seqid', 'sex', 'source', 'splices',\n",
       "       'standard_name', 'start', 'start_range', 'strand', 'transcript_id',\n",
       "       'transl_except', 'transl_table', 'type', 'weighted_identity'],\n",
       "      dtype='object')"
      ]
     },
     "execution_count": 44,
     "metadata": {},
     "output_type": "execute_result"
    }
   ],
   "source": [
    "NCBI_annotations.columns"
   ]
  },
  {
   "cell_type": "code",
   "execution_count": 12,
   "metadata": {
    "collapsed": true
   },
   "outputs": [],
   "source": [
    "# Andrew mentioned these are total transcripts\n",
    "# Look at number of unique proteins\n",
    "# transcript ID = \"XM_\"\n",
    "# gene ID = \"NW_\"\n",
    "# protein ID = \"XP_\""
   ]
  },
  {
   "cell_type": "code",
   "execution_count": 123,
   "metadata": {},
   "outputs": [
    {
     "name": "stdout",
     "output_type": "stream",
     "text": [
      "Number of unique gene ID ('NW_') : 10180\n",
      "Number of unique transcripts ('XM_') : 41170\n",
      "Number of unique protein ID ('XP_') : 38234\n"
     ]
    }
   ],
   "source": [
    "print(\"Number of unique gene ID ('NW_') :\",len(pd.unique(NCBI_annotations['seqid'].dropna())))\n",
    "print(\"Number of unique transcripts ('XM_') :\",len(pd.unique(NCBI_annotations['transcript_id'].dropna())))\n",
    "print(\"Number of unique protein ID ('XP_') :\",len(pd.unique(NCBI_annotations['protein_id'].dropna())))"
   ]
  },
  {
   "cell_type": "code",
   "execution_count": 119,
   "metadata": {
    "collapsed": true
   },
   "outputs": [],
   "source": [
    "# protein_id\n",
    "NCBI_genenames = NCBI_annotations.dropna(subset=['product']).drop_duplicates(subset='transcript_id')[['transcript_id','product','seqid','protein_id']]"
   ]
  },
  {
   "cell_type": "code",
   "execution_count": 116,
   "metadata": {
    "collapsed": true
   },
   "outputs": [],
   "source": [
    "NCBI_genenames = NCBI_annotations.dropna(subset=['transcript_id','product','seqid']).drop_duplicates(subset='transcript_id')[['transcript_id','product','seqid']]"
   ]
  },
  {
   "cell_type": "code",
   "execution_count": 120,
   "metadata": {},
   "outputs": [
    {
     "name": "stdout",
     "output_type": "stream",
     "text": [
      "(41171, 4)\n"
     ]
    }
   ],
   "source": [
    "print(NCBI_genenames.shape)"
   ]
  },
  {
   "cell_type": "code",
   "execution_count": 121,
   "metadata": {},
   "outputs": [
    {
     "name": "stdout",
     "output_type": "stream",
     "text": [
      "       transcript_id                                            product  \\\n",
      "2     XM_012856390.2                             caudal type homeobox 1   \n",
      "6                NaN                             homeobox protein CDX-1   \n",
      "10    XM_021321288.1       platelet derived growth factor receptor beta   \n",
      "54    XM_012849362.2  colony stimulating factor 1 receptor%2C transc...   \n",
      "98    XM_012849437.2  colony stimulating factor 1 receptor%2C transc...   \n",
      "143   XM_021323826.1      HMG-box containing 3%2C transcript variant X1   \n",
      "185   XM_021324189.1      HMG-box containing 3%2C transcript variant X2   \n",
      "228   XM_021307801.1   SLC35A4 upstream open reading frame protein-like   \n",
      "236   XM_012849668.2                 solute carrier family 35 member A4   \n",
      "240   XM_021324703.1                           kinesin-like protein K39   \n",
      "265   XM_012849893.2                                      CD74 molecule   \n",
      "285   XM_012850008.2             N-deacetylase and N-sulfotransferase 1   \n",
      "316   XM_012850118.2  RNA binding motif protein 22%2C transcript var...   \n",
      "339   XM_021308893.1  RNA binding motif protein 22%2C transcript var...   \n",
      "362   XM_012850305.2                myozenin 3%2C transcript variant X2   \n",
      "374   XM_012850458.2                myozenin 3%2C transcript variant X3   \n",
      "386   XM_012850234.2                myozenin 3%2C transcript variant X1   \n",
      "398   XM_012850585.2             ADP-ribosylation factor-like protein 3   \n",
      "412   XR_002428738.1                       uncharacterized LOC105921390   \n",
      "417   XR_001165608.2                       uncharacterized LOC105921965   \n",
      "423   XM_021309317.1  regulator of G protein signaling 14%2C transcr...   \n",
      "454   XM_021309272.1  regulator of G protein signaling 14%2C transcr...   \n",
      "485   XM_021309198.1  regulator of G protein signaling 14%2C transcr...   \n",
      "516   XM_021309240.1  regulator of G protein signaling 14%2C transcr...   \n",
      "548   XM_012851138.2  sodium-dependent phosphate transport protein 2...   \n",
      "573   XM_021309138.1  sodium-dependent phosphate transport protein 2...   \n",
      "599   XM_012858822.2                 alpha-2Db adrenergic receptor-like   \n",
      "603   XM_021309527.1  SUMO interacting motifs containing 1%2C transc...   \n",
      "625   XM_021309486.1  SUMO interacting motifs containing 1%2C transc...   \n",
      "647   XM_021309414.1  SUMO interacting motifs containing 1%2C transc...   \n",
      "668   XM_021309553.1  SUMO interacting motifs containing 1%2C transc...   \n",
      "689   XM_021309447.1  SUMO interacting motifs containing 1%2C transc...   \n",
      "711   XM_021309584.1  SUMO interacting motifs containing 1%2C transc...   \n",
      "732   XM_012851365.2           CCR4-NOT transcription complex subunit 6   \n",
      "747   XM_021309689.1  A disintegrin and metalloproteinase with throm...   \n",
      "794   XM_021309723.1  A disintegrin and metalloproteinase with throm...   \n",
      "839   XM_012851479.2  A disintegrin and metalloproteinase with throm...   \n",
      "884   XM_021309764.1  A disintegrin and metalloproteinase with throm...   \n",
      "912   XM_021309984.1  uncharacterized LOC105923509%2C transcript var...   \n",
      "918   XM_021309859.1  uncharacterized LOC105923509%2C transcript var...   \n",
      "924   XM_021309901.1  uncharacterized LOC105923509%2C transcript var...   \n",
      "930   XM_021310018.1  uncharacterized LOC105923509%2C transcript var...   \n",
      "934   XM_012859785.2  uncharacterized LOC105923509%2C transcript var...   \n",
      "939   XM_012860645.2                      C-X-C motif chemokine 10-like   \n",
      "949   XM_012852999.2                  receptor for activated C kinase 1   \n",
      "968   XM_012851593.2                    putative monooxygenase p33MONOX   \n",
      "986   XM_012851702.2  glutamine--fructose-6-phosphate aminotransfera...   \n",
      "1026  XM_012851821.2                 mitogen-activated protein kinase 9   \n",
      "1051  XM_021310900.1                       uncharacterized LOC105925482   \n",
      "1057  XM_012852283.2  RasGEF domain family member 1C%2C transcript v...   \n",
      "\n",
      "               seqid      protein_id  \n",
      "2     NW_012224401.1             NaN  \n",
      "6     NW_012224401.1  XP_012711844.1  \n",
      "10    NW_012224401.1             NaN  \n",
      "54    NW_012224401.1             NaN  \n",
      "98    NW_012224401.1             NaN  \n",
      "143   NW_012224401.1             NaN  \n",
      "185   NW_012224401.1             NaN  \n",
      "228   NW_012224401.1             NaN  \n",
      "236   NW_012224401.1             NaN  \n",
      "240   NW_012224401.1             NaN  \n",
      "265   NW_012224401.1             NaN  \n",
      "285   NW_012224401.1             NaN  \n",
      "316   NW_012224401.1             NaN  \n",
      "339   NW_012224401.1             NaN  \n",
      "362   NW_012224401.1             NaN  \n",
      "374   NW_012224401.1             NaN  \n",
      "386   NW_012224401.1             NaN  \n",
      "398   NW_012224401.1             NaN  \n",
      "412   NW_012224401.1             NaN  \n",
      "417   NW_012224401.1             NaN  \n",
      "423   NW_012224401.1             NaN  \n",
      "454   NW_012224401.1             NaN  \n",
      "485   NW_012224401.1             NaN  \n",
      "516   NW_012224401.1             NaN  \n",
      "548   NW_012224401.1             NaN  \n",
      "573   NW_012224401.1             NaN  \n",
      "599   NW_012224401.1             NaN  \n",
      "603   NW_012224401.1             NaN  \n",
      "625   NW_012224401.1             NaN  \n",
      "647   NW_012224401.1             NaN  \n",
      "668   NW_012224401.1             NaN  \n",
      "689   NW_012224401.1             NaN  \n",
      "711   NW_012224401.1             NaN  \n",
      "732   NW_012224401.1             NaN  \n",
      "747   NW_012224401.1             NaN  \n",
      "794   NW_012224401.1             NaN  \n",
      "839   NW_012224401.1             NaN  \n",
      "884   NW_012224401.1             NaN  \n",
      "912   NW_012224401.1             NaN  \n",
      "918   NW_012224401.1             NaN  \n",
      "924   NW_012224401.1             NaN  \n",
      "930   NW_012224401.1             NaN  \n",
      "934   NW_012224401.1             NaN  \n",
      "939   NW_012224401.1             NaN  \n",
      "949   NW_012224401.1             NaN  \n",
      "968   NW_012224401.1             NaN  \n",
      "986   NW_012224401.1             NaN  \n",
      "1026  NW_012224401.1             NaN  \n",
      "1051  NW_012224401.1             NaN  \n",
      "1057  NW_012224401.1             NaN  \n"
     ]
    }
   ],
   "source": [
    "print(NCBI_genenames.head(50))"
   ]
  },
  {
   "cell_type": "code",
   "execution_count": 110,
   "metadata": {},
   "outputs": [
    {
     "name": "stderr",
     "output_type": "stream",
     "text": [
      "/Users/johnsolk/anaconda3/lib/python3.6/site-packages/dammit/fileio/gff3.py:73: ParserWarning: Both a converter and dtype were specified for column attributes - only the converter will be used\n",
      "  dtype=dict(self.columns)):\n"
     ]
    }
   ],
   "source": [
    "WhiteheadLab_conversions = GFF3Parser(filename=\"../tmp_Fhet_files/heteroclitus_RefSeq_GBE_2017-05-12.gff\").read()"
   ]
  },
  {
   "cell_type": "code",
   "execution_count": 111,
   "metadata": {
    "collapsed": true
   },
   "outputs": [],
   "source": [
    "Whiteheadlab_genenames = WhiteheadLab_conversions.dropna(subset=['ID','Name','seqid']).drop_duplicates(subset='ID')[['ID','Name','seqid']]"
   ]
  },
  {
   "cell_type": "code",
   "execution_count": 122,
   "metadata": {},
   "outputs": [
    {
     "name": "stdout",
     "output_type": "stream",
     "text": [
      "                    ID              Name           seqid\n",
      "1    Funhe2EKm000003t1          Homeobox  NW_012224401.1\n",
      "9    Funhe2EKm000004t1  Platelet-derived  NW_012224401.1\n",
      "55   Funhe2EKm000004t2  Platelet-derived  NW_012224401.1\n",
      "97   Funhe2EKm000004t3  Platelet-derived  NW_012224401.1\n",
      "136  Funhe2EKm000004t4  Platelet-derived  NW_012224401.1\n"
     ]
    }
   ],
   "source": [
    "print(Whiteheadlab_genenames.head())"
   ]
  },
  {
   "cell_type": "code",
   "execution_count": 92,
   "metadata": {},
   "outputs": [
    {
     "name": "stdout",
     "output_type": "stream",
     "text": [
      "(98067, 3)\n"
     ]
    }
   ],
   "source": [
    "print(Whiteheadlab_genenames.shape)"
   ]
  },
  {
   "cell_type": "code",
   "execution_count": null,
   "metadata": {
    "collapsed": true
   },
   "outputs": [],
   "source": [
    "# what Funhe2EKm are we missing from this conversion file?\n",
    "# How to connect NCBI and Don Gilbert?\n",
    "# Connect gene names?"
   ]
  }
 ],
 "metadata": {
  "kernelspec": {
   "display_name": "Python 3",
   "language": "python",
   "name": "python3"
  },
  "language_info": {
   "codemirror_mode": {
    "name": "ipython",
    "version": 3
   },
   "file_extension": ".py",
   "mimetype": "text/x-python",
   "name": "python",
   "nbconvert_exporter": "python",
   "pygments_lexer": "ipython3",
   "version": "3.6.3"
  }
 },
 "nbformat": 4,
 "nbformat_minor": 2
}
