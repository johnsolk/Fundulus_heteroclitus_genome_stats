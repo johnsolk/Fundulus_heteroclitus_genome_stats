{
 "cells": [
  {
   "cell_type": "markdown",
   "metadata": {},
   "source": [
    "Fundulus heteroclitus reference genome stats\n",
    "============"
   ]
  },
  {
   "cell_type": "markdown",
   "metadata": {},
   "source": [
    "Lisa K. Johnson"
   ]
  },
  {
   "cell_type": "markdown",
   "metadata": {},
   "source": [
    "We have two versions of the *Fundulus heteroclitus* genome:\n",
    "* [NCBI](https://www.ncbi.nlm.nih.gov/genome/?term=txid8078[orgn])\n",
    "* [Don Gilbert (Indiana University), EvidentialGene](http://arthropods.eugenes.org/EvidentialGene/killifish/)\n",
    "\n",
    "**Question: What genes are in common, which are unique?**"
   ]
  },
  {
   "cell_type": "markdown",
   "metadata": {},
   "source": [
    "Notes:\n",
    "* [GFF files for refseq and GenBank](https://whiteheadresearch.wordpress.com/protocols/)\n",
    "* I made a repository in [OSF](https://osf.io/p7h4f/) for files from the [Whitehead lab website](https://whiteheadresearch.wordpress.com/protocols/) so they can be easily downloaded from the commandline:\n",
    "[Fundulus_heteroclitus_genome_files](https://osf.io/p7h4f/)\n",
    "* [NCBI genome record](https://www.ncbi.nlm.nih.gov/genome/743)\n",
    "* NCBI GenBank files: ftp://ftp.ncbi.nlm.nih.gov/genomes/all/GCA/000/826/765/GCA_000826765.1_Fundulus_heteroclitus-3.0.2\n",
    "* NBCI RefSeq files: ftp://ftp.ncbi.nlm.nih.gov/genomes/Fundulus_heteroclitus/\n",
    "* According to [NCBI](https://www.ncbi.nlm.nih.gov/assembly/model/), the prefix 'GCA' is used for for GenBank assemblies and 'GCF' for RefSeq assemblies. This is followed by an underscore and 9 digits.\n",
    "* GenBank gene ids start with `KN` and RefSeq gene ids start with `10592...`"
   ]
  },
  {
   "cell_type": "markdown",
   "metadata": {},
   "source": [
    "# Download files"
   ]
  },
  {
   "cell_type": "code",
   "execution_count": 1,
   "metadata": {
    "collapsed": true
   },
   "outputs": [],
   "source": [
    "!mkdir tmp_Fhet_files/"
   ]
  },
  {
   "cell_type": "code",
   "execution_count": 388,
   "metadata": {
    "collapsed": true
   },
   "outputs": [],
   "source": [
    "# OSF and evigene links\n",
    "#!wget -O tmp_Fhet_files/kfish2rae5g.main.pub.mrna.gz http://arthropods.eugenes.org/EvidentialGene/killifish/Genes/kfish2rae5/kfish2rae5g.main.pub.mrna.gz \\\n",
    "#    && gunzip tmp_Fhet_files/kfish2rae5g.main.pub.mrna.gz\n",
    "#!wget -O tmp_Fhet_files/kfish2rae5g.alt.pub.mrna.gz http://arthropods.eugenes.org/EvidentialGene/killifish/Genes/kfish2rae5/kfish2rae5g.alt.pub.mrna.gz \\\n",
    "#    && gunzip tmp_Fhet_files/kfish2rae5g.alt.pub.mrna.gz\n",
    "#!wget -O tmp_Fhet_files/kfish2rae5g.mrna.combined.fa https://osf.io/xwzqj/download\n",
    "#!wget -O tmp_Fhet_files/kfish2rae5g.main.pub.gff.gz http://arthropods.eugenes.org/EvidentialGene/killifish/Genes/kfish2rae5/kfish2rae5g.main.pub.gff.gz \\\n",
    "#    && gunzip tmp_Fhet_files/kfish2rae5g.main.pub.gff.gz\n",
    "#!wget -O tmp_Fhet_files/kfish2rae5g.alt.pub.gff.gz http://arthropods.eugenes.org/EvidentialGene/killifish/Genes/kfish2rae5/kfish2rae5g.alt.pub.gff.gz \\\n",
    "#    && gunzip tmp_Fhet_files/kfish2rae5g.alt.pub.gff.gz\n",
    "#!wget -O tmp_Fhet_files/heteroclitus_refseq_GBE_2017-05-12.gff https://osf.io/734fu/download\n",
    "#!wget -O tmp_Fhet_files/heteroclitus_genbank_GBE_2017-05-12.gff https://osf.io/dxenz/download"
   ]
  },
  {
   "cell_type": "code",
   "execution_count": 387,
   "metadata": {
    "collapsed": true
   },
   "outputs": [],
   "source": [
    "# NCBI links (won't work on binder)\n",
    "#!wget -O tmp_Fhet_files/GCF_000826765.1_Fundulus_heteroclitus-3.0.2_rna.fna.gz ftp://ftp.ncbi.nlm.nih.gov/genomes/all/GCF/000/826/765/GCF_000826765.1_Fundulus_heteroclitus-3.0.2/GCF_000826765.1_Fundulus_heteroclitus-3.0.2_rna.fna.gz \\\n",
    "#    && gunzip tmp_Fhet_files/GCF_000826765.1_Fundulus_heteroclitus-3.0.2_rna.fna.gz\n",
    "#!wget -O tmp_Fhet_files/GCF_000826765.1_Fundulus_heteroclitus-3.0.2_genomic.gff.gz ftp://ftp.ncbi.nlm.nih.gov/genomes/all/GCF/000/826/765/GCF_000826765.1_Fundulus_heteroclitus-3.0.2/GCF_000826765.1_Fundulus_heteroclitus-3.0.2_genomic.gff.gz \\\n",
    "#    && gunzip tmp_Fhet_files/GCF_000826765.1_Fundulus_heteroclitus-3.0.2_genomic.gff.gz\n",
    "#!wget -O tmp_Fhet_files/NCBI.rna.fa.gz ftp://ftp.ncbi.nlm.nih.gov/genomes/Fundulus_heteroclitus/RNA/rna.fa.gz \\\n",
    "#    && gunzip tmp_Fhet_files/NCBI.rna.fa.gz\n",
    "#!wget -O tmp_Fhet_files/ref_Fundulus_heteroclitus-3.0.2_top_level.gff3.gz ftp://ftp.ncbi.nlm.nih.gov/genomes/Fundulus_heteroclitus/GFF/ref_Fundulus_heteroclitus-3.0.2_top_level.gff3.gz \\\n",
    "#    && gunzip tmp_Fhet_files/ref_Fundulus_heteroclitus-3.0.2_top_level.gff3.gz\n",
    "#!wget -O tmp_Fhet_files/GCA_000826765.1_Fundulus_heteroclitus-3.0.2_genomic.gff.gz ftp://ftp.ncbi.nlm.nih.gov/genomes/all/GCA/000/826/765/GCA_000826765.1_Fundulus_heteroclitus-3.0.2/GCA_000826765.1_Fundulus_heteroclitus-3.0.2_genomic.gff.gz \\\n",
    "#    && gunzip ../tmp_Fhet_files/GCA_000826765.1_Fundulus_heteroclitus-3.0.2_genomic.gff.gz"
   ]
  },
  {
   "cell_type": "markdown",
   "metadata": {},
   "source": [
    "# Look at the files you downloaded:"
   ]
  },
  {
   "cell_type": "code",
   "execution_count": 22,
   "metadata": {},
   "outputs": [
    {
     "name": "stdout",
     "output_type": "stream",
     "text": [
      "total 6241520\r\n",
      "drwxr-xr-x  18 johnsolk  staff   576B Apr 25 10:16 \u001b[34m.\u001b[m\u001b[m\r\n",
      "drwxr-xr-x  31 johnsolk  staff   992B Apr 24 22:30 \u001b[34m..\u001b[m\u001b[m\r\n",
      "-rw-r--r--   1 johnsolk  staff   3.1M Apr 25 10:16 GCA_000826765.1_Fundulus_heteroclitus-3.0.2_genomic.gff\r\n",
      "-rw-r--r--   1 johnsolk  staff   302M Apr 23 11:07 GCF_000826765.1_Fundulus_heteroclitus-3.0.2_genomic.gff\r\n",
      "-rw-r--r--   1 johnsolk  staff   130M Apr 23 11:07 GCF_000826765.1_Fundulus_heteroclitus-3.0.2_rna.fna\r\n",
      "-rw-r--r--   1 johnsolk  staff   131M Apr 23 11:07 NCBI.rna.fa\r\n",
      "-rw-r--r--@  1 johnsolk  staff   321M Apr 23 11:13 heteroclitus_genbank_GBE_2017-05-12.gff\r\n",
      "-rw-r--r--@  1 johnsolk  staff   330M Apr 23 11:12 heteroclitus_refseq_GBE_2017-05-12.gff\r\n",
      "-rw-r--r--   1 johnsolk  staff   307M Sep 13  2015 kf2sub5_fc18w.gff3\r\n",
      "-rw-r--r--   1 johnsolk  staff   312M Sep 14  2015 kf2sub5_fc18w.gff3.liftdown\r\n",
      "-rw-r--r--@  1 johnsolk  staff   3.0M Jun  7  2016 kfish2_genequal_evgncbi.txt\r\n",
      "-rw-r--r--   1 johnsolk  staff   159M Jan  3  2014 kfish2rae5g.alt.pub.gff\r\n",
      "-rw-r--r--   1 johnsolk  staff   194M Jan  4  2014 kfish2rae5g.alt.pub.mrna\r\n",
      "-rw-r--r--   1 johnsolk  staff    60M Jan  3  2014 kfish2rae5g.main.pub.gff\r\n",
      "-rw-r--r--   1 johnsolk  staff    85M Jan  5  2014 kfish2rae5g.main.pub.mrna\r\n",
      "-rw-r--r--@  1 johnsolk  staff   279M Apr 23 11:09 kfish2rae5g.mrna.combined.fa\r\n",
      "-rw-r--r--@  1 johnsolk  staff    61M May  7  2015 kfish2rae5h_fc17_subupd4.gff3.gz\r\n",
      "-rw-r--r--   1 johnsolk  staff   302M Apr 23 11:08 ref_Fundulus_heteroclitus-3.0.2_top_level.gff3\r\n"
     ]
    }
   ],
   "source": [
    "!ls -lah tmp_Fhet_files/"
   ]
  },
  {
   "cell_type": "markdown",
   "metadata": {},
   "source": [
    "# Comparison Stats and Visualizations"
   ]
  },
  {
   "cell_type": "code",
   "execution_count": 2,
   "metadata": {
    "collapsed": true
   },
   "outputs": [],
   "source": [
    "import pickle\n",
    "import gzip\n",
    "import pandas as pd\n",
    "from dammit.fileio.gff3 import GFF3Parser"
   ]
  },
  {
   "cell_type": "markdown",
   "metadata": {},
   "source": [
    "### NCBI, number of transcripts\n",
    "\n",
    "These are transcriptome fasta files downloaded from NCBI. `GCF_000826765.1_Fundulus_heteroclitus-3.0.2_rna.fna` is from RefSeq and NCBI.rna.fa is from GenBank. Here are the number of transcripts they each contain. They should be the same: 41,170. "
   ]
  },
  {
   "cell_type": "code",
   "execution_count": 3,
   "metadata": {},
   "outputs": [
    {
     "name": "stdout",
     "output_type": "stream",
     "text": [
      "41170\r\n"
     ]
    }
   ],
   "source": [
    "!grep -c \"^>\" tmp_Fhet_files/GCF_000826765.1_Fundulus_heteroclitus-3.0.2_rna.fna"
   ]
  },
  {
   "cell_type": "code",
   "execution_count": 4,
   "metadata": {},
   "outputs": [
    {
     "name": "stdout",
     "output_type": "stream",
     "text": [
      "41170\r\n"
     ]
    }
   ],
   "source": [
    "!grep -c \"^>\" tmp_Fhet_files/NCBI.rna.fa"
   ]
  },
  {
   "cell_type": "markdown",
   "metadata": {},
   "source": [
    "### Don Gilbert, number of transcripts\n",
    "\n",
    "These are the transcriptome fasta files from Don Gilbert. `kfish2rae5g.main.pub.mrna` contains \"primary\" transcripts and `kfish2rae5g.alt.pub.mrna` contains \"alternative\" transcripts, e.g. [isoforms and splice variants](https://www.molbiolcell.org/doi/abs/10.1091/mbc.e08-08-0890). I made the file `kfish2rae5g.mrna.combined.fa` by concatenating `kfish2rae5g.main.pub.mrna` and `kfish2rae5g.alt.pub.mrna` together. The sum of the two files should equal the number of transcripts in the combined file: 110,031."
   ]
  },
  {
   "cell_type": "code",
   "execution_count": 5,
   "metadata": {},
   "outputs": [
    {
     "name": "stdout",
     "output_type": "stream",
     "text": [
      "34924\r\n"
     ]
    }
   ],
   "source": [
    "!grep -c \"^>\" tmp_Fhet_files/kfish2rae5g.main.pub.mrna"
   ]
  },
  {
   "cell_type": "code",
   "execution_count": 6,
   "metadata": {},
   "outputs": [
    {
     "name": "stdout",
     "output_type": "stream",
     "text": [
      "75107\r\n"
     ]
    }
   ],
   "source": [
    "!grep -c \"^>\" tmp_Fhet_files/kfish2rae5g.alt.pub.mrna"
   ]
  },
  {
   "cell_type": "code",
   "execution_count": 7,
   "metadata": {},
   "outputs": [
    {
     "name": "stdout",
     "output_type": "stream",
     "text": [
      "110031\r\n"
     ]
    }
   ],
   "source": [
    "!grep -c \"^>\" tmp_Fhet_files/kfish2rae5g.mrna.combined.fa"
   ]
  },
  {
   "cell_type": "markdown",
   "metadata": {},
   "source": [
    "# Gene names\n",
    "\n",
    "([gff](https://uswest.ensembl.org/info/website/upload/gff.html) stands for 'general feature format')"
   ]
  },
  {
   "cell_type": "markdown",
   "metadata": {},
   "source": [
    "### Don Gilbert's gene names\n",
    "\n",
    "These are the gene names in Don Gilbert's gff file. "
   ]
  },
  {
   "cell_type": "code",
   "execution_count": 9,
   "metadata": {},
   "outputs": [
    {
     "name": "stderr",
     "output_type": "stream",
     "text": [
      "/Users/johnsolk/anaconda3/lib/python3.6/site-packages/dammit/fileio/gff3.py:73: ParserWarning: Both a converter and dtype were specified for column attributes - only the converter will be used\n",
      "  dtype=dict(self.columns)):\n"
     ]
    }
   ],
   "source": [
    "DonGilbert_annotations_main = GFF3Parser(filename=\"tmp_Fhet_files/kfish2rae5g.main.pub.gff\").read()"
   ]
  },
  {
   "cell_type": "code",
   "execution_count": 111,
   "metadata": {
    "collapsed": true
   },
   "outputs": [],
   "source": [
    "#creates a \"pickle\" file, Python data storage file\n",
    "#DonGilbert_annotations_main.to_pickle(\"kfish2rae5g.main.pub.gff.pickle\",compression='gzip')"
   ]
  },
  {
   "cell_type": "code",
   "execution_count": 112,
   "metadata": {
    "collapsed": true
   },
   "outputs": [],
   "source": [
    "#load the pickle next time:\n",
    "#DonGilbert_annotations_pickle = pd.read_pickle(\"kfish2rae5g.main.pub.gff.pickle\",compression='gzip')\n",
    "#DonGilbert_annotations_main = DonGilbert_annotations_pickle"
   ]
  },
  {
   "cell_type": "markdown",
   "metadata": {},
   "source": [
    "Number of unique transcripts:"
   ]
  },
  {
   "cell_type": "code",
   "execution_count": 11,
   "metadata": {},
   "outputs": [
    {
     "name": "stdout",
     "output_type": "stream",
     "text": [
      "34925\n"
     ]
    }
   ],
   "source": [
    "print(len(pd.unique(DonGilbert_annotations_main['Parent'].dropna())))"
   ]
  },
  {
   "cell_type": "markdown",
   "metadata": {},
   "source": [
    "Column headers in gff:"
   ]
  },
  {
   "cell_type": "code",
   "execution_count": 12,
   "metadata": {},
   "outputs": [
    {
     "data": {
      "text/plain": [
       "Index(['Dbxref', 'ID', 'Name', 'Parent', 'Split', 'aaSize', 'cdsSize', 'end',\n",
       "       'equiv1', 'error', 'express', 'gene', 'genegroup', 'groupname',\n",
       "       'intron', 'isoform', 'mapCover', 'oid', 'oname', 'ortholog', 'paralog',\n",
       "       'phase', 'quality', 'score_x', 'score_y', 'seqid', 'source', 'start',\n",
       "       'strand', 'type'],\n",
       "      dtype='object')"
      ]
     },
     "execution_count": 12,
     "metadata": {},
     "output_type": "execute_result"
    }
   ],
   "source": [
    "DonGilbert_annotations_main.columns"
   ]
  },
  {
   "cell_type": "markdown",
   "metadata": {},
   "source": [
    "Subset all gff features into only unique 'ID', 'Name' and 'gene'. \n",
    "* 'ID' is the transcript ID\n",
    "* 'Name' is gene name \n",
    "* 'gene' is gene ID"
   ]
  },
  {
   "cell_type": "code",
   "execution_count": 13,
   "metadata": {
    "collapsed": true
   },
   "outputs": [],
   "source": [
    "DonGilbert_genenames_main = DonGilbert_annotations_main.dropna(subset=['ID','Name','gene']).drop_duplicates(subset='ID')[['ID','Name','gene']]"
   ]
  },
  {
   "cell_type": "markdown",
   "metadata": {},
   "source": [
    "Still, the same number of transcripts:"
   ]
  },
  {
   "cell_type": "code",
   "execution_count": 14,
   "metadata": {},
   "outputs": [
    {
     "name": "stdout",
     "output_type": "stream",
     "text": [
      "(34925, 3)\n"
     ]
    }
   ],
   "source": [
    "print(DonGilbert_genenames_main.shape)"
   ]
  },
  {
   "cell_type": "code",
   "execution_count": 15,
   "metadata": {},
   "outputs": [
    {
     "name": "stdout",
     "output_type": "stream",
     "text": [
      "                    ID                                               Name  \\\n",
      "1    Funhe2EKm000003t1                      Homeobox protein CDX-1 (91%P)   \n",
      "9    Funhe2EKm000004t1  Platelet-derived growth factor receptor, beta ...   \n",
      "56   Funhe2EKm000005t1  Vascular endothelial growth factor receptor kd...   \n",
      "105  Funhe2EKm000221t1       Component of oligomeric golgi complex (90%P)   \n",
      "136  Funhe2EKm000006t1                  HMG box domain containing (100%P)   \n",
      "\n",
      "                gene  \n",
      "1    Funhe2EKm000003  \n",
      "9    Funhe2EKm000004  \n",
      "56   Funhe2EKm000005  \n",
      "105  Funhe2EKm000221  \n",
      "136  Funhe2EKm000006  \n"
     ]
    }
   ],
   "source": [
    "print(DonGilbert_genenames_main.head())"
   ]
  },
  {
   "cell_type": "code",
   "execution_count": 20,
   "metadata": {},
   "outputs": [
    {
     "name": "stderr",
     "output_type": "stream",
     "text": [
      "/Users/johnsolk/anaconda3/lib/python3.6/site-packages/dammit/fileio/gff3.py:73: ParserWarning: Both a converter and dtype were specified for column attributes - only the converter will be used\n",
      "  dtype=dict(self.columns)):\n"
     ]
    }
   ],
   "source": [
    "DonGilbert_annotations_alt = GFF3Parser(filename=\"tmp_Fhet_files/kfish2rae5g.alt.pub.gff\").read()"
   ]
  },
  {
   "cell_type": "code",
   "execution_count": 21,
   "metadata": {},
   "outputs": [
    {
     "name": "stdout",
     "output_type": "stream",
     "text": [
      "75210\n"
     ]
    }
   ],
   "source": [
    "print(len(pd.unique(DonGilbert_annotations_alt['Parent'].dropna())))"
   ]
  },
  {
   "cell_type": "code",
   "execution_count": 22,
   "metadata": {
    "collapsed": true
   },
   "outputs": [],
   "source": [
    "DonGilbert_genenames_alt = DonGilbert_annotations_alt.dropna(subset=['ID','Name','gene']).drop_duplicates(subset='ID')[['ID','Name','gene']]"
   ]
  },
  {
   "cell_type": "code",
   "execution_count": 23,
   "metadata": {},
   "outputs": [
    {
     "name": "stdout",
     "output_type": "stream",
     "text": [
      "(75228, 3)\n"
     ]
    }
   ],
   "source": [
    "print(DonGilbert_genenames_alt.shape)"
   ]
  },
  {
   "cell_type": "code",
   "execution_count": 24,
   "metadata": {},
   "outputs": [
    {
     "name": "stdout",
     "output_type": "stream",
     "text": [
      "                   ID                                               Name  \\\n",
      "1   Funhe2EKm004814t2                  60S ribosomal protein L26 (100%M)   \n",
      "9   Funhe2EKm004814t3                   60S ribosomal protein L26 (73%M)   \n",
      "17  Funhe2EKm004814t4                            Uncharacterized protein   \n",
      "29  Funhe2EKm000057t2  Down syndrome cell adhesion molecule protein D...   \n",
      "42  Funhe2EKm000057t3  Down syndrome cell adhesion molecule protein D...   \n",
      "\n",
      "               gene  \n",
      "1   Funhe2EKm004814  \n",
      "9   Funhe2EKm004814  \n",
      "17  Funhe2EKm004814  \n",
      "29  Funhe2EKm000057  \n",
      "42  Funhe2EKm000057  \n"
     ]
    }
   ],
   "source": [
    "print(DonGilbert_genenames_alt.head())"
   ]
  },
  {
   "cell_type": "code",
   "execution_count": 25,
   "metadata": {
    "collapsed": true
   },
   "outputs": [],
   "source": [
    "combined_DonGilbert_annotations = pd.concat([DonGilbert_genenames_alt,DonGilbert_genenames_main])"
   ]
  },
  {
   "cell_type": "code",
   "execution_count": 26,
   "metadata": {},
   "outputs": [
    {
     "name": "stdout",
     "output_type": "stream",
     "text": [
      "(110153, 3)\n",
      "                   ID                                               Name  \\\n",
      "1   Funhe2EKm004814t2                  60S ribosomal protein L26 (100%M)   \n",
      "9   Funhe2EKm004814t3                   60S ribosomal protein L26 (73%M)   \n",
      "17  Funhe2EKm004814t4                            Uncharacterized protein   \n",
      "29  Funhe2EKm000057t2  Down syndrome cell adhesion molecule protein D...   \n",
      "42  Funhe2EKm000057t3  Down syndrome cell adhesion molecule protein D...   \n",
      "\n",
      "               gene  \n",
      "1   Funhe2EKm004814  \n",
      "9   Funhe2EKm004814  \n",
      "17  Funhe2EKm004814  \n",
      "29  Funhe2EKm000057  \n",
      "42  Funhe2EKm000057  \n",
      "(34985, 3)\n"
     ]
    }
   ],
   "source": [
    "print(combined_DonGilbert_annotations.shape)\n",
    "print(combined_DonGilbert_annotations.head())\n",
    "genes_combined = combined_DonGilbert_annotations.drop_duplicates(subset=\"gene\")\n",
    "print(genes_combined.shape)"
   ]
  },
  {
   "cell_type": "markdown",
   "metadata": {},
   "source": [
    "### NCBI gene names\n",
    "These are the gene names in the RefSeq gff file. "
   ]
  },
  {
   "cell_type": "code",
   "execution_count": 27,
   "metadata": {},
   "outputs": [
    {
     "name": "stderr",
     "output_type": "stream",
     "text": [
      "/Users/johnsolk/anaconda3/lib/python3.6/site-packages/dammit/fileio/gff3.py:73: ParserWarning: Both a converter and dtype were specified for column attributes - only the converter will be used\n",
      "  dtype=dict(self.columns)):\n"
     ]
    }
   ],
   "source": [
    "RefSeq_NCBI_annotations = GFF3Parser(filename=\"tmp_Fhet_files/ref_Fundulus_heteroclitus-3.0.2_top_level.gff3\").read()"
   ]
  },
  {
   "cell_type": "code",
   "execution_count": 53,
   "metadata": {
    "collapsed": true
   },
   "outputs": [],
   "source": [
    "# creates a pickle\n",
    "# RefSeq_NCBI_annotations.to_pickle(\"ref_Fundulus_heteroclitus-3.0.2_top_level.gff3.pickle\",compression='gzip')"
   ]
  },
  {
   "cell_type": "code",
   "execution_count": 114,
   "metadata": {
    "collapsed": true
   },
   "outputs": [],
   "source": [
    "#load the pickle next time:\n",
    "#RefSeq_NCBI_annotations_pickle = pd.read_pickle(\"ref_Fundulus_heteroclitus-3.0.2_top_level.gff3.pickle\",compression='gzip')\n",
    "#RefSeq_NCBI_annotations = RefSeq_NCBI_annotations_pickle"
   ]
  },
  {
   "cell_type": "code",
   "execution_count": 115,
   "metadata": {},
   "outputs": [
    {
     "name": "stdout",
     "output_type": "stream",
     "text": [
      "                                    Dbxref  Gap     ID Is_circular  \\\n",
      "0                               taxon:8078  NaN    id0         NaN   \n",
      "1                         GeneID:105920463  NaN  gene0         NaN   \n",
      "2  GeneID:105920463,Genbank:XM_012856390.2  NaN   rna0         NaN   \n",
      "3  GeneID:105920463,Genbank:XM_012856390.2  NaN    id1         NaN   \n",
      "4  GeneID:105920463,Genbank:XM_012856390.2  NaN    id2         NaN   \n",
      "\n",
      "             Name Note Parent Target anticodon chromosome        ...         \\\n",
      "0         Unknown  NaN    NaN    NaN       NaN    Unknown        ...          \n",
      "1            cdx1  NaN    NaN    NaN       NaN        NaN        ...          \n",
      "2  XM_012856390.2  NaN  gene0    NaN       NaN        NaN        ...          \n",
      "3             NaN  NaN   rna0    NaN       NaN        NaN        ...          \n",
      "4             NaN  NaN   rna0    NaN       NaN        NaN        ...          \n",
      "\n",
      "  splices standard_name  start start_range  strand   transcript_id  \\\n",
      "0     NaN           NaN      0         NaN       +             NaN   \n",
      "1     NaN           NaN   5029         NaN       -             NaN   \n",
      "2     NaN           NaN   5029         NaN       -  XM_012856390.2   \n",
      "3     NaN           NaN  10044         NaN       -  XM_012856390.2   \n",
      "4     NaN           NaN   8334         NaN       -  XM_012856390.2   \n",
      "\n",
      "  transl_except transl_table    type weighted_identity  \n",
      "0           NaN          NaN  region               NaN  \n",
      "1           NaN          NaN    gene               NaN  \n",
      "2           NaN          NaN    mRNA               NaN  \n",
      "3           NaN          NaN    exon               NaN  \n",
      "4           NaN          NaN    exon               NaN  \n",
      "\n",
      "[5 rows x 61 columns]\n"
     ]
    }
   ],
   "source": [
    "print(RefSeq_NCBI_annotations.head())"
   ]
  },
  {
   "cell_type": "code",
   "execution_count": 29,
   "metadata": {},
   "outputs": [
    {
     "data": {
      "text/plain": [
       "Index(['Dbxref', 'Gap', 'ID', 'Is_circular', 'Name', 'Note', 'Parent',\n",
       "       'Target', 'anticodon', 'chromosome', 'codons', 'collected-by',\n",
       "       'consensus_splices', 'description', 'end', 'end_range', 'exception',\n",
       "       'exon_identity', 'for_remapping', 'gap_count', 'gbkey', 'gene',\n",
       "       'gene_biotype', 'gene_synonym', 'genome', 'identity', 'idty',\n",
       "       'inference', 'isolate', 'lat-lon', 'matches', 'model_evidence',\n",
       "       'mol_type', 'num_ident', 'num_mismatch', 'partial', 'pct_coverage',\n",
       "       'pct_coverage_hiqual', 'pct_identity_gap', 'pct_identity_ungap',\n",
       "       'phase', 'pop-variant', 'product', 'product_coverage', 'protein_id',\n",
       "       'pseudo', 'rank', 'score', 'seqid', 'sex', 'source', 'splices',\n",
       "       'standard_name', 'start', 'start_range', 'strand', 'transcript_id',\n",
       "       'transl_except', 'transl_table', 'type', 'weighted_identity'],\n",
       "      dtype='object')"
      ]
     },
     "execution_count": 29,
     "metadata": {},
     "output_type": "execute_result"
    }
   ],
   "source": [
    "RefSeq_NCBI_annotations.columns"
   ]
  },
  {
   "cell_type": "code",
   "execution_count": 30,
   "metadata": {},
   "outputs": [
    {
     "data": {
      "text/html": [
       "<div>\n",
       "<style scoped>\n",
       "    .dataframe tbody tr th:only-of-type {\n",
       "        vertical-align: middle;\n",
       "    }\n",
       "\n",
       "    .dataframe tbody tr th {\n",
       "        vertical-align: top;\n",
       "    }\n",
       "\n",
       "    .dataframe thead th {\n",
       "        text-align: right;\n",
       "    }\n",
       "</style>\n",
       "<table border=\"1\" class=\"dataframe\">\n",
       "  <thead>\n",
       "    <tr style=\"text-align: right;\">\n",
       "      <th></th>\n",
       "      <th>Dbxref</th>\n",
       "      <th>Gap</th>\n",
       "      <th>ID</th>\n",
       "      <th>Is_circular</th>\n",
       "      <th>Name</th>\n",
       "      <th>Note</th>\n",
       "      <th>Parent</th>\n",
       "      <th>Target</th>\n",
       "      <th>anticodon</th>\n",
       "      <th>chromosome</th>\n",
       "      <th>...</th>\n",
       "      <th>splices</th>\n",
       "      <th>standard_name</th>\n",
       "      <th>start</th>\n",
       "      <th>start_range</th>\n",
       "      <th>strand</th>\n",
       "      <th>transcript_id</th>\n",
       "      <th>transl_except</th>\n",
       "      <th>transl_table</th>\n",
       "      <th>type</th>\n",
       "      <th>weighted_identity</th>\n",
       "    </tr>\n",
       "  </thead>\n",
       "  <tbody>\n",
       "    <tr>\n",
       "      <th>0</th>\n",
       "      <td>taxon:8078</td>\n",
       "      <td>NaN</td>\n",
       "      <td>id0</td>\n",
       "      <td>NaN</td>\n",
       "      <td>Unknown</td>\n",
       "      <td>NaN</td>\n",
       "      <td>NaN</td>\n",
       "      <td>NaN</td>\n",
       "      <td>NaN</td>\n",
       "      <td>Unknown</td>\n",
       "      <td>...</td>\n",
       "      <td>NaN</td>\n",
       "      <td>NaN</td>\n",
       "      <td>0</td>\n",
       "      <td>NaN</td>\n",
       "      <td>+</td>\n",
       "      <td>NaN</td>\n",
       "      <td>NaN</td>\n",
       "      <td>NaN</td>\n",
       "      <td>region</td>\n",
       "      <td>NaN</td>\n",
       "    </tr>\n",
       "    <tr>\n",
       "      <th>1</th>\n",
       "      <td>GeneID:105920463</td>\n",
       "      <td>NaN</td>\n",
       "      <td>gene0</td>\n",
       "      <td>NaN</td>\n",
       "      <td>cdx1</td>\n",
       "      <td>NaN</td>\n",
       "      <td>NaN</td>\n",
       "      <td>NaN</td>\n",
       "      <td>NaN</td>\n",
       "      <td>NaN</td>\n",
       "      <td>...</td>\n",
       "      <td>NaN</td>\n",
       "      <td>NaN</td>\n",
       "      <td>5029</td>\n",
       "      <td>NaN</td>\n",
       "      <td>-</td>\n",
       "      <td>NaN</td>\n",
       "      <td>NaN</td>\n",
       "      <td>NaN</td>\n",
       "      <td>gene</td>\n",
       "      <td>NaN</td>\n",
       "    </tr>\n",
       "    <tr>\n",
       "      <th>2</th>\n",
       "      <td>GeneID:105920463,Genbank:XM_012856390.2</td>\n",
       "      <td>NaN</td>\n",
       "      <td>rna0</td>\n",
       "      <td>NaN</td>\n",
       "      <td>XM_012856390.2</td>\n",
       "      <td>NaN</td>\n",
       "      <td>gene0</td>\n",
       "      <td>NaN</td>\n",
       "      <td>NaN</td>\n",
       "      <td>NaN</td>\n",
       "      <td>...</td>\n",
       "      <td>NaN</td>\n",
       "      <td>NaN</td>\n",
       "      <td>5029</td>\n",
       "      <td>NaN</td>\n",
       "      <td>-</td>\n",
       "      <td>XM_012856390.2</td>\n",
       "      <td>NaN</td>\n",
       "      <td>NaN</td>\n",
       "      <td>mRNA</td>\n",
       "      <td>NaN</td>\n",
       "    </tr>\n",
       "    <tr>\n",
       "      <th>3</th>\n",
       "      <td>GeneID:105920463,Genbank:XM_012856390.2</td>\n",
       "      <td>NaN</td>\n",
       "      <td>id1</td>\n",
       "      <td>NaN</td>\n",
       "      <td>NaN</td>\n",
       "      <td>NaN</td>\n",
       "      <td>rna0</td>\n",
       "      <td>NaN</td>\n",
       "      <td>NaN</td>\n",
       "      <td>NaN</td>\n",
       "      <td>...</td>\n",
       "      <td>NaN</td>\n",
       "      <td>NaN</td>\n",
       "      <td>10044</td>\n",
       "      <td>NaN</td>\n",
       "      <td>-</td>\n",
       "      <td>XM_012856390.2</td>\n",
       "      <td>NaN</td>\n",
       "      <td>NaN</td>\n",
       "      <td>exon</td>\n",
       "      <td>NaN</td>\n",
       "    </tr>\n",
       "    <tr>\n",
       "      <th>4</th>\n",
       "      <td>GeneID:105920463,Genbank:XM_012856390.2</td>\n",
       "      <td>NaN</td>\n",
       "      <td>id2</td>\n",
       "      <td>NaN</td>\n",
       "      <td>NaN</td>\n",
       "      <td>NaN</td>\n",
       "      <td>rna0</td>\n",
       "      <td>NaN</td>\n",
       "      <td>NaN</td>\n",
       "      <td>NaN</td>\n",
       "      <td>...</td>\n",
       "      <td>NaN</td>\n",
       "      <td>NaN</td>\n",
       "      <td>8334</td>\n",
       "      <td>NaN</td>\n",
       "      <td>-</td>\n",
       "      <td>XM_012856390.2</td>\n",
       "      <td>NaN</td>\n",
       "      <td>NaN</td>\n",
       "      <td>exon</td>\n",
       "      <td>NaN</td>\n",
       "    </tr>\n",
       "  </tbody>\n",
       "</table>\n",
       "<p>5 rows × 61 columns</p>\n",
       "</div>"
      ],
      "text/plain": [
       "                                    Dbxref  Gap     ID Is_circular  \\\n",
       "0                               taxon:8078  NaN    id0         NaN   \n",
       "1                         GeneID:105920463  NaN  gene0         NaN   \n",
       "2  GeneID:105920463,Genbank:XM_012856390.2  NaN   rna0         NaN   \n",
       "3  GeneID:105920463,Genbank:XM_012856390.2  NaN    id1         NaN   \n",
       "4  GeneID:105920463,Genbank:XM_012856390.2  NaN    id2         NaN   \n",
       "\n",
       "             Name Note Parent Target anticodon chromosome        ...         \\\n",
       "0         Unknown  NaN    NaN    NaN       NaN    Unknown        ...          \n",
       "1            cdx1  NaN    NaN    NaN       NaN        NaN        ...          \n",
       "2  XM_012856390.2  NaN  gene0    NaN       NaN        NaN        ...          \n",
       "3             NaN  NaN   rna0    NaN       NaN        NaN        ...          \n",
       "4             NaN  NaN   rna0    NaN       NaN        NaN        ...          \n",
       "\n",
       "  splices standard_name  start start_range  strand   transcript_id  \\\n",
       "0     NaN           NaN      0         NaN       +             NaN   \n",
       "1     NaN           NaN   5029         NaN       -             NaN   \n",
       "2     NaN           NaN   5029         NaN       -  XM_012856390.2   \n",
       "3     NaN           NaN  10044         NaN       -  XM_012856390.2   \n",
       "4     NaN           NaN   8334         NaN       -  XM_012856390.2   \n",
       "\n",
       "  transl_except transl_table    type weighted_identity  \n",
       "0           NaN          NaN  region               NaN  \n",
       "1           NaN          NaN    gene               NaN  \n",
       "2           NaN          NaN    mRNA               NaN  \n",
       "3           NaN          NaN    exon               NaN  \n",
       "4           NaN          NaN    exon               NaN  \n",
       "\n",
       "[5 rows x 61 columns]"
      ]
     },
     "execution_count": 30,
     "metadata": {},
     "output_type": "execute_result"
    }
   ],
   "source": [
    "RefSeq_NCBI_annotations.head()"
   ]
  },
  {
   "cell_type": "code",
   "execution_count": 31,
   "metadata": {
    "collapsed": true
   },
   "outputs": [],
   "source": [
    "RefSeq_NCBI_genenames = RefSeq_NCBI_annotations.dropna(subset=['seqid','Dbxref','transcript_id']).drop_duplicates(subset='Dbxref')[['seqid','Dbxref','transcript_id']]"
   ]
  },
  {
   "cell_type": "markdown",
   "metadata": {},
   "source": [
    "Parse ‘Dbxref’ to get unique GENE ID from NCBI."
   ]
  },
  {
   "cell_type": "code",
   "execution_count": 32,
   "metadata": {},
   "outputs": [
    {
     "name": "stdout",
     "output_type": "stream",
     "text": [
      "(41170, 3)\n"
     ]
    }
   ],
   "source": [
    "print(RefSeq_NCBI_genenames.shape)"
   ]
  },
  {
   "cell_type": "code",
   "execution_count": 33,
   "metadata": {},
   "outputs": [
    {
     "name": "stdout",
     "output_type": "stream",
     "text": [
      "              seqid                                   Dbxref   transcript_id\n",
      "2    NW_012224401.1  GeneID:105920463,Genbank:XM_012856390.2  XM_012856390.2\n",
      "10   NW_012224401.1  GeneID:105915213,Genbank:XM_021321288.1  XM_021321288.1\n",
      "54   NW_012224401.1  GeneID:105915271,Genbank:XM_012849362.2  XM_012849362.2\n",
      "98   NW_012224401.1  GeneID:105915271,Genbank:XM_012849437.2  XM_012849437.2\n",
      "143  NW_012224401.1  GeneID:105915419,Genbank:XM_021323826.1  XM_021323826.1\n"
     ]
    }
   ],
   "source": [
    "print(RefSeq_NCBI_genenames.head())"
   ]
  },
  {
   "cell_type": "code",
   "execution_count": 34,
   "metadata": {
    "collapsed": true
   },
   "outputs": [],
   "source": [
    "RefSeq_NCBI_genenames['split_1'], RefSeq_NCBI_genenames['split_2'], RefSeq_NCBI_genenames['split_3'] = RefSeq_NCBI_genenames['Dbxref'].str.split(':',0).str"
   ]
  },
  {
   "cell_type": "code",
   "execution_count": 35,
   "metadata": {},
   "outputs": [
    {
     "name": "stdout",
     "output_type": "stream",
     "text": [
      "              seqid                                   Dbxref   transcript_id  \\\n",
      "2    NW_012224401.1  GeneID:105920463,Genbank:XM_012856390.2  XM_012856390.2   \n",
      "10   NW_012224401.1  GeneID:105915213,Genbank:XM_021321288.1  XM_021321288.1   \n",
      "54   NW_012224401.1  GeneID:105915271,Genbank:XM_012849362.2  XM_012849362.2   \n",
      "98   NW_012224401.1  GeneID:105915271,Genbank:XM_012849437.2  XM_012849437.2   \n",
      "143  NW_012224401.1  GeneID:105915419,Genbank:XM_021323826.1  XM_021323826.1   \n",
      "\n",
      "    split_1            split_2         split_3  \n",
      "2    GeneID  105920463,Genbank  XM_012856390.2  \n",
      "10   GeneID  105915213,Genbank  XM_021321288.1  \n",
      "54   GeneID  105915271,Genbank  XM_012849362.2  \n",
      "98   GeneID  105915271,Genbank  XM_012849437.2  \n",
      "143  GeneID  105915419,Genbank  XM_021323826.1  \n"
     ]
    }
   ],
   "source": [
    "print(RefSeq_NCBI_genenames.head())"
   ]
  },
  {
   "cell_type": "code",
   "execution_count": 36,
   "metadata": {},
   "outputs": [
    {
     "name": "stdout",
     "output_type": "stream",
     "text": [
      "              seqid                                   Dbxref   transcript_id  \\\n",
      "2    NW_012224401.1  GeneID:105920463,Genbank:XM_012856390.2  XM_012856390.2   \n",
      "10   NW_012224401.1  GeneID:105915213,Genbank:XM_021321288.1  XM_021321288.1   \n",
      "54   NW_012224401.1  GeneID:105915271,Genbank:XM_012849362.2  XM_012849362.2   \n",
      "98   NW_012224401.1  GeneID:105915271,Genbank:XM_012849437.2  XM_012849437.2   \n",
      "143  NW_012224401.1  GeneID:105915419,Genbank:XM_021323826.1  XM_021323826.1   \n",
      "\n",
      "    split_1            split_2         split_3  \n",
      "2    GeneID  105920463,Genbank  XM_012856390.2  \n",
      "10   GeneID  105915213,Genbank  XM_021321288.1  \n",
      "54   GeneID  105915271,Genbank  XM_012849362.2  \n",
      "98   GeneID  105915271,Genbank  XM_012849437.2  \n",
      "143  GeneID  105915419,Genbank  XM_021323826.1  \n"
     ]
    }
   ],
   "source": [
    "RefSeq_NCBI_genenames_sub = RefSeq_NCBI_genenames[(RefSeq_NCBI_genenames[\"split_1\"] == 'GeneID')]\n",
    "print(RefSeq_NCBI_genenames_sub.head())"
   ]
  },
  {
   "cell_type": "code",
   "execution_count": 37,
   "metadata": {
    "collapsed": true
   },
   "outputs": [],
   "source": [
    "RefSeq_NCBI_genenames_sub['GeneID'], RefSeq_NCBI_genenames_sub['Genbank'] = RefSeq_NCBI_genenames_sub['split_2'].str.split(',', 0).str"
   ]
  },
  {
   "cell_type": "code",
   "execution_count": 38,
   "metadata": {},
   "outputs": [
    {
     "name": "stdout",
     "output_type": "stream",
     "text": [
      "              seqid                                   Dbxref   transcript_id  \\\n",
      "2    NW_012224401.1  GeneID:105920463,Genbank:XM_012856390.2  XM_012856390.2   \n",
      "10   NW_012224401.1  GeneID:105915213,Genbank:XM_021321288.1  XM_021321288.1   \n",
      "54   NW_012224401.1  GeneID:105915271,Genbank:XM_012849362.2  XM_012849362.2   \n",
      "98   NW_012224401.1  GeneID:105915271,Genbank:XM_012849437.2  XM_012849437.2   \n",
      "143  NW_012224401.1  GeneID:105915419,Genbank:XM_021323826.1  XM_021323826.1   \n",
      "\n",
      "    split_1            split_2         split_3     GeneID  Genbank  \n",
      "2    GeneID  105920463,Genbank  XM_012856390.2  105920463  Genbank  \n",
      "10   GeneID  105915213,Genbank  XM_021321288.1  105915213  Genbank  \n",
      "54   GeneID  105915271,Genbank  XM_012849362.2  105915271  Genbank  \n",
      "98   GeneID  105915271,Genbank  XM_012849437.2  105915271  Genbank  \n",
      "143  GeneID  105915419,Genbank  XM_021323826.1  105915419  Genbank  \n"
     ]
    }
   ],
   "source": [
    "print(RefSeq_NCBI_genenames_sub.head())"
   ]
  },
  {
   "cell_type": "code",
   "execution_count": 41,
   "metadata": {},
   "outputs": [
    {
     "name": "stdout",
     "output_type": "stream",
     "text": [
      "          GeneID           seqid   transcript_id\n",
      "2      105920463  NW_012224401.1  XM_012856390.2\n",
      "7500   105932240  NW_012224402.1  XM_021322060.1\n",
      "13527  105915837  NW_012224403.1  XM_021309415.1\n",
      "17167  105916749  NW_012224404.1  XM_021310176.1\n",
      "21573  110366941  NW_012224405.1  XM_021310901.1\n",
      "(3260, 3)\n"
     ]
    }
   ],
   "source": [
    "geneID_unique_scaffold = RefSeq_NCBI_genenames_sub.dropna(subset=['GeneID','seqid','transcript_id']).drop_duplicates(subset='seqid')[['GeneID','seqid','transcript_id']]\n",
    "print(geneID_unique_scaffold.head())\n",
    "print(geneID_unique_scaffold.shape)"
   ]
  },
  {
   "cell_type": "code",
   "execution_count": 42,
   "metadata": {},
   "outputs": [
    {
     "name": "stdout",
     "output_type": "stream",
     "text": [
      "        GeneID           seqid   transcript_id\n",
      "2    105920463  NW_012224401.1  XM_012856390.2\n",
      "10   105915213  NW_012224401.1  XM_021321288.1\n",
      "54   105915271  NW_012224401.1  XM_012849362.2\n",
      "143  105915419  NW_012224401.1  XM_021323826.1\n",
      "228  110366472  NW_012224401.1  XM_021307801.1\n",
      "(25600, 3)\n"
     ]
    }
   ],
   "source": [
    "geneID = RefSeq_NCBI_genenames_sub.dropna(subset=['GeneID','seqid','transcript_id']).drop_duplicates(subset='GeneID')[['GeneID','seqid','transcript_id']]\n",
    "print(geneID.head())\n",
    "print(geneID.shape)"
   ]
  },
  {
   "cell_type": "code",
   "execution_count": 43,
   "metadata": {},
   "outputs": [
    {
     "name": "stdout",
     "output_type": "stream",
     "text": [
      "        GeneID           seqid   transcript_id\n",
      "2    105920463  NW_012224401.1  XM_012856390.2\n",
      "10   105915213  NW_012224401.1  XM_021321288.1\n",
      "54   105915271  NW_012224401.1  XM_012849362.2\n",
      "98   105915271  NW_012224401.1  XM_012849437.2\n",
      "143  105915419  NW_012224401.1  XM_021323826.1\n",
      "(41170, 3)\n"
     ]
    }
   ],
   "source": [
    "transcript_ID = RefSeq_NCBI_genenames_sub.dropna(subset=['GeneID','seqid','transcript_id']).drop_duplicates(subset='transcript_id')[['GeneID','seqid','transcript_id']]\n",
    "print(transcript_ID.head())\n",
    "print(transcript_ID.shape)"
   ]
  },
  {
   "cell_type": "code",
   "execution_count": 45,
   "metadata": {},
   "outputs": [
    {
     "name": "stdout",
     "output_type": "stream",
     "text": [
      "         protein_id           seqid  \\\n",
      "6    XP_012711844.1  NW_012224401.1   \n",
      "32   XP_021176963.1  NW_012224401.1   \n",
      "77   XP_012704816.1  NW_012224401.1   \n",
      "121  XP_012704891.1  NW_012224401.1   \n",
      "165  XP_021179501.1  NW_012224401.1   \n",
      "\n",
      "                                             product    gene  \n",
      "6                             homeobox protein CDX-1    cdx1  \n",
      "32      platelet-derived growth factor receptor beta  pdgfrb  \n",
      "77   macrophage colony-stimulating factor 1 receptor   csf1r  \n",
      "121  macrophage colony-stimulating factor 1 receptor   csf1r  \n",
      "165       HMG domain-containing protein 3 isoform X1  hmgxb3  \n",
      "(38234, 4)\n"
     ]
    }
   ],
   "source": [
    "protein_ID = RefSeq_NCBI_annotations.dropna(subset=['protein_id','seqid','product','gene']).drop_duplicates(subset='protein_id')[['protein_id','seqid','product','gene']]\n",
    "print(protein_ID.head())\n",
    "print(protein_ID.shape)"
   ]
  },
  {
   "cell_type": "code",
   "execution_count": 46,
   "metadata": {},
   "outputs": [
    {
     "name": "stdout",
     "output_type": "stream",
     "text": [
      "(3042359, 6)\n",
      "       protein_id           seqid                 product  gene     GeneID  \\\n",
      "0  XP_012711844.1  NW_012224401.1  homeobox protein CDX-1  cdx1  105920463   \n",
      "1  XP_012711844.1  NW_012224401.1  homeobox protein CDX-1  cdx1  105915213   \n",
      "2  XP_012711844.1  NW_012224401.1  homeobox protein CDX-1  cdx1  105915271   \n",
      "3  XP_012711844.1  NW_012224401.1  homeobox protein CDX-1  cdx1  105915271   \n",
      "4  XP_012711844.1  NW_012224401.1  homeobox protein CDX-1  cdx1  105915419   \n",
      "\n",
      "    transcript_id  \n",
      "0  XM_012856390.2  \n",
      "1  XM_021321288.1  \n",
      "2  XM_012849362.2  \n",
      "3  XM_012849437.2  \n",
      "4  XM_021323826.1  \n"
     ]
    }
   ],
   "source": [
    "#merge protein ID and transcript ID\n",
    "protein_transcript = pd.merge(protein_ID,transcript_ID,how=\"inner\",on=\"seqid\").dropna()\n",
    "print(protein_transcript.shape)\n",
    "print(protein_transcript.head())"
   ]
  },
  {
   "cell_type": "code",
   "execution_count": 48,
   "metadata": {},
   "outputs": [
    {
     "name": "stdout",
     "output_type": "stream",
     "text": [
      "Number of unique scaffold ID ('NW_') : 10180\n",
      "Number of unique transcripts ('XM_') : 41170\n",
      "Number of unique protein ID ('XP_') : 38234\n",
      "Number of unique gene ID (parsed from 'Dbxref') : 25600\n"
     ]
    }
   ],
   "source": [
    "print(\"Number of unique scaffold ID ('NW_') :\",len(pd.unique(RefSeq_NCBI_annotations['seqid'].dropna())))\n",
    "print(\"Number of unique transcripts ('XM_') :\",len(pd.unique(RefSeq_NCBI_annotations['transcript_id'].dropna())))\n",
    "print(\"Number of unique protein ID ('XP_') :\",len(pd.unique(RefSeq_NCBI_annotations['protein_id'].dropna())))\n",
    "print(\"Number of unique gene ID (parsed from 'Dbxref') :\",len(geneID))"
   ]
  },
  {
   "cell_type": "markdown",
   "metadata": {},
   "source": [
    "### Whitehead lab website conversion file\n",
    "Conversion file to connect NCBI with his verison of the F. heteroclitus genome. \n",
    "* Made by Don Gilbert with a custom .pl script\n",
    "* The connection between NCBI and his assembly gene models required setting what he calls \"exon location equivalences\", which are based on positions on the scaffold between assemblies. \n",
    "* See this [equiv](http://arthropods.eugenes.org/EvidentialGene/killifish/submitset/genome_annotation/kfish2_genequal_evgncbi.txt) file for transcript ID to Don Gilbert's ID"
   ]
  },
  {
   "cell_type": "code",
   "execution_count": 49,
   "metadata": {},
   "outputs": [
    {
     "name": "stderr",
     "output_type": "stream",
     "text": [
      "/Users/johnsolk/anaconda3/lib/python3.6/site-packages/dammit/fileio/gff3.py:73: ParserWarning: Both a converter and dtype were specified for column attributes - only the converter will be used\n",
      "  dtype=dict(self.columns)):\n"
     ]
    }
   ],
   "source": [
    "WhiteheadLab_conversions = GFF3Parser(filename=\"tmp_Fhet_files/heteroclitus_refseq_GBE_2017-05-12.gff\").read()"
   ]
  },
  {
   "cell_type": "code",
   "execution_count": 176,
   "metadata": {
    "collapsed": true
   },
   "outputs": [],
   "source": [
    "# make a pickle file\n",
    "# WhiteheadLab_conversions.to_pickle(\"heteroclitus_refseq_GBE_2017-05-12.gff.pickle\",compression='gzip')"
   ]
  },
  {
   "cell_type": "code",
   "execution_count": 116,
   "metadata": {
    "collapsed": true
   },
   "outputs": [],
   "source": [
    "#load the pickle next time:\n",
    "#WhiteheadLab_conversions_pickle = pd.read_pickle(\"heteroclitus_refseq_GBE_2017-05-12.gff.pickle\",compression='gzip')\n",
    "#WhiteheadLab_conversions = WhiteheadLab_conversions_pickle"
   ]
  },
  {
   "cell_type": "code",
   "execution_count": 117,
   "metadata": {},
   "outputs": [
    {
     "name": "stdout",
     "output_type": "stream",
     "text": [
      "(2185530, 58)\n"
     ]
    }
   ],
   "source": [
    "print(WhiteheadLab_conversions.shape)"
   ]
  },
  {
   "cell_type": "code",
   "execution_count": 51,
   "metadata": {},
   "outputs": [
    {
     "name": "stdout",
     "output_type": "stream",
     "text": [
      "Index(['', 'Dbxref', 'ID', 'Name', 'Parent', 'Split', 'Target', 'aalen',\n",
      "       'bestaa', 'cdsfix', 'cdsoff', 'cxlen', 'end', 'equiv1', 'error', 'est',\n",
      "       'express', 'gapfill', 'gapfix', 'gapnofix', 'gene', 'genegroup', 'ggap',\n",
      "       'insrc', 'intr', 'intron', 'isoform', 'ix', 'locustag', 'lold',\n",
      "       'mapCover', 'mgap', 'must', 'namepct', 'nameref', 'nexon', 'oid',\n",
      "       'ortholog', 'osrc', 'paralog', 'phase', 'pod', 'problem', 'protein',\n",
      "       'quality', 'rseq', 'scold1', 'score', 'seqid', 'source', 'splitdupid',\n",
      "       'start', 'strand', 'swapmain', 'tblan', 'terepeat', 'trg', 'type'],\n",
      "      dtype='object')\n"
     ]
    }
   ],
   "source": [
    "print(WhiteheadLab_conversions.columns)"
   ]
  },
  {
   "cell_type": "code",
   "execution_count": 52,
   "metadata": {},
   "outputs": [
    {
     "name": "stdout",
     "output_type": "stream",
     "text": [
      "                                                   Dbxref                 ID  \\\n",
      "0  NaN                                                NaN    Funhe2EKm000003   \n",
      "1  NaN  CDD:200956,TrEMBL:UniRef50_Q90423,TrEMBL:HXB1B...  Funhe2EKm000003t1   \n",
      "2  NaN                                                NaN                NaN   \n",
      "3  NaN                                                NaN                NaN   \n",
      "4  NaN                                                NaN                NaN   \n",
      "\n",
      "       Name             Parent Split Target aalen bestaa cdsfix  ...   \\\n",
      "0       NaN                NaN   NaN    NaN   NaN    NaN    NaN  ...    \n",
      "1  Homeobox                NaN   NaN    NaN   NaN    NaN    NaN  ...    \n",
      "2       NaN  Funhe2EKm000003t1   NaN    NaN   NaN    NaN    NaN  ...    \n",
      "3       NaN  Funhe2EKm000003t1   NaN    NaN   NaN    NaN    NaN  ...    \n",
      "4       NaN  Funhe2EKm000003t1   NaN    NaN   NaN    NaN    NaN  ...    \n",
      "\n",
      "            seqid    source  splitdupid start strand swapmain tblan terepeat  \\\n",
      "0  NW_012224401.1  kf2rae5h         NaN  5066      -      NaN   NaN      NaN   \n",
      "1  NW_012224401.1  kf2rae5h         NaN  5066      -      NaN   NaN      NaN   \n",
      "2  NW_012224401.1  kf2rae5h         NaN  5066      -      NaN   NaN      NaN   \n",
      "3  NW_012224401.1  kf2rae5h         NaN  5082      -      NaN   NaN      NaN   \n",
      "4  NW_012224401.1  kf2rae5h         NaN  8334      -      NaN   NaN      NaN   \n",
      "\n",
      "                 trg  type  \n",
      "0                NaN  gene  \n",
      "1                NaN  mRNA  \n",
      "2  Funhe2EKm000003t1  exon  \n",
      "3                NaN   CDS  \n",
      "4  Funhe2EKm000003t1  exon  \n",
      "\n",
      "[5 rows x 58 columns]\n"
     ]
    }
   ],
   "source": [
    "print(WhiteheadLab_conversions.head())"
   ]
  },
  {
   "cell_type": "code",
   "execution_count": 53,
   "metadata": {},
   "outputs": [
    {
     "name": "stdout",
     "output_type": "stream",
     "text": [
      "(4496, 1)\n"
     ]
    }
   ],
   "source": [
    "Whiteheadlab_scaffolds = WhiteheadLab_conversions.dropna(subset=['seqid']).drop_duplicates(subset='seqid')[['seqid']]\n",
    "print(Whiteheadlab_scaffolds.shape)"
   ]
  },
  {
   "cell_type": "code",
   "execution_count": 54,
   "metadata": {},
   "outputs": [
    {
     "name": "stdout",
     "output_type": "stream",
     "text": [
      "                seqid\n",
      "0      NW_012224401.1\n",
      "14838  NW_012224402.1\n",
      "25205  NW_012224403.1\n",
      "33369  NW_012224404.1\n",
      "40334  NW_012224405.1\n"
     ]
    }
   ],
   "source": [
    "print(Whiteheadlab_scaffolds.head())"
   ]
  },
  {
   "cell_type": "code",
   "execution_count": 67,
   "metadata": {
    "collapsed": true
   },
   "outputs": [],
   "source": [
    "Whiteheadlab_genenames = WhiteheadLab_conversions.dropna(subset=['ID','gene']).drop_duplicates(subset='ID')[['locustag','Name','ID','gene','seqid']]"
   ]
  },
  {
   "cell_type": "code",
   "execution_count": 68,
   "metadata": {},
   "outputs": [
    {
     "data": {
      "text/plain": [
       "(98067, 5)"
      ]
     },
     "execution_count": 68,
     "metadata": {},
     "output_type": "execute_result"
    }
   ],
   "source": [
    "Whiteheadlab_genenames.shape"
   ]
  },
  {
   "cell_type": "markdown",
   "metadata": {},
   "source": [
    "#### What transcripts are unique in Don Gilbert's annotations?\n",
    "Which id are we missing in the conversion file?"
   ]
  },
  {
   "cell_type": "code",
   "execution_count": 69,
   "metadata": {},
   "outputs": [
    {
     "name": "stdout",
     "output_type": "stream",
     "text": [
      "Conversion file: (98067, 5)\n",
      "NCBI, transcripts: (41170, 3)\n",
      "NCBI, proteins: (38234, 4)\n",
      "Don Gilbert: (110153, 3)\n"
     ]
    }
   ],
   "source": [
    "print(\"Conversion file:\",Whiteheadlab_genenames.shape)\n",
    "print(\"NCBI, transcripts:\",transcript_ID.shape)\n",
    "print(\"NCBI, proteins:\",protein_ID.shape)\n",
    "print(\"Don Gilbert:\",combined_DonGilbert_annotations.shape)"
   ]
  },
  {
   "cell_type": "code",
   "execution_count": 70,
   "metadata": {},
   "outputs": [
    {
     "data": {
      "text/html": [
       "<div>\n",
       "<style scoped>\n",
       "    .dataframe tbody tr th:only-of-type {\n",
       "        vertical-align: middle;\n",
       "    }\n",
       "\n",
       "    .dataframe tbody tr th {\n",
       "        vertical-align: top;\n",
       "    }\n",
       "\n",
       "    .dataframe thead th {\n",
       "        text-align: right;\n",
       "    }\n",
       "</style>\n",
       "<table border=\"1\" class=\"dataframe\">\n",
       "  <thead>\n",
       "    <tr style=\"text-align: right;\">\n",
       "      <th></th>\n",
       "      <th>locustag</th>\n",
       "      <th>Name</th>\n",
       "      <th>ID</th>\n",
       "      <th>gene</th>\n",
       "      <th>seqid</th>\n",
       "    </tr>\n",
       "  </thead>\n",
       "  <tbody>\n",
       "    <tr>\n",
       "      <th>1</th>\n",
       "      <td>Funhe2EKm000003</td>\n",
       "      <td>Homeobox</td>\n",
       "      <td>Funhe2EKm000003t1</td>\n",
       "      <td>Funhe2EKm000003</td>\n",
       "      <td>NW_012224401.1</td>\n",
       "    </tr>\n",
       "    <tr>\n",
       "      <th>9</th>\n",
       "      <td>Funhe2EKm000004</td>\n",
       "      <td>Platelet-derived</td>\n",
       "      <td>Funhe2EKm000004t1</td>\n",
       "      <td>Funhe2EKm000004</td>\n",
       "      <td>NW_012224401.1</td>\n",
       "    </tr>\n",
       "    <tr>\n",
       "      <th>55</th>\n",
       "      <td>Funhe2EKm000004</td>\n",
       "      <td>Platelet-derived</td>\n",
       "      <td>Funhe2EKm000004t2</td>\n",
       "      <td>Funhe2EKm000004</td>\n",
       "      <td>NW_012224401.1</td>\n",
       "    </tr>\n",
       "    <tr>\n",
       "      <th>97</th>\n",
       "      <td>Funhe2EKm000004</td>\n",
       "      <td>Platelet-derived</td>\n",
       "      <td>Funhe2EKm000004t3</td>\n",
       "      <td>Funhe2EKm000004</td>\n",
       "      <td>NW_012224401.1</td>\n",
       "    </tr>\n",
       "    <tr>\n",
       "      <th>136</th>\n",
       "      <td>Funhe2EKm000004</td>\n",
       "      <td>Platelet-derived</td>\n",
       "      <td>Funhe2EKm000004t4</td>\n",
       "      <td>Funhe2EKm000004</td>\n",
       "      <td>NW_012224401.1</td>\n",
       "    </tr>\n",
       "  </tbody>\n",
       "</table>\n",
       "</div>"
      ],
      "text/plain": [
       "            locustag              Name                 ID             gene  \\\n",
       "1    Funhe2EKm000003          Homeobox  Funhe2EKm000003t1  Funhe2EKm000003   \n",
       "9    Funhe2EKm000004  Platelet-derived  Funhe2EKm000004t1  Funhe2EKm000004   \n",
       "55   Funhe2EKm000004  Platelet-derived  Funhe2EKm000004t2  Funhe2EKm000004   \n",
       "97   Funhe2EKm000004  Platelet-derived  Funhe2EKm000004t3  Funhe2EKm000004   \n",
       "136  Funhe2EKm000004  Platelet-derived  Funhe2EKm000004t4  Funhe2EKm000004   \n",
       "\n",
       "              seqid  \n",
       "1    NW_012224401.1  \n",
       "9    NW_012224401.1  \n",
       "55   NW_012224401.1  \n",
       "97   NW_012224401.1  \n",
       "136  NW_012224401.1  "
      ]
     },
     "execution_count": 70,
     "metadata": {},
     "output_type": "execute_result"
    }
   ],
   "source": [
    "Whiteheadlab_genenames.head()"
   ]
  },
  {
   "cell_type": "code",
   "execution_count": 71,
   "metadata": {},
   "outputs": [
    {
     "data": {
      "text/html": [
       "<div>\n",
       "<style scoped>\n",
       "    .dataframe tbody tr th:only-of-type {\n",
       "        vertical-align: middle;\n",
       "    }\n",
       "\n",
       "    .dataframe tbody tr th {\n",
       "        vertical-align: top;\n",
       "    }\n",
       "\n",
       "    .dataframe thead th {\n",
       "        text-align: right;\n",
       "    }\n",
       "</style>\n",
       "<table border=\"1\" class=\"dataframe\">\n",
       "  <thead>\n",
       "    <tr style=\"text-align: right;\">\n",
       "      <th></th>\n",
       "      <th>GeneID</th>\n",
       "      <th>seqid</th>\n",
       "      <th>transcript_id</th>\n",
       "    </tr>\n",
       "  </thead>\n",
       "  <tbody>\n",
       "    <tr>\n",
       "      <th>2</th>\n",
       "      <td>105920463</td>\n",
       "      <td>NW_012224401.1</td>\n",
       "      <td>XM_012856390.2</td>\n",
       "    </tr>\n",
       "    <tr>\n",
       "      <th>10</th>\n",
       "      <td>105915213</td>\n",
       "      <td>NW_012224401.1</td>\n",
       "      <td>XM_021321288.1</td>\n",
       "    </tr>\n",
       "    <tr>\n",
       "      <th>54</th>\n",
       "      <td>105915271</td>\n",
       "      <td>NW_012224401.1</td>\n",
       "      <td>XM_012849362.2</td>\n",
       "    </tr>\n",
       "    <tr>\n",
       "      <th>98</th>\n",
       "      <td>105915271</td>\n",
       "      <td>NW_012224401.1</td>\n",
       "      <td>XM_012849437.2</td>\n",
       "    </tr>\n",
       "    <tr>\n",
       "      <th>143</th>\n",
       "      <td>105915419</td>\n",
       "      <td>NW_012224401.1</td>\n",
       "      <td>XM_021323826.1</td>\n",
       "    </tr>\n",
       "  </tbody>\n",
       "</table>\n",
       "</div>"
      ],
      "text/plain": [
       "        GeneID           seqid   transcript_id\n",
       "2    105920463  NW_012224401.1  XM_012856390.2\n",
       "10   105915213  NW_012224401.1  XM_021321288.1\n",
       "54   105915271  NW_012224401.1  XM_012849362.2\n",
       "98   105915271  NW_012224401.1  XM_012849437.2\n",
       "143  105915419  NW_012224401.1  XM_021323826.1"
      ]
     },
     "execution_count": 71,
     "metadata": {},
     "output_type": "execute_result"
    }
   ],
   "source": [
    "transcript_ID.head()"
   ]
  },
  {
   "cell_type": "code",
   "execution_count": 72,
   "metadata": {},
   "outputs": [
    {
     "data": {
      "text/html": [
       "<div>\n",
       "<style scoped>\n",
       "    .dataframe tbody tr th:only-of-type {\n",
       "        vertical-align: middle;\n",
       "    }\n",
       "\n",
       "    .dataframe tbody tr th {\n",
       "        vertical-align: top;\n",
       "    }\n",
       "\n",
       "    .dataframe thead th {\n",
       "        text-align: right;\n",
       "    }\n",
       "</style>\n",
       "<table border=\"1\" class=\"dataframe\">\n",
       "  <thead>\n",
       "    <tr style=\"text-align: right;\">\n",
       "      <th></th>\n",
       "      <th>ID</th>\n",
       "      <th>Name</th>\n",
       "      <th>gene</th>\n",
       "    </tr>\n",
       "  </thead>\n",
       "  <tbody>\n",
       "    <tr>\n",
       "      <th>1</th>\n",
       "      <td>Funhe2EKm004814t2</td>\n",
       "      <td>60S ribosomal protein L26 (100%M)</td>\n",
       "      <td>Funhe2EKm004814</td>\n",
       "    </tr>\n",
       "    <tr>\n",
       "      <th>9</th>\n",
       "      <td>Funhe2EKm004814t3</td>\n",
       "      <td>60S ribosomal protein L26 (73%M)</td>\n",
       "      <td>Funhe2EKm004814</td>\n",
       "    </tr>\n",
       "    <tr>\n",
       "      <th>17</th>\n",
       "      <td>Funhe2EKm004814t4</td>\n",
       "      <td>Uncharacterized protein</td>\n",
       "      <td>Funhe2EKm004814</td>\n",
       "    </tr>\n",
       "    <tr>\n",
       "      <th>29</th>\n",
       "      <td>Funhe2EKm000057t2</td>\n",
       "      <td>Down syndrome cell adhesion molecule protein D...</td>\n",
       "      <td>Funhe2EKm000057</td>\n",
       "    </tr>\n",
       "    <tr>\n",
       "      <th>42</th>\n",
       "      <td>Funhe2EKm000057t3</td>\n",
       "      <td>Down syndrome cell adhesion molecule protein D...</td>\n",
       "      <td>Funhe2EKm000057</td>\n",
       "    </tr>\n",
       "  </tbody>\n",
       "</table>\n",
       "</div>"
      ],
      "text/plain": [
       "                   ID                                               Name  \\\n",
       "1   Funhe2EKm004814t2                  60S ribosomal protein L26 (100%M)   \n",
       "9   Funhe2EKm004814t3                   60S ribosomal protein L26 (73%M)   \n",
       "17  Funhe2EKm004814t4                            Uncharacterized protein   \n",
       "29  Funhe2EKm000057t2  Down syndrome cell adhesion molecule protein D...   \n",
       "42  Funhe2EKm000057t3  Down syndrome cell adhesion molecule protein D...   \n",
       "\n",
       "               gene  \n",
       "1   Funhe2EKm004814  \n",
       "9   Funhe2EKm004814  \n",
       "17  Funhe2EKm004814  \n",
       "29  Funhe2EKm000057  \n",
       "42  Funhe2EKm000057  "
      ]
     },
     "execution_count": 72,
     "metadata": {},
     "output_type": "execute_result"
    }
   ],
   "source": [
    "combined_DonGilbert_annotations.head()"
   ]
  },
  {
   "cell_type": "code",
   "execution_count": 73,
   "metadata": {},
   "outputs": [
    {
     "name": "stdout",
     "output_type": "stream",
     "text": [
      "(38234, 4)\n"
     ]
    }
   ],
   "source": [
    "protein_ID.head()\n",
    "print(protein_ID.shape)"
   ]
  },
  {
   "cell_type": "code",
   "execution_count": 75,
   "metadata": {
    "collapsed": true
   },
   "outputs": [],
   "source": [
    "# get scaffold ID and Funhe gene ID \n",
    "scaffold_NW_ncbi = set(RefSeq_NCBI_annotations['seqid'])\n",
    "scaffold_NW_conversion = set(Whiteheadlab_scaffolds['seqid'])\n",
    "geneID_Funhe2EK_DG = set(combined_DonGilbert_annotations['gene'])\n",
    "geneID_Funhe2EK_overlap = set(Whiteheadlab_genenames['gene'])\n",
    "transcriptID_Funhe2EK_DG = set(combined_DonGilbert_annotations['ID'])\n",
    "transcriptID_Funhe2EK_overlap = set(Whiteheadlab_genenames['ID'])"
   ]
  },
  {
   "cell_type": "code",
   "execution_count": 77,
   "metadata": {},
   "outputs": [
    {
     "data": {
      "image/png": "[encoded data removed]",
      "text/plain": [
       "<matplotlib.figure.Figure at 0x18c4e7f60>"
      ]
     },
     "metadata": {},
     "output_type": "display_data"
    }
   ],
   "source": [
    "%matplotlib inline\n",
    "import pylab as plt\n",
    "from matplotlib_venn import venn2\n",
    "venn2(subsets = (len(scaffold_NW_ncbi)-len(scaffold_NW_ncbi.intersection(scaffold_NW_conversion)), \n",
    "                 len(scaffold_NW_conversion)-len(scaffold_NW_ncbi.intersection(scaffold_NW_conversion)), \n",
    "                 len(scaffold_NW_ncbi.intersection(scaffold_NW_conversion))), \n",
    "      set_labels = ('NCBI', 'Conversion file'))\n",
    "plt.show()"
   ]
  },
  {
   "cell_type": "code",
   "execution_count": 78,
   "metadata": {},
   "outputs": [
    {
     "data": {
      "image/png": "[encoded data removed]",
      "text/plain": [
       "<matplotlib.figure.Figure at 0x18e847f28>"
      ]
     },
     "metadata": {},
     "output_type": "display_data"
    }
   ],
   "source": [
    "venn2(subsets = (len(geneID_Funhe2EK_DG)-len(geneID_Funhe2EK_DG.intersection(geneID_Funhe2EK_overlap)), \n",
    "                 len(geneID_Funhe2EK_overlap)-len(geneID_Funhe2EK_DG.intersection(geneID_Funhe2EK_overlap)), \n",
    "                 len(geneID_Funhe2EK_DG.intersection(geneID_Funhe2EK_overlap))), \n",
    "      set_labels = ('Don Gilbert', 'Conversion file'))\n",
    "plt.show()"
   ]
  },
  {
   "cell_type": "code",
   "execution_count": 79,
   "metadata": {},
   "outputs": [
    {
     "data": {
      "image/png": "[encoded data removed]",
      "text/plain": [
       "<matplotlib.figure.Figure at 0x1772012b0>"
      ]
     },
     "metadata": {},
     "output_type": "display_data"
    }
   ],
   "source": [
    "venn2(subsets = (len(transcriptID_Funhe2EK_DG)-len(transcriptID_Funhe2EK_DG.intersection(transcriptID_Funhe2EK_overlap)), \n",
    "                 len(transcriptID_Funhe2EK_overlap)-len(transcriptID_Funhe2EK_DG.intersection(transcriptID_Funhe2EK_overlap)), \n",
    "                 len(transcriptID_Funhe2EK_DG.intersection(transcriptID_Funhe2EK_overlap))), \n",
    "      set_labels = ('Don Gilbert', 'Conversion file'))\n",
    "plt.show()"
   ]
  },
  {
   "cell_type": "code",
   "execution_count": 80,
   "metadata": {
    "collapsed": true
   },
   "outputs": [],
   "source": [
    "convert_table = pd.read_table(\"http://arthropods.eugenes.org/EvidentialGene/killifish/submitset/genome_annotation/kfish2_genequal_evgncbi.txt\")"
   ]
  },
  {
   "cell_type": "code",
   "execution_count": 81,
   "metadata": {},
   "outputs": [
    {
     "name": "stdout",
     "output_type": "stream",
     "text": [
      "      Funhe_GeneID      NCBI_TSA       NCBI_Nucl  NCBI_GeneID  pEqual  \\\n",
      "0  Funhe2EKm000003  GCES01000180  XM_012856390.1    105920463   93.80   \n",
      "1  Funhe2EKm000004  GCES01150243  XM_012853081.1    105915213   95.64   \n",
      "2  Funhe2EKm000005  GCES01154538  XM_012849437.1    105915271   99.98   \n",
      "3  Funhe2EKm000006  GCES01000182  XM_012849553.1    105915419   99.96   \n",
      "4  Funhe2EKm000007  GCES01150244  XM_012849668.1    105915503  100.58   \n",
      "\n",
      "        Funhe_TranID             Funhe_OID  \n",
      "0  Funhe2EKm000003t1  Funhe2Exx11m027882t1  \n",
      "1  Funhe2EKm000004t1  Funhe2Exx11m002607t1  \n",
      "2  Funhe2EKm000005t3  Funhe2Exx11m003308t2  \n",
      "3  Funhe2EKm000006t1  Funhe2Exx11m001896t4  \n",
      "4  Funhe2EKm000007t1  Funhe2Exx11m019598t1  \n"
     ]
    }
   ],
   "source": [
    "print(convert_table.head())"
   ]
  },
  {
   "cell_type": "code",
   "execution_count": 82,
   "metadata": {
    "collapsed": true
   },
   "outputs": [],
   "source": [
    "convert_table_genenames = convert_table.drop_duplicates(subset='Funhe_TranID')"
   ]
  },
  {
   "cell_type": "code",
   "execution_count": 83,
   "metadata": {},
   "outputs": [
    {
     "name": "stdout",
     "output_type": "stream",
     "text": [
      "(34924, 7)\n"
     ]
    }
   ],
   "source": [
    "print(convert_table_genenames.shape)"
   ]
  },
  {
   "cell_type": "code",
   "execution_count": 84,
   "metadata": {},
   "outputs": [
    {
     "data": {
      "image/png": "[encoded data removed]",
      "text/plain": [
       "<matplotlib.figure.Figure at 0x166328da0>"
      ]
     },
     "metadata": {},
     "output_type": "display_data"
    },
    {
     "data": {
      "image/png": "[encoded data removed]",
      "text/plain": [
       "<matplotlib.figure.Figure at 0x15ef91358>"
      ]
     },
     "metadata": {},
     "output_type": "display_data"
    }
   ],
   "source": [
    "transcriptID_XM_DG = set(combined_DonGilbert_annotations['ID'])\n",
    "transcriptID_XM_convert = set(convert_table['Funhe_TranID'])\n",
    "venn2(subsets = (len(transcriptID_XM_DG)-len(transcriptID_XM_convert.intersection(transcriptID_XM_DG)), \n",
    "                 len(transcriptID_XM_convert)-len(transcriptID_XM_convert.intersection(transcriptID_XM_DG)), \n",
    "                 len(transcriptID_XM_convert.intersection(transcriptID_XM_DG))), \n",
    "      set_labels = ('Don Gilbert', 'Conversion file'))\n",
    "plt.show()\n",
    "transcriptID_XM_ncbi = set(RefSeq_NCBI_annotations['transcript_id'])\n",
    "transcriptID_XM_convert = set(convert_table['NCBI_Nucl'])\n",
    "venn2(subsets = (len(transcriptID_XM_ncbi)-len(transcriptID_XM_convert.intersection(transcriptID_XM_ncbi)), \n",
    "                 len(transcriptID_XM_convert)-len(transcriptID_XM_convert.intersection(transcriptID_XM_ncbi)), \n",
    "                 len(transcriptID_XM_convert.intersection(transcriptID_XM_ncbi))), \n",
    "      set_labels = ('NCBI', 'Conversion file'))\n",
    "plt.show()"
   ]
  },
  {
   "cell_type": "code",
   "execution_count": 85,
   "metadata": {},
   "outputs": [
    {
     "data": {
      "image/png": "[encoded data removed]",
      "text/plain": [
       "<matplotlib.figure.Figure at 0x16c9242b0>"
      ]
     },
     "metadata": {},
     "output_type": "display_data"
    }
   ],
   "source": [
    "#protein_connection = pd.merge(protein_transcript, convert_table,how='outer',left_on='seqid',right_on='NCBI_')\n",
    "transcriptID_GeneID_ncbi = set(RefSeq_NCBI_genenames_sub['GeneID'])\n",
    "transcriptID_GeneID_convert = set(convert_table['NCBI_GeneID'])\n",
    "venn2(subsets = (len(transcriptID_GeneID_ncbi)-len(transcriptID_GeneID_convert.intersection(transcriptID_GeneID_ncbi)), \n",
    "                 len(transcriptID_GeneID_convert)-len(transcriptID_GeneID_convert.intersection(transcriptID_GeneID_ncbi)), \n",
    "                 len(transcriptID_GeneID_convert.intersection(transcriptID_GeneID_ncbi))), \n",
    "      set_labels = ('NCBI', 'Conversion file'))\n",
    "plt.show()"
   ]
  },
  {
   "cell_type": "markdown",
   "metadata": {},
   "source": [
    "### Merge dataframes\n",
    "Connecting protein id ('XP') since that is that I annotted with, NCBI transcript id ('XM'), Don Gilbert transcript id ('Funhe2EKm000003t1..x') and gene names"
   ]
  },
  {
   "cell_type": "code",
   "execution_count": 86,
   "metadata": {},
   "outputs": [
    {
     "name": "stdout",
     "output_type": "stream",
     "text": [
      "(38234, 4)\n",
      "(110153, 3)\n"
     ]
    }
   ],
   "source": [
    "print(protein_ID.shape)\n",
    "print(combined_DonGilbert_annotations.shape)"
   ]
  },
  {
   "cell_type": "code",
   "execution_count": 87,
   "metadata": {},
   "outputs": [
    {
     "data": {
      "text/html": [
       "<div>\n",
       "<style scoped>\n",
       "    .dataframe tbody tr th:only-of-type {\n",
       "        vertical-align: middle;\n",
       "    }\n",
       "\n",
       "    .dataframe tbody tr th {\n",
       "        vertical-align: top;\n",
       "    }\n",
       "\n",
       "    .dataframe thead th {\n",
       "        text-align: right;\n",
       "    }\n",
       "</style>\n",
       "<table border=\"1\" class=\"dataframe\">\n",
       "  <thead>\n",
       "    <tr style=\"text-align: right;\">\n",
       "      <th></th>\n",
       "      <th>protein_id</th>\n",
       "      <th>seqid</th>\n",
       "      <th>product</th>\n",
       "      <th>gene</th>\n",
       "    </tr>\n",
       "  </thead>\n",
       "  <tbody>\n",
       "    <tr>\n",
       "      <th>6</th>\n",
       "      <td>XP_012711844.1</td>\n",
       "      <td>NW_012224401.1</td>\n",
       "      <td>homeobox protein CDX-1</td>\n",
       "      <td>cdx1</td>\n",
       "    </tr>\n",
       "    <tr>\n",
       "      <th>32</th>\n",
       "      <td>XP_021176963.1</td>\n",
       "      <td>NW_012224401.1</td>\n",
       "      <td>platelet-derived growth factor receptor beta</td>\n",
       "      <td>pdgfrb</td>\n",
       "    </tr>\n",
       "    <tr>\n",
       "      <th>77</th>\n",
       "      <td>XP_012704816.1</td>\n",
       "      <td>NW_012224401.1</td>\n",
       "      <td>macrophage colony-stimulating factor 1 receptor</td>\n",
       "      <td>csf1r</td>\n",
       "    </tr>\n",
       "    <tr>\n",
       "      <th>121</th>\n",
       "      <td>XP_012704891.1</td>\n",
       "      <td>NW_012224401.1</td>\n",
       "      <td>macrophage colony-stimulating factor 1 receptor</td>\n",
       "      <td>csf1r</td>\n",
       "    </tr>\n",
       "    <tr>\n",
       "      <th>165</th>\n",
       "      <td>XP_021179501.1</td>\n",
       "      <td>NW_012224401.1</td>\n",
       "      <td>HMG domain-containing protein 3 isoform X1</td>\n",
       "      <td>hmgxb3</td>\n",
       "    </tr>\n",
       "  </tbody>\n",
       "</table>\n",
       "</div>"
      ],
      "text/plain": [
       "         protein_id           seqid  \\\n",
       "6    XP_012711844.1  NW_012224401.1   \n",
       "32   XP_021176963.1  NW_012224401.1   \n",
       "77   XP_012704816.1  NW_012224401.1   \n",
       "121  XP_012704891.1  NW_012224401.1   \n",
       "165  XP_021179501.1  NW_012224401.1   \n",
       "\n",
       "                                             product    gene  \n",
       "6                             homeobox protein CDX-1    cdx1  \n",
       "32      platelet-derived growth factor receptor beta  pdgfrb  \n",
       "77   macrophage colony-stimulating factor 1 receptor   csf1r  \n",
       "121  macrophage colony-stimulating factor 1 receptor   csf1r  \n",
       "165       HMG domain-containing protein 3 isoform X1  hmgxb3  "
      ]
     },
     "execution_count": 87,
     "metadata": {},
     "output_type": "execute_result"
    }
   ],
   "source": [
    "protein_ID.head()"
   ]
  },
  {
   "cell_type": "code",
   "execution_count": 88,
   "metadata": {},
   "outputs": [
    {
     "data": {
      "text/html": [
       "<div>\n",
       "<style scoped>\n",
       "    .dataframe tbody tr th:only-of-type {\n",
       "        vertical-align: middle;\n",
       "    }\n",
       "\n",
       "    .dataframe tbody tr th {\n",
       "        vertical-align: top;\n",
       "    }\n",
       "\n",
       "    .dataframe thead th {\n",
       "        text-align: right;\n",
       "    }\n",
       "</style>\n",
       "<table border=\"1\" class=\"dataframe\">\n",
       "  <thead>\n",
       "    <tr style=\"text-align: right;\">\n",
       "      <th></th>\n",
       "      <th>ID</th>\n",
       "      <th>Name</th>\n",
       "      <th>gene</th>\n",
       "    </tr>\n",
       "  </thead>\n",
       "  <tbody>\n",
       "    <tr>\n",
       "      <th>1</th>\n",
       "      <td>Funhe2EKm004814t2</td>\n",
       "      <td>60S ribosomal protein L26 (100%M)</td>\n",
       "      <td>Funhe2EKm004814</td>\n",
       "    </tr>\n",
       "    <tr>\n",
       "      <th>9</th>\n",
       "      <td>Funhe2EKm004814t3</td>\n",
       "      <td>60S ribosomal protein L26 (73%M)</td>\n",
       "      <td>Funhe2EKm004814</td>\n",
       "    </tr>\n",
       "    <tr>\n",
       "      <th>17</th>\n",
       "      <td>Funhe2EKm004814t4</td>\n",
       "      <td>Uncharacterized protein</td>\n",
       "      <td>Funhe2EKm004814</td>\n",
       "    </tr>\n",
       "    <tr>\n",
       "      <th>29</th>\n",
       "      <td>Funhe2EKm000057t2</td>\n",
       "      <td>Down syndrome cell adhesion molecule protein D...</td>\n",
       "      <td>Funhe2EKm000057</td>\n",
       "    </tr>\n",
       "    <tr>\n",
       "      <th>42</th>\n",
       "      <td>Funhe2EKm000057t3</td>\n",
       "      <td>Down syndrome cell adhesion molecule protein D...</td>\n",
       "      <td>Funhe2EKm000057</td>\n",
       "    </tr>\n",
       "  </tbody>\n",
       "</table>\n",
       "</div>"
      ],
      "text/plain": [
       "                   ID                                               Name  \\\n",
       "1   Funhe2EKm004814t2                  60S ribosomal protein L26 (100%M)   \n",
       "9   Funhe2EKm004814t3                   60S ribosomal protein L26 (73%M)   \n",
       "17  Funhe2EKm004814t4                            Uncharacterized protein   \n",
       "29  Funhe2EKm000057t2  Down syndrome cell adhesion molecule protein D...   \n",
       "42  Funhe2EKm000057t3  Down syndrome cell adhesion molecule protein D...   \n",
       "\n",
       "               gene  \n",
       "1   Funhe2EKm004814  \n",
       "9   Funhe2EKm004814  \n",
       "17  Funhe2EKm004814  \n",
       "29  Funhe2EKm000057  \n",
       "42  Funhe2EKm000057  "
      ]
     },
     "execution_count": 88,
     "metadata": {},
     "output_type": "execute_result"
    }
   ],
   "source": [
    "combined_DonGilbert_annotations.head()"
   ]
  },
  {
   "cell_type": "code",
   "execution_count": 89,
   "metadata": {},
   "outputs": [
    {
     "name": "stdout",
     "output_type": "stream",
     "text": [
      "(3042359, 6)\n"
     ]
    },
    {
     "data": {
      "text/html": [
       "<div>\n",
       "<style scoped>\n",
       "    .dataframe tbody tr th:only-of-type {\n",
       "        vertical-align: middle;\n",
       "    }\n",
       "\n",
       "    .dataframe tbody tr th {\n",
       "        vertical-align: top;\n",
       "    }\n",
       "\n",
       "    .dataframe thead th {\n",
       "        text-align: right;\n",
       "    }\n",
       "</style>\n",
       "<table border=\"1\" class=\"dataframe\">\n",
       "  <thead>\n",
       "    <tr style=\"text-align: right;\">\n",
       "      <th></th>\n",
       "      <th>protein_id</th>\n",
       "      <th>seqid</th>\n",
       "      <th>product</th>\n",
       "      <th>gene</th>\n",
       "      <th>GeneID</th>\n",
       "      <th>transcript_id</th>\n",
       "    </tr>\n",
       "  </thead>\n",
       "  <tbody>\n",
       "    <tr>\n",
       "      <th>0</th>\n",
       "      <td>XP_012711844.1</td>\n",
       "      <td>NW_012224401.1</td>\n",
       "      <td>homeobox protein CDX-1</td>\n",
       "      <td>cdx1</td>\n",
       "      <td>105920463</td>\n",
       "      <td>XM_012856390.2</td>\n",
       "    </tr>\n",
       "    <tr>\n",
       "      <th>1</th>\n",
       "      <td>XP_012711844.1</td>\n",
       "      <td>NW_012224401.1</td>\n",
       "      <td>homeobox protein CDX-1</td>\n",
       "      <td>cdx1</td>\n",
       "      <td>105915213</td>\n",
       "      <td>XM_021321288.1</td>\n",
       "    </tr>\n",
       "    <tr>\n",
       "      <th>2</th>\n",
       "      <td>XP_012711844.1</td>\n",
       "      <td>NW_012224401.1</td>\n",
       "      <td>homeobox protein CDX-1</td>\n",
       "      <td>cdx1</td>\n",
       "      <td>105915271</td>\n",
       "      <td>XM_012849362.2</td>\n",
       "    </tr>\n",
       "    <tr>\n",
       "      <th>3</th>\n",
       "      <td>XP_012711844.1</td>\n",
       "      <td>NW_012224401.1</td>\n",
       "      <td>homeobox protein CDX-1</td>\n",
       "      <td>cdx1</td>\n",
       "      <td>105915271</td>\n",
       "      <td>XM_012849437.2</td>\n",
       "    </tr>\n",
       "    <tr>\n",
       "      <th>4</th>\n",
       "      <td>XP_012711844.1</td>\n",
       "      <td>NW_012224401.1</td>\n",
       "      <td>homeobox protein CDX-1</td>\n",
       "      <td>cdx1</td>\n",
       "      <td>105915419</td>\n",
       "      <td>XM_021323826.1</td>\n",
       "    </tr>\n",
       "  </tbody>\n",
       "</table>\n",
       "</div>"
      ],
      "text/plain": [
       "       protein_id           seqid                 product  gene     GeneID  \\\n",
       "0  XP_012711844.1  NW_012224401.1  homeobox protein CDX-1  cdx1  105920463   \n",
       "1  XP_012711844.1  NW_012224401.1  homeobox protein CDX-1  cdx1  105915213   \n",
       "2  XP_012711844.1  NW_012224401.1  homeobox protein CDX-1  cdx1  105915271   \n",
       "3  XP_012711844.1  NW_012224401.1  homeobox protein CDX-1  cdx1  105915271   \n",
       "4  XP_012711844.1  NW_012224401.1  homeobox protein CDX-1  cdx1  105915419   \n",
       "\n",
       "    transcript_id  \n",
       "0  XM_012856390.2  \n",
       "1  XM_021321288.1  \n",
       "2  XM_012849362.2  \n",
       "3  XM_012849437.2  \n",
       "4  XM_021323826.1  "
      ]
     },
     "execution_count": 89,
     "metadata": {},
     "output_type": "execute_result"
    }
   ],
   "source": [
    "print(protein_transcript.shape)\n",
    "protein_transcript.head()"
   ]
  },
  {
   "cell_type": "code",
   "execution_count": 90,
   "metadata": {},
   "outputs": [
    {
     "name": "stdout",
     "output_type": "stream",
     "text": [
      "(34924, 7)\n"
     ]
    },
    {
     "data": {
      "text/html": [
       "<div>\n",
       "<style scoped>\n",
       "    .dataframe tbody tr th:only-of-type {\n",
       "        vertical-align: middle;\n",
       "    }\n",
       "\n",
       "    .dataframe tbody tr th {\n",
       "        vertical-align: top;\n",
       "    }\n",
       "\n",
       "    .dataframe thead th {\n",
       "        text-align: right;\n",
       "    }\n",
       "</style>\n",
       "<table border=\"1\" class=\"dataframe\">\n",
       "  <thead>\n",
       "    <tr style=\"text-align: right;\">\n",
       "      <th></th>\n",
       "      <th>Funhe_GeneID</th>\n",
       "      <th>NCBI_TSA</th>\n",
       "      <th>NCBI_Nucl</th>\n",
       "      <th>NCBI_GeneID</th>\n",
       "      <th>pEqual</th>\n",
       "      <th>Funhe_TranID</th>\n",
       "      <th>Funhe_OID</th>\n",
       "    </tr>\n",
       "  </thead>\n",
       "  <tbody>\n",
       "    <tr>\n",
       "      <th>0</th>\n",
       "      <td>Funhe2EKm000003</td>\n",
       "      <td>GCES01000180</td>\n",
       "      <td>XM_012856390.1</td>\n",
       "      <td>105920463</td>\n",
       "      <td>93.80</td>\n",
       "      <td>Funhe2EKm000003t1</td>\n",
       "      <td>Funhe2Exx11m027882t1</td>\n",
       "    </tr>\n",
       "    <tr>\n",
       "      <th>1</th>\n",
       "      <td>Funhe2EKm000004</td>\n",
       "      <td>GCES01150243</td>\n",
       "      <td>XM_012853081.1</td>\n",
       "      <td>105915213</td>\n",
       "      <td>95.64</td>\n",
       "      <td>Funhe2EKm000004t1</td>\n",
       "      <td>Funhe2Exx11m002607t1</td>\n",
       "    </tr>\n",
       "    <tr>\n",
       "      <th>2</th>\n",
       "      <td>Funhe2EKm000005</td>\n",
       "      <td>GCES01154538</td>\n",
       "      <td>XM_012849437.1</td>\n",
       "      <td>105915271</td>\n",
       "      <td>99.98</td>\n",
       "      <td>Funhe2EKm000005t3</td>\n",
       "      <td>Funhe2Exx11m003308t2</td>\n",
       "    </tr>\n",
       "    <tr>\n",
       "      <th>3</th>\n",
       "      <td>Funhe2EKm000006</td>\n",
       "      <td>GCES01000182</td>\n",
       "      <td>XM_012849553.1</td>\n",
       "      <td>105915419</td>\n",
       "      <td>99.96</td>\n",
       "      <td>Funhe2EKm000006t1</td>\n",
       "      <td>Funhe2Exx11m001896t4</td>\n",
       "    </tr>\n",
       "    <tr>\n",
       "      <th>4</th>\n",
       "      <td>Funhe2EKm000007</td>\n",
       "      <td>GCES01150244</td>\n",
       "      <td>XM_012849668.1</td>\n",
       "      <td>105915503</td>\n",
       "      <td>100.58</td>\n",
       "      <td>Funhe2EKm000007t1</td>\n",
       "      <td>Funhe2Exx11m019598t1</td>\n",
       "    </tr>\n",
       "  </tbody>\n",
       "</table>\n",
       "</div>"
      ],
      "text/plain": [
       "      Funhe_GeneID      NCBI_TSA       NCBI_Nucl  NCBI_GeneID  pEqual  \\\n",
       "0  Funhe2EKm000003  GCES01000180  XM_012856390.1    105920463   93.80   \n",
       "1  Funhe2EKm000004  GCES01150243  XM_012853081.1    105915213   95.64   \n",
       "2  Funhe2EKm000005  GCES01154538  XM_012849437.1    105915271   99.98   \n",
       "3  Funhe2EKm000006  GCES01000182  XM_012849553.1    105915419   99.96   \n",
       "4  Funhe2EKm000007  GCES01150244  XM_012849668.1    105915503  100.58   \n",
       "\n",
       "        Funhe_TranID             Funhe_OID  \n",
       "0  Funhe2EKm000003t1  Funhe2Exx11m027882t1  \n",
       "1  Funhe2EKm000004t1  Funhe2Exx11m002607t1  \n",
       "2  Funhe2EKm000005t3  Funhe2Exx11m003308t2  \n",
       "3  Funhe2EKm000006t1  Funhe2Exx11m001896t4  \n",
       "4  Funhe2EKm000007t1  Funhe2Exx11m019598t1  "
      ]
     },
     "execution_count": 90,
     "metadata": {},
     "output_type": "execute_result"
    }
   ],
   "source": [
    "print(convert_table.shape)\n",
    "convert_table.head()"
   ]
  },
  {
   "cell_type": "markdown",
   "metadata": {},
   "source": [
    "Need to strip characters after the decimal in \"XM\" because they are different"
   ]
  },
  {
   "cell_type": "code",
   "execution_count": 91,
   "metadata": {
    "collapsed": true
   },
   "outputs": [],
   "source": [
    "protein_transcript['transcript_ID_split_1'], protein_transcript['transcript_ID_split_2'] = protein_transcript['transcript_id'].str.split('.',0).str\n",
    "convert_table['transcript_ID_split_1'], convert_table['transcript_ID_split_2'] = convert_table['NCBI_Nucl'].str.split('.',0).str"
   ]
  },
  {
   "cell_type": "markdown",
   "metadata": {},
   "source": [
    "Then combine NCBI and Don Gilbert's IDs."
   ]
  },
  {
   "cell_type": "code",
   "execution_count": 92,
   "metadata": {},
   "outputs": [
    {
     "data": {
      "text/plain": [
       "(1139717, 19)"
      ]
     },
     "execution_count": 92,
     "metadata": {},
     "output_type": "execute_result"
    }
   ],
   "source": [
    "protein_connection = pd.merge(protein_transcript, convert_table,how='outer',on='transcript_ID_split_1')\n",
    "protein_connection = pd.merge(protein_connection,combined_DonGilbert_annotations,how = 'inner',left_on = 'Funhe_TranID',right_on='ID')\n",
    "protein_connection.shape"
   ]
  },
  {
   "cell_type": "code",
   "execution_count": 393,
   "metadata": {},
   "outputs": [
    {
     "data": {
      "text/html": [
       "<div>\n",
       "<style scoped>\n",
       "    .dataframe tbody tr th:only-of-type {\n",
       "        vertical-align: middle;\n",
       "    }\n",
       "\n",
       "    .dataframe tbody tr th {\n",
       "        vertical-align: top;\n",
       "    }\n",
       "\n",
       "    .dataframe thead th {\n",
       "        text-align: right;\n",
       "    }\n",
       "</style>\n",
       "<table border=\"1\" class=\"dataframe\">\n",
       "  <thead>\n",
       "    <tr style=\"text-align: right;\">\n",
       "      <th></th>\n",
       "      <th>protein_id</th>\n",
       "      <th>seqid</th>\n",
       "      <th>product</th>\n",
       "      <th>gene_x</th>\n",
       "      <th>GeneID</th>\n",
       "      <th>transcript_id</th>\n",
       "      <th>transcript_ID_split_1</th>\n",
       "      <th>transcript_ID_split_2_x</th>\n",
       "      <th>Funhe_GeneID</th>\n",
       "      <th>NCBI_TSA</th>\n",
       "      <th>NCBI_Nucl</th>\n",
       "      <th>NCBI_GeneID</th>\n",
       "      <th>pEqual</th>\n",
       "      <th>Funhe_TranID</th>\n",
       "      <th>Funhe_OID</th>\n",
       "      <th>transcript_ID_split_2_y</th>\n",
       "      <th>ID</th>\n",
       "      <th>Name</th>\n",
       "      <th>gene_y</th>\n",
       "    </tr>\n",
       "  </thead>\n",
       "  <tbody>\n",
       "    <tr>\n",
       "      <th>0</th>\n",
       "      <td>XP_012711844.1</td>\n",
       "      <td>NW_012224401.1</td>\n",
       "      <td>homeobox protein CDX-1</td>\n",
       "      <td>cdx1</td>\n",
       "      <td>105920463</td>\n",
       "      <td>XM_012856390.2</td>\n",
       "      <td>XM_012856390</td>\n",
       "      <td>2</td>\n",
       "      <td>Funhe2EKm000003</td>\n",
       "      <td>GCES01000180</td>\n",
       "      <td>XM_012856390.1</td>\n",
       "      <td>105920463.0</td>\n",
       "      <td>93.8</td>\n",
       "      <td>Funhe2EKm000003t1</td>\n",
       "      <td>Funhe2Exx11m027882t1</td>\n",
       "      <td>1</td>\n",
       "      <td>Funhe2EKm000003t1</td>\n",
       "      <td>Homeobox protein CDX-1 (91%P)</td>\n",
       "      <td>Funhe2EKm000003</td>\n",
       "    </tr>\n",
       "    <tr>\n",
       "      <th>1</th>\n",
       "      <td>XP_021176963.1</td>\n",
       "      <td>NW_012224401.1</td>\n",
       "      <td>platelet-derived growth factor receptor beta</td>\n",
       "      <td>pdgfrb</td>\n",
       "      <td>105920463</td>\n",
       "      <td>XM_012856390.2</td>\n",
       "      <td>XM_012856390</td>\n",
       "      <td>2</td>\n",
       "      <td>Funhe2EKm000003</td>\n",
       "      <td>GCES01000180</td>\n",
       "      <td>XM_012856390.1</td>\n",
       "      <td>105920463.0</td>\n",
       "      <td>93.8</td>\n",
       "      <td>Funhe2EKm000003t1</td>\n",
       "      <td>Funhe2Exx11m027882t1</td>\n",
       "      <td>1</td>\n",
       "      <td>Funhe2EKm000003t1</td>\n",
       "      <td>Homeobox protein CDX-1 (91%P)</td>\n",
       "      <td>Funhe2EKm000003</td>\n",
       "    </tr>\n",
       "    <tr>\n",
       "      <th>2</th>\n",
       "      <td>XP_012704816.1</td>\n",
       "      <td>NW_012224401.1</td>\n",
       "      <td>macrophage colony-stimulating factor 1 receptor</td>\n",
       "      <td>csf1r</td>\n",
       "      <td>105920463</td>\n",
       "      <td>XM_012856390.2</td>\n",
       "      <td>XM_012856390</td>\n",
       "      <td>2</td>\n",
       "      <td>Funhe2EKm000003</td>\n",
       "      <td>GCES01000180</td>\n",
       "      <td>XM_012856390.1</td>\n",
       "      <td>105920463.0</td>\n",
       "      <td>93.8</td>\n",
       "      <td>Funhe2EKm000003t1</td>\n",
       "      <td>Funhe2Exx11m027882t1</td>\n",
       "      <td>1</td>\n",
       "      <td>Funhe2EKm000003t1</td>\n",
       "      <td>Homeobox protein CDX-1 (91%P)</td>\n",
       "      <td>Funhe2EKm000003</td>\n",
       "    </tr>\n",
       "    <tr>\n",
       "      <th>3</th>\n",
       "      <td>XP_012704891.1</td>\n",
       "      <td>NW_012224401.1</td>\n",
       "      <td>macrophage colony-stimulating factor 1 receptor</td>\n",
       "      <td>csf1r</td>\n",
       "      <td>105920463</td>\n",
       "      <td>XM_012856390.2</td>\n",
       "      <td>XM_012856390</td>\n",
       "      <td>2</td>\n",
       "      <td>Funhe2EKm000003</td>\n",
       "      <td>GCES01000180</td>\n",
       "      <td>XM_012856390.1</td>\n",
       "      <td>105920463.0</td>\n",
       "      <td>93.8</td>\n",
       "      <td>Funhe2EKm000003t1</td>\n",
       "      <td>Funhe2Exx11m027882t1</td>\n",
       "      <td>1</td>\n",
       "      <td>Funhe2EKm000003t1</td>\n",
       "      <td>Homeobox protein CDX-1 (91%P)</td>\n",
       "      <td>Funhe2EKm000003</td>\n",
       "    </tr>\n",
       "    <tr>\n",
       "      <th>4</th>\n",
       "      <td>XP_021179501.1</td>\n",
       "      <td>NW_012224401.1</td>\n",
       "      <td>HMG domain-containing protein 3 isoform X1</td>\n",
       "      <td>hmgxb3</td>\n",
       "      <td>105920463</td>\n",
       "      <td>XM_012856390.2</td>\n",
       "      <td>XM_012856390</td>\n",
       "      <td>2</td>\n",
       "      <td>Funhe2EKm000003</td>\n",
       "      <td>GCES01000180</td>\n",
       "      <td>XM_012856390.1</td>\n",
       "      <td>105920463.0</td>\n",
       "      <td>93.8</td>\n",
       "      <td>Funhe2EKm000003t1</td>\n",
       "      <td>Funhe2Exx11m027882t1</td>\n",
       "      <td>1</td>\n",
       "      <td>Funhe2EKm000003t1</td>\n",
       "      <td>Homeobox protein CDX-1 (91%P)</td>\n",
       "      <td>Funhe2EKm000003</td>\n",
       "    </tr>\n",
       "  </tbody>\n",
       "</table>\n",
       "</div>"
      ],
      "text/plain": [
       "       protein_id           seqid  \\\n",
       "0  XP_012711844.1  NW_012224401.1   \n",
       "1  XP_021176963.1  NW_012224401.1   \n",
       "2  XP_012704816.1  NW_012224401.1   \n",
       "3  XP_012704891.1  NW_012224401.1   \n",
       "4  XP_021179501.1  NW_012224401.1   \n",
       "\n",
       "                                           product  gene_x     GeneID  \\\n",
       "0                           homeobox protein CDX-1    cdx1  105920463   \n",
       "1     platelet-derived growth factor receptor beta  pdgfrb  105920463   \n",
       "2  macrophage colony-stimulating factor 1 receptor   csf1r  105920463   \n",
       "3  macrophage colony-stimulating factor 1 receptor   csf1r  105920463   \n",
       "4       HMG domain-containing protein 3 isoform X1  hmgxb3  105920463   \n",
       "\n",
       "    transcript_id transcript_ID_split_1 transcript_ID_split_2_x  \\\n",
       "0  XM_012856390.2          XM_012856390                       2   \n",
       "1  XM_012856390.2          XM_012856390                       2   \n",
       "2  XM_012856390.2          XM_012856390                       2   \n",
       "3  XM_012856390.2          XM_012856390                       2   \n",
       "4  XM_012856390.2          XM_012856390                       2   \n",
       "\n",
       "      Funhe_GeneID      NCBI_TSA       NCBI_Nucl  NCBI_GeneID  pEqual  \\\n",
       "0  Funhe2EKm000003  GCES01000180  XM_012856390.1  105920463.0    93.8   \n",
       "1  Funhe2EKm000003  GCES01000180  XM_012856390.1  105920463.0    93.8   \n",
       "2  Funhe2EKm000003  GCES01000180  XM_012856390.1  105920463.0    93.8   \n",
       "3  Funhe2EKm000003  GCES01000180  XM_012856390.1  105920463.0    93.8   \n",
       "4  Funhe2EKm000003  GCES01000180  XM_012856390.1  105920463.0    93.8   \n",
       "\n",
       "        Funhe_TranID             Funhe_OID transcript_ID_split_2_y  \\\n",
       "0  Funhe2EKm000003t1  Funhe2Exx11m027882t1                       1   \n",
       "1  Funhe2EKm000003t1  Funhe2Exx11m027882t1                       1   \n",
       "2  Funhe2EKm000003t1  Funhe2Exx11m027882t1                       1   \n",
       "3  Funhe2EKm000003t1  Funhe2Exx11m027882t1                       1   \n",
       "4  Funhe2EKm000003t1  Funhe2Exx11m027882t1                       1   \n",
       "\n",
       "                  ID                           Name           gene_y  \n",
       "0  Funhe2EKm000003t1  Homeobox protein CDX-1 (91%P)  Funhe2EKm000003  \n",
       "1  Funhe2EKm000003t1  Homeobox protein CDX-1 (91%P)  Funhe2EKm000003  \n",
       "2  Funhe2EKm000003t1  Homeobox protein CDX-1 (91%P)  Funhe2EKm000003  \n",
       "3  Funhe2EKm000003t1  Homeobox protein CDX-1 (91%P)  Funhe2EKm000003  \n",
       "4  Funhe2EKm000003t1  Homeobox protein CDX-1 (91%P)  Funhe2EKm000003  "
      ]
     },
     "execution_count": 393,
     "metadata": {},
     "output_type": "execute_result"
    }
   ],
   "source": [
    "protein_connection.head()"
   ]
  },
  {
   "cell_type": "code",
   "execution_count": 93,
   "metadata": {},
   "outputs": [
    {
     "data": {
      "image/png": "[encoded data removed]",
      "text/plain": [
       "<matplotlib.figure.Figure at 0x14e9c0550>"
      ]
     },
     "metadata": {},
     "output_type": "display_data"
    }
   ],
   "source": [
    "transcriptID_GeneID_ncbi = set(protein_transcript['transcript_ID_split_1'])\n",
    "transcriptID_GeneID_convert = set(convert_table['transcript_ID_split_1'])\n",
    "venn2(subsets = (len(transcriptID_GeneID_ncbi)-len(transcriptID_GeneID_convert.intersection(transcriptID_GeneID_ncbi)), \n",
    "                 len(transcriptID_GeneID_convert)-len(transcriptID_GeneID_convert.intersection(transcriptID_GeneID_ncbi)), \n",
    "                 len(transcriptID_GeneID_convert.intersection(transcriptID_GeneID_ncbi))), \n",
    "      set_labels = ('NCBI', 'Conversion file'))\n",
    "plt.show()"
   ]
  },
  {
   "cell_type": "markdown",
   "metadata": {},
   "source": [
    "# Make a .csv file with combined NCBI and Don Gilbert IDs\n",
    "This will be >500 MB!!"
   ]
  },
  {
   "cell_type": "code",
   "execution_count": 395,
   "metadata": {},
   "outputs": [
    {
     "data": {
      "text/plain": [
       "(1139717, 19)"
      ]
     },
     "execution_count": 395,
     "metadata": {},
     "output_type": "execute_result"
    }
   ],
   "source": [
    "# clean up unnecessary columns\n",
    "#protein_connection = protein_connection.drop(columns = ['transcript_ID_split_2_x', 'transcript_ID_split_2_y'])\n",
    "protein_connection.to_csv('protein_connection.csv')\n",
    "protein_connection.shape"
   ]
  },
  {
   "cell_type": "markdown",
   "metadata": {},
   "source": [
    "### These are files Don Gilbert put together in response to difficulty submitting gene models to NCBI."
   ]
  },
  {
   "cell_type": "code",
   "execution_count": 333,
   "metadata": {},
   "outputs": [
    {
     "name": "stderr",
     "output_type": "stream",
     "text": [
      "/Users/johnsolk/anaconda3/lib/python3.6/site-packages/dammit/fileio/gff3.py:73: ParserWarning: Both a converter and dtype were specified for column attributes - only the converter will be used\n",
      "  dtype=dict(self.columns)):\n"
     ]
    }
   ],
   "source": [
    "Don_submit = GFF3Parser(filename=\"../tmp_Fhet_files/kf2sub5_fc18w.gff3\").read()"
   ]
  },
  {
   "cell_type": "code",
   "execution_count": 334,
   "metadata": {},
   "outputs": [
    {
     "name": "stdout",
     "output_type": "stream",
     "text": [
      "                                                   Dbxref                 ID  \\\n",
      "0  NaN                                                NaN    Funhe2EKm000003   \n",
      "1  NaN  CDD:200956,TrEMBL:UniRef50_Q90423,TrEMBL:HXB1B...  Funhe2EKm000003t1   \n",
      "2  NaN                                                NaN                NaN   \n",
      "3  NaN                                                NaN                NaN   \n",
      "4  NaN                                                NaN                NaN   \n",
      "\n",
      "                     Name             Parent Selcstop Split  \\\n",
      "0                     NaN                NaN      NaN   NaN   \n",
      "1  Homeobox protein CDX-1                NaN      NaN   NaN   \n",
      "2                     NaN  Funhe2EKm000003t1      NaN   NaN   \n",
      "3                     NaN  Funhe2EKm000003t1      NaN   NaN   \n",
      "4                     NaN  Funhe2EKm000003t1      NaN   NaN   \n",
      "\n",
      "                    Target             aalen bestaa  ...    \\\n",
      "0                      NaN               NaN    NaN  ...     \n",
      "1  Funhe2EKm000003t1 1 679  214,94%,complete    NaN  ...     \n",
      "2                      NaN               NaN    NaN  ...     \n",
      "3                      NaN               NaN    NaN  ...     \n",
      "4                      NaN               NaN    NaN  ...     \n",
      "\n",
      "                        tblan terepeat transl_except  \\\n",
      "0                         NaN      NaN           NaN   \n",
      "1  trid:gmap3n5h:GCES01000180      NaN           NaN   \n",
      "2                         NaN      NaN           NaN   \n",
      "3                         NaN      NaN           NaN   \n",
      "4                         NaN      NaN           NaN   \n",
      "\n",
      "                         trg  type  unspl unsplaafix unsplit unsplt unsplx  \n",
      "0                        NaN  gene    NaN        NaN     NaN    NaN    NaN  \n",
      "1                        NaN  mRNA    NaN        NaN     NaN    NaN    NaN  \n",
      "2  Funhe2EKm000003t1 472 679  exon    NaN        NaN     NaN    NaN    NaN  \n",
      "3                        NaN   CDS    NaN        NaN     NaN    NaN    NaN  \n",
      "4  Funhe2EKm000003t1 323 471  exon    NaN        NaN     NaN    NaN    NaN  \n",
      "\n",
      "[5 rows x 81 columns]\n",
      "(2096736, 81)\n"
     ]
    }
   ],
   "source": [
    "print(Don_submit.head())\n",
    "print(Don_submit.shape)"
   ]
  },
  {
   "cell_type": "code",
   "execution_count": 335,
   "metadata": {},
   "outputs": [
    {
     "name": "stdout",
     "output_type": "stream",
     "text": [
      "Index(['', 'Dbxref', 'ID', 'Name', 'Parent', 'Selcstop', 'Split', 'Target',\n",
      "       'aalen', 'bestaa', 'cdsSize', 'cdsfix', 'cdsoff', 'cfix', 'cxlen',\n",
      "       'end', 'equiv1', 'error', 'est', 'express', 'gapfill', 'gapfix',\n",
      "       'gapfixan', 'gapnofix', 'gaps', 'gene', 'genegroup', 'ggap', 'inexon',\n",
      "       'insrc', 'intr', 'intron', 'isoform', 'ix', 'locustag', 'lold',\n",
      "       'mapCover', 'mgap', 'must', 'namepct', 'nameref', 'nexon', 'ocds',\n",
      "       'oid', 'oldaw', 'oldcdo', 'oname', 'ortholog', 'osrc', 'paralog',\n",
      "       'phase', 'phosphate carrier), member 25', 'pod', 'problem', 'protein',\n",
      "       'quality', 'rseq', 'scold1', 'score', 'score_x', 'score_y', 'scoresum',\n",
      "       'seqid', 'source', 'splice', 'splitdupid', 'start', 'strand', 'swapan',\n",
      "       'swapmain', 'swapold', 'tblan', 'terepeat', 'transl_except', 'trg',\n",
      "       'type', 'unspl', 'unsplaafix', 'unsplit', 'unsplt', 'unsplx'],\n",
      "      dtype='object')\n"
     ]
    }
   ],
   "source": [
    "print(Don_submit.columns)"
   ]
  },
  {
   "cell_type": "code",
   "execution_count": 336,
   "metadata": {},
   "outputs": [
    {
     "name": "stdout",
     "output_type": "stream",
     "text": [
      "(4501, 81)\n"
     ]
    }
   ],
   "source": [
    "Don_submit_genemodels = Don_submit.drop_duplicates(subset='seqid')\n",
    "print(Don_submit_genemodels.shape)"
   ]
  },
  {
   "cell_type": "code",
   "execution_count": 337,
   "metadata": {},
   "outputs": [
    {
     "name": "stdout",
     "output_type": "stream",
     "text": [
      "           Dbxref               ID Name Parent Selcstop Split Target aalen  \\\n",
      "0      NaN    NaN  Funhe2EKm000003  NaN    NaN      NaN   NaN    NaN   NaN   \n",
      "14504  NaN    NaN  Funhe2EKm000224  NaN    NaN      NaN   NaN    NaN   NaN   \n",
      "24636  NaN    NaN  Funhe2EKm000412  NaN    NaN      NaN   NaN    NaN   NaN   \n",
      "32481  NaN    NaN  Funhe2EKm000507  NaN    NaN      NaN   NaN    NaN   NaN   \n",
      "39329  NaN    NaN  Funhe2EKm000628  NaN    NaN      NaN   NaN    NaN   NaN   \n",
      "\n",
      "      bestaa  ...   tblan terepeat transl_except  trg  type  unspl unsplaafix  \\\n",
      "0        NaN  ...     NaN      NaN           NaN  NaN  gene    NaN        NaN   \n",
      "14504    NaN  ...     NaN      NaN           NaN  NaN  gene    NaN        NaN   \n",
      "24636    NaN  ...     NaN      NaN           NaN  NaN  gene    NaN        NaN   \n",
      "32481    NaN  ...     NaN      NaN           NaN  NaN  gene    NaN        NaN   \n",
      "39329    NaN  ...     NaN      NaN           NaN  NaN  gene    NaN        NaN   \n",
      "\n",
      "      unsplit unsplt unsplx  \n",
      "0         NaN    NaN    NaN  \n",
      "14504     NaN    NaN    NaN  \n",
      "24636     NaN    NaN    NaN  \n",
      "32481     NaN    NaN    NaN  \n",
      "39329     NaN    NaN    NaN  \n",
      "\n",
      "[5 rows x 81 columns]\n"
     ]
    }
   ],
   "source": [
    "print(Don_submit_genemodels.head())"
   ]
  },
  {
   "cell_type": "code",
   "execution_count": 338,
   "metadata": {
    "collapsed": true
   },
   "outputs": [],
   "source": [
    "Don_genemodels = Don_submit.dropna(subset=['ID','Name','seqid']).drop_duplicates(subset='seqid')[['ID','Name','seqid']]"
   ]
  },
  {
   "cell_type": "code",
   "execution_count": 339,
   "metadata": {},
   "outputs": [
    {
     "name": "stdout",
     "output_type": "stream",
     "text": [
      "(4501, 3)\n"
     ]
    }
   ],
   "source": [
    "print(Don_genemodels.shape)"
   ]
  },
  {
   "cell_type": "code",
   "execution_count": 340,
   "metadata": {},
   "outputs": [
    {
     "name": "stdout",
     "output_type": "stream",
     "text": [
      "                      ID                            Name       seqid\n",
      "1      Funhe2EKm000003t1          Homeobox protein CDX-1  KN805525.1\n",
      "14505  Funhe2EKm000224t1        Growth arrest-specific 8  KN805526.1\n",
      "24637  Funhe2EKm000412t1  Piccolo (Aczonin)-like protein  KN805527.1\n",
      "32482  Funhe2EKm000507t1  RAS guanyl-releasing protein 1  KN805528.1\n",
      "39330  Funhe2EKm000628t1         Uncharacterized protein  KN805529.1\n"
     ]
    }
   ],
   "source": [
    "print(Don_genemodels.head())"
   ]
  },
  {
   "cell_type": "code",
   "execution_count": 341,
   "metadata": {},
   "outputs": [
    {
     "name": "stderr",
     "output_type": "stream",
     "text": [
      "/Users/johnsolk/anaconda3/lib/python3.6/site-packages/dammit/fileio/gff3.py:73: ParserWarning: Both a converter and dtype were specified for column attributes - only the converter will be used\n",
      "  dtype=dict(self.columns)):\n"
     ]
    }
   ],
   "source": [
    "Don_submit_v18 = GFF3Parser(filename=\"../tmp_Fhet_files/kf2sub5_fc18w.gff3.liftdown\").read()"
   ]
  },
  {
   "cell_type": "code",
   "execution_count": 342,
   "metadata": {
    "collapsed": true
   },
   "outputs": [],
   "source": [
    "v18_numbers = Don_submit_v18.dropna(subset=['ID','Name','seqid']).drop_duplicates(subset='seqid')[['ID','Name','seqid']]"
   ]
  },
  {
   "cell_type": "code",
   "execution_count": 343,
   "metadata": {},
   "outputs": [
    {
     "name": "stdout",
     "output_type": "stream",
     "text": [
      "(4501, 3)\n"
     ]
    }
   ],
   "source": [
    "print(v18_numbers.shape)"
   ]
  },
  {
   "cell_type": "code",
   "execution_count": 344,
   "metadata": {},
   "outputs": [
    {
     "name": "stdout",
     "output_type": "stream",
     "text": [
      "                      ID                            Name      seqid\n",
      "1      Funhe2EKm000003t1          Homeobox protein CDX-1  Scaffold0\n",
      "14505  Funhe2EKm000224t1        Growth arrest-specific 8  Scaffold1\n",
      "24637  Funhe2EKm000412t1  Piccolo (Aczonin)-like protein  Scaffold2\n",
      "32482  Funhe2EKm000507t1  RAS guanyl-releasing protein 1  Scaffold3\n",
      "39330  Funhe2EKm000628t1         Uncharacterized protein  Scaffold4\n"
     ]
    }
   ],
   "source": [
    "print(v18_numbers.head())"
   ]
  },
  {
   "cell_type": "markdown",
   "metadata": {
    "collapsed": true
   },
   "source": [
    "# File from Jeff Miller"
   ]
  },
  {
   "cell_type": "code",
   "execution_count": 3,
   "metadata": {},
   "outputs": [],
   "source": [
    "convert_table = pd.read_csv(\"Scaffold_names_conversion_table.csv\")"
   ]
  },
  {
   "cell_type": "code",
   "execution_count": 4,
   "metadata": {},
   "outputs": [
    {
     "data": {
      "text/html": [
       "<div>\n",
       "<style scoped>\n",
       "    .dataframe tbody tr th:only-of-type {\n",
       "        vertical-align: middle;\n",
       "    }\n",
       "\n",
       "    .dataframe tbody tr th {\n",
       "        vertical-align: top;\n",
       "    }\n",
       "\n",
       "    .dataframe thead th {\n",
       "        text-align: right;\n",
       "    }\n",
       "</style>\n",
       "<table border=\"1\" class=\"dataframe\">\n",
       "  <thead>\n",
       "    <tr style=\"text-align: right;\">\n",
       "      <th></th>\n",
       "      <th>Assembly</th>\n",
       "      <th>original</th>\n",
       "      <th>corrected</th>\n",
       "      <th>RefSeq.Accession.version</th>\n",
       "      <th>GenBank.Accession.version</th>\n",
       "      <th>NCBI.name</th>\n",
       "    </tr>\n",
       "  </thead>\n",
       "  <tbody>\n",
       "    <tr>\n",
       "      <th>0</th>\n",
       "      <td>Fundulus_heteroclitus-3.0.2</td>\n",
       "      <td>Scaffold0</td>\n",
       "      <td>Scaffold0</td>\n",
       "      <td>NW_012224401.1</td>\n",
       "      <td>KN805525.1</td>\n",
       "      <td>GPS_009135723.1</td>\n",
       "    </tr>\n",
       "    <tr>\n",
       "      <th>1</th>\n",
       "      <td>Fundulus_heteroclitus-3.0.2</td>\n",
       "      <td>Scaffold1</td>\n",
       "      <td>Scaffold1</td>\n",
       "      <td>NW_012224402.1</td>\n",
       "      <td>KN805526.1</td>\n",
       "      <td>GPS_009135724.1</td>\n",
       "    </tr>\n",
       "    <tr>\n",
       "      <th>2</th>\n",
       "      <td>Fundulus_heteroclitus-3.0.2</td>\n",
       "      <td>Scaffold2</td>\n",
       "      <td>Scaffold2</td>\n",
       "      <td>NW_012224403.1</td>\n",
       "      <td>KN805527.1</td>\n",
       "      <td>GPS_009135725.1</td>\n",
       "    </tr>\n",
       "    <tr>\n",
       "      <th>3</th>\n",
       "      <td>Fundulus_heteroclitus-3.0.2</td>\n",
       "      <td>Scaffold3</td>\n",
       "      <td>Scaffold3</td>\n",
       "      <td>NW_012224404.1</td>\n",
       "      <td>KN805528.1</td>\n",
       "      <td>GPS_009135726.1</td>\n",
       "    </tr>\n",
       "    <tr>\n",
       "      <th>4</th>\n",
       "      <td>Fundulus_heteroclitus-3.0.2</td>\n",
       "      <td>Scaffold4</td>\n",
       "      <td>Scaffold4</td>\n",
       "      <td>NW_012224405.1</td>\n",
       "      <td>KN805529.1</td>\n",
       "      <td>GPS_009135727.1</td>\n",
       "    </tr>\n",
       "  </tbody>\n",
       "</table>\n",
       "</div>"
      ],
      "text/plain": [
       "                      Assembly   original  corrected RefSeq.Accession.version  \\\n",
       "0  Fundulus_heteroclitus-3.0.2  Scaffold0  Scaffold0           NW_012224401.1   \n",
       "1  Fundulus_heteroclitus-3.0.2  Scaffold1  Scaffold1           NW_012224402.1   \n",
       "2  Fundulus_heteroclitus-3.0.2  Scaffold2  Scaffold2           NW_012224403.1   \n",
       "3  Fundulus_heteroclitus-3.0.2  Scaffold3  Scaffold3           NW_012224404.1   \n",
       "4  Fundulus_heteroclitus-3.0.2  Scaffold4  Scaffold4           NW_012224405.1   \n",
       "\n",
       "  GenBank.Accession.version        NCBI.name  \n",
       "0                KN805525.1  GPS_009135723.1  \n",
       "1                KN805526.1  GPS_009135724.1  \n",
       "2                KN805527.1  GPS_009135725.1  \n",
       "3                KN805528.1  GPS_009135726.1  \n",
       "4                KN805529.1  GPS_009135727.1  "
      ]
     },
     "execution_count": 4,
     "metadata": {},
     "output_type": "execute_result"
    }
   ],
   "source": [
    "convert_table.head()"
   ]
  },
  {
   "cell_type": "code",
   "execution_count": 10,
   "metadata": {},
   "outputs": [],
   "source": [
    "jeff_conversion = convert_table.dropna(subset=['original']).drop_duplicates(subset='RefSeq.Accession.version')[['RefSeq.Accession.version']]\n"
   ]
  },
  {
   "cell_type": "code",
   "execution_count": 11,
   "metadata": {},
   "outputs": [
    {
     "data": {
      "text/plain": [
       "(10180, 1)"
      ]
     },
     "execution_count": 11,
     "metadata": {},
     "output_type": "execute_result"
    }
   ],
   "source": [
    "jeff_conversion.shape"
   ]
  },
  {
   "cell_type": "code",
   "execution_count": null,
   "metadata": {
    "collapsed": true
   },
   "outputs": [],
   "source": []
  }
 ],
 "metadata": {
  "kernelspec": {
   "display_name": "Python 3",
   "language": "python",
   "name": "python3"
  },
  "language_info": {
   "codemirror_mode": {
    "name": "ipython",
    "version": 3
   },
   "file_extension": ".py",
   "mimetype": "text/x-python",
   "name": "python",
   "nbconvert_exporter": "python",
   "pygments_lexer": "ipython3",
   "version": "3.6.3"
  }
 },
 "nbformat": 4,
 "nbformat_minor": 2
}
